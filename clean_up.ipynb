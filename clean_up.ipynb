{
 "metadata": {
  "language_info": {
   "codemirror_mode": {
    "name": "ipython",
    "version": 3
   },
   "file_extension": ".py",
   "mimetype": "text/x-python",
   "name": "python",
   "nbconvert_exporter": "python",
   "pygments_lexer": "ipython3",
   "version": "3.8.7"
  },
  "orig_nbformat": 2,
  "kernelspec": {
   "name": "python387jvsc74a57bd094edbaacddaafd6d45ba5506bea1ce8a371c01e0c71d6cc8e1f8803236d6de55",
   "display_name": "Python 3.8.7 64-bit"
  }
 },
 "nbformat": 4,
 "nbformat_minor": 2,
 "cells": [
  {
   "cell_type": "code",
   "execution_count": 1,
   "metadata": {},
   "outputs": [],
   "source": [
    "import pandas as pd"
   ]
  },
  {
   "cell_type": "code",
   "execution_count": 2,
   "metadata": {},
   "outputs": [],
   "source": [
    "df = pd.read_csv(\"./outputs/combined/test.csv\")"
   ]
  },
  {
   "cell_type": "code",
   "execution_count": 23,
   "metadata": {
    "tags": []
   },
   "outputs": [],
   "source": [
    "# df = df.sort_values(\"Allotment Year\", ignore_index=True)\n",
    "date_of_joining = df[\"Date of Joining\"].values\n",
    "allotment_year = []\n",
    "corrected_date = []\n",
    "for i, item in enumerate(date_of_joining):\n",
    "    item = str(item).replace(\"-\", \"/\")\n",
    "    corrected_date.append(item)\n",
    "    # print(item.split(\"/\")[2])\n",
    "    if not str(item) == \"nan\":\n",
    "        if str(item) == \"####\":\n",
    "            allotment_year.append(item.split(\"/\")[2])\n",
    "        else:\n",
    "            allotment_year.append(df.loc[i, \"Allotment Year\"])\n",
    "    else:\n",
    "        allotment_year.append(df.loc[i, \"Allotment Year\"])"
   ]
  },
  {
   "cell_type": "code",
   "execution_count": 24,
   "metadata": {},
   "outputs": [],
   "source": [
    "df[\"Allotment Year\"] = allotment_year\n",
    "df[\"Date of Joining\"] = corrected_date"
   ]
  },
  {
   "cell_type": "code",
   "execution_count": 25,
   "metadata": {},
   "outputs": [],
   "source": [
    "df = df.sort_values(\"Date of Joining\", ignore_index=True)"
   ]
  },
  {
   "cell_type": "code",
   "execution_count": 28,
   "metadata": {},
   "outputs": [],
   "source": [
    "for i in df.loc[df[\"Allotment Year\"] == \"####\"].index:\n",
    "    date = df[\"Date of Joining\"][i]\n",
    "    year = str(date).split(\"/\")[2]\n",
    "    df[\"Allotment Year\"][i] = year"
   ]
  },
  {
   "cell_type": "code",
   "execution_count": 34,
   "metadata": {},
   "outputs": [],
   "source": [
    "df = df.sort_values(\"Allotment Year\", ignore_index=True)"
   ]
  },
  {
   "cell_type": "code",
   "execution_count": 35,
   "metadata": {},
   "outputs": [
    {
     "output_type": "execute_result",
     "data": {
      "text/plain": [
       "                       Name                         Service            Cadre  \\\n",
       "0         Shri B G Deshmukh  Indian Administrative Service      Maharashtra    \n",
       "1       Shri Gv Ramakrishna  Indian Administrative Service   Andhra Pradesh    \n",
       "2  Shri T R Satish Chandran  Indian Administrative Service        Karnataka    \n",
       "3            Shri Pp Nayyar  Indian Administrative Service            Bihar    \n",
       "4         Shri M Sivagnanam  Indian Administrative Service          Gujarat    \n",
       "\n",
       "  Allotment Year Date of Birth Date of Joining Identity No.  \\\n",
       "0           1951    26/03/1929      01/07/1951   02MH006800   \n",
       "1           1952    27/03/1930      01/07/1952   01AP004800   \n",
       "2           1952    14/04/1929      01/07/1952   02KN004100   \n",
       "3           1952    07/07/1930      01/07/1952   01BH005600   \n",
       "4           1952    23/02/1930      01/07/1952   01GJ003000   \n",
       "\n",
       "  Source of Recruitment Gender Place of Domicile  ...  \\\n",
       "0    Direct Recruitment   Male       Maharashtra  ...   \n",
       "1    Direct Recruitment   Male         Karnataka  ...   \n",
       "2    Direct Recruitment   Male         Karnataka  ...   \n",
       "3    Direct Recruitment   Male     Uttar Pradesh  ...   \n",
       "4    Direct Recruitment   Male        Tamil Nadu  ...   \n",
       "\n",
       "                Languages Known                      Retirement Reason  \\\n",
       "0        English Gujarati Hindi  Retired after Extension/Re-Employment   \n",
       "1  English Hindi Kannada Telugu  Retired after Extension/Re-Employment   \n",
       "2                 English Hindi  Retired after Extension/Re-Employment   \n",
       "3  Bengali English Punjabi Urdu                          Superannuated   \n",
       "4        English Gujarati Hindi                          Superannuated   \n",
       "\n",
       "  Qualification/University/Institute              Subject        Division  \\\n",
       "0                           Graduate               Botany        Ordinary   \n",
       "1                      Graduate|P.G.  Chemistry|Chemistry     First|First   \n",
       "2                   Diploma|Graduate    Economics|Physics  Ordinary|First   \n",
       "3                      Graduate|P.G.  Physics|Mathematics     First|First   \n",
       "4                      Graduate|P.G.  Economics|Economics   Second|Second   \n",
       "\n",
       "                                   Designation/Level  \\\n",
       "0  N.A./Secretary|OSD to Minister/Secretary|Secre...   \n",
       "1  N.A./Secretary|Secretary/Secretary Equivalent|...   \n",
       "2  N.A./Secretary Equivalent|Secretary/Secretary|...   \n",
       "3  OSD to Minister/Secretary Equivalent|Chairman/...   \n",
       "4  Managing Director/Secretary|Chief Secy/Secreta...   \n",
       "\n",
       "                 Ministry/Department/Office/Location  \\\n",
       "0  P M O|Cabinet Sectt|M/o Labour & Rehabilitatio...   \n",
       "1  |M/o Home Affairs/D/o Home/Commission on Centr...   \n",
       "2  P M O|M/o Power|Cabinet Sectt|Planning Commiss...   \n",
       "3  M/o Home Affairs/D/o Home|Cabinet Sectt|||M/o ...   \n",
       "4                        |||Planning Commission|||||   \n",
       "\n",
       "                                        Organisation  \\\n",
       "0  Centre|Centre|Centre|Centre|Cadre (AIS)|Cadre ...   \n",
       "1  Cadre (Inter-Cadre Deputation)|Centre|Cadre (A...   \n",
       "2  Centre|Centre|Centre|Centre|Cadre (AIS)|Cadre ...   \n",
       "3  Centre|Centre|Cadre (AIS)|Cadre (AIS)|Centre|C...   \n",
       "4  Cadre (AIS)|Cadre (AIS)|Cadre (AIS)|Centre|Cad...   \n",
       "\n",
       "                             Experience(major/minor)  \\\n",
       "0  General Administration / Personnel and General...   \n",
       "1  Personnel Mgmt / Personnel and General Adminis...   \n",
       "2  Personnel Mgmt / Personnel and General Adminis...   \n",
       "3  Home / Home|Internal Security / Home|General A...   \n",
       "4  Corporate Management (New) / Corporate Managem...   \n",
       "\n",
       "                                     Period(From/To)  \n",
       "0  01/03/1989 - 01/12/1990|01/08/1986 - 01/08/198...  \n",
       "1  01/04/1988 - 01/01/1989|07/05/1984 - 14/02/198...  \n",
       "2  01/06/1996 - 31/10/1987|01/01/1982 - 01/08/198...  \n",
       "3  01/12/1987 - 01/07/1988|01/08/1983 - 01/07/198...  \n",
       "4  01/08/1987 - 01/02/1988|01/12/1984 - 01/07/198...  \n",
       "\n",
       "[5 rows x 21 columns]"
      ],
      "text/html": "<div>\n<style scoped>\n    .dataframe tbody tr th:only-of-type {\n        vertical-align: middle;\n    }\n\n    .dataframe tbody tr th {\n        vertical-align: top;\n    }\n\n    .dataframe thead th {\n        text-align: right;\n    }\n</style>\n<table border=\"1\" class=\"dataframe\">\n  <thead>\n    <tr style=\"text-align: right;\">\n      <th></th>\n      <th>Name</th>\n      <th>Service</th>\n      <th>Cadre</th>\n      <th>Allotment Year</th>\n      <th>Date of Birth</th>\n      <th>Date of Joining</th>\n      <th>Identity No.</th>\n      <th>Source of Recruitment</th>\n      <th>Gender</th>\n      <th>Place of Domicile</th>\n      <th>...</th>\n      <th>Languages Known</th>\n      <th>Retirement Reason</th>\n      <th>Qualification/University/Institute</th>\n      <th>Subject</th>\n      <th>Division</th>\n      <th>Designation/Level</th>\n      <th>Ministry/Department/Office/Location</th>\n      <th>Organisation</th>\n      <th>Experience(major/minor)</th>\n      <th>Period(From/To)</th>\n    </tr>\n  </thead>\n  <tbody>\n    <tr>\n      <th>0</th>\n      <td>Shri B G Deshmukh</td>\n      <td>Indian Administrative Service</td>\n      <td>Maharashtra</td>\n      <td>1951</td>\n      <td>26/03/1929</td>\n      <td>01/07/1951</td>\n      <td>02MH006800</td>\n      <td>Direct Recruitment</td>\n      <td>Male</td>\n      <td>Maharashtra</td>\n      <td>...</td>\n      <td>English Gujarati Hindi</td>\n      <td>Retired after Extension/Re-Employment</td>\n      <td>Graduate</td>\n      <td>Botany</td>\n      <td>Ordinary</td>\n      <td>N.A./Secretary|OSD to Minister/Secretary|Secre...</td>\n      <td>P M O|Cabinet Sectt|M/o Labour &amp; Rehabilitatio...</td>\n      <td>Centre|Centre|Centre|Centre|Cadre (AIS)|Cadre ...</td>\n      <td>General Administration / Personnel and General...</td>\n      <td>01/03/1989 - 01/12/1990|01/08/1986 - 01/08/198...</td>\n    </tr>\n    <tr>\n      <th>1</th>\n      <td>Shri Gv Ramakrishna</td>\n      <td>Indian Administrative Service</td>\n      <td>Andhra Pradesh</td>\n      <td>1952</td>\n      <td>27/03/1930</td>\n      <td>01/07/1952</td>\n      <td>01AP004800</td>\n      <td>Direct Recruitment</td>\n      <td>Male</td>\n      <td>Karnataka</td>\n      <td>...</td>\n      <td>English Hindi Kannada Telugu</td>\n      <td>Retired after Extension/Re-Employment</td>\n      <td>Graduate|P.G.</td>\n      <td>Chemistry|Chemistry</td>\n      <td>First|First</td>\n      <td>N.A./Secretary|Secretary/Secretary Equivalent|...</td>\n      <td>|M/o Home Affairs/D/o Home/Commission on Centr...</td>\n      <td>Cadre (Inter-Cadre Deputation)|Centre|Cadre (A...</td>\n      <td>Personnel Mgmt / Personnel and General Adminis...</td>\n      <td>01/04/1988 - 01/01/1989|07/05/1984 - 14/02/198...</td>\n    </tr>\n    <tr>\n      <th>2</th>\n      <td>Shri T R Satish Chandran</td>\n      <td>Indian Administrative Service</td>\n      <td>Karnataka</td>\n      <td>1952</td>\n      <td>14/04/1929</td>\n      <td>01/07/1952</td>\n      <td>02KN004100</td>\n      <td>Direct Recruitment</td>\n      <td>Male</td>\n      <td>Karnataka</td>\n      <td>...</td>\n      <td>English Hindi</td>\n      <td>Retired after Extension/Re-Employment</td>\n      <td>Diploma|Graduate</td>\n      <td>Economics|Physics</td>\n      <td>Ordinary|First</td>\n      <td>N.A./Secretary Equivalent|Secretary/Secretary|...</td>\n      <td>P M O|M/o Power|Cabinet Sectt|Planning Commiss...</td>\n      <td>Centre|Centre|Centre|Centre|Cadre (AIS)|Cadre ...</td>\n      <td>Personnel Mgmt / Personnel and General Adminis...</td>\n      <td>01/06/1996 - 31/10/1987|01/01/1982 - 01/08/198...</td>\n    </tr>\n    <tr>\n      <th>3</th>\n      <td>Shri Pp Nayyar</td>\n      <td>Indian Administrative Service</td>\n      <td>Bihar</td>\n      <td>1952</td>\n      <td>07/07/1930</td>\n      <td>01/07/1952</td>\n      <td>01BH005600</td>\n      <td>Direct Recruitment</td>\n      <td>Male</td>\n      <td>Uttar Pradesh</td>\n      <td>...</td>\n      <td>Bengali English Punjabi Urdu</td>\n      <td>Superannuated</td>\n      <td>Graduate|P.G.</td>\n      <td>Physics|Mathematics</td>\n      <td>First|First</td>\n      <td>OSD to Minister/Secretary Equivalent|Chairman/...</td>\n      <td>M/o Home Affairs/D/o Home|Cabinet Sectt|||M/o ...</td>\n      <td>Centre|Centre|Cadre (AIS)|Cadre (AIS)|Centre|C...</td>\n      <td>Home / Home|Internal Security / Home|General A...</td>\n      <td>01/12/1987 - 01/07/1988|01/08/1983 - 01/07/198...</td>\n    </tr>\n    <tr>\n      <th>4</th>\n      <td>Shri M Sivagnanam</td>\n      <td>Indian Administrative Service</td>\n      <td>Gujarat</td>\n      <td>1952</td>\n      <td>23/02/1930</td>\n      <td>01/07/1952</td>\n      <td>01GJ003000</td>\n      <td>Direct Recruitment</td>\n      <td>Male</td>\n      <td>Tamil Nadu</td>\n      <td>...</td>\n      <td>English Gujarati Hindi</td>\n      <td>Superannuated</td>\n      <td>Graduate|P.G.</td>\n      <td>Economics|Economics</td>\n      <td>Second|Second</td>\n      <td>Managing Director/Secretary|Chief Secy/Secreta...</td>\n      <td>|||Planning Commission|||||</td>\n      <td>Cadre (AIS)|Cadre (AIS)|Cadre (AIS)|Centre|Cad...</td>\n      <td>Corporate Management (New) / Corporate Managem...</td>\n      <td>01/08/1987 - 01/02/1988|01/12/1984 - 01/07/198...</td>\n    </tr>\n  </tbody>\n</table>\n<p>5 rows × 21 columns</p>\n</div>"
     },
     "metadata": {},
     "execution_count": 35
    }
   ],
   "source": [
    "df.head()"
   ]
  },
  {
   "cell_type": "code",
   "execution_count": 37,
   "metadata": {},
   "outputs": [],
   "source": [
    "df.to_csv(\"./outputs/combined/test2.csv\", index=False)"
   ]
  },
  {
   "cell_type": "code",
   "execution_count": null,
   "metadata": {},
   "outputs": [],
   "source": []
  }
 ]
}