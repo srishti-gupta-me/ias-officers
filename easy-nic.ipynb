{
 "metadata": {
  "language_info": {
   "codemirror_mode": {
    "name": "ipython",
    "version": 3
   },
   "file_extension": ".py",
   "mimetype": "text/x-python",
   "name": "python",
   "nbconvert_exporter": "python",
   "pygments_lexer": "ipython3",
   "version": "3.8.7"
  },
  "orig_nbformat": 2,
  "kernelspec": {
   "name": "python387jvsc74a57bd094edbaacddaafd6d45ba5506bea1ce8a371c01e0c71d6cc8e1f8803236d6de55",
   "display_name": "Python 3.8.7 64-bit"
  }
 },
 "nbformat": 4,
 "nbformat_minor": 2,
 "cells": [
  {
   "cell_type": "code",
   "execution_count": 1,
   "metadata": {},
   "outputs": [],
   "source": [
    "from selenium import webdriver\n",
    "from bs4 import BeautifulSoup\n",
    "import pandas as pd\n",
    "import os\n",
    "import re\n",
    "import numpy as np"
   ]
  },
  {
   "cell_type": "code",
   "execution_count": 2,
   "metadata": {},
   "outputs": [],
   "source": [
    "url=\"https://easy.nic.in/civilListIAS/YrCurr/FinalCL.asp\"\n",
    "\n",
    "driver = webdriver.Chrome('C:/Users/vedan/Desktop/python-utils/chromedriver/chromedriver.exe')\n",
    "driver.get(url)\n",
    "options = driver.find_elements_by_tag_name(\"option\")[1:]"
   ]
  },
  {
   "cell_type": "code",
   "execution_count": 3,
   "metadata": {},
   "outputs": [],
   "source": [
    "import sys\n",
    "import math\n",
    "def make_verbose(done, total, max_lines=100):\n",
    "    num_lines = int((done/total)*max_lines)\n",
    "    lines = \"=\"*num_lines\n",
    "    spaces = \" \"*(max_lines-num_lines)\n",
    "    print(f\"\\r{lines}>{spaces}{done}/{total}\", end=\"\", sep=\" \", flush=True)"
   ]
  },
  {
   "cell_type": "code",
   "execution_count": 6,
   "metadata": {},
   "outputs": [
    {
     "output_type": "stream",
     "name": "stdout",
     "text": [
      "===================================================================================================> 999/1000"
     ]
    }
   ],
   "source": [
    "for i in range(1000):\n",
    "    make_verbose(i, 1000)"
   ]
  },
  {
   "cell_type": "code",
   "execution_count": 5,
   "metadata": {
    "tags": []
   },
   "outputs": [
    {
     "output_type": "stream",
     "name": "stdout",
     "text": [
      "\n",
      "AGMUT\n",
      "====================================================================================================>287/287\n",
      "Andhra Pradesh\n",
      "====================================================================================================>192/192\n",
      "Assam Meghalaya\n",
      "====================================================================================================>193/193\n",
      "Bihar\n",
      "====================================================================================================>240/240\n",
      "Chhattisgarh\n",
      "====================================================================================================>161/161\n",
      "Gujarat\n",
      "====================================================================================================>248/248\n",
      "Haryana\n",
      "====================================================================================================>182/182\n",
      "Himachal Pradesh\n",
      "====================================================================================================>115/115\n",
      "Jammu & Kashmir\n",
      "====================================================================================================>66/66\n",
      "Jharkhand\n",
      "====================================================================================================>156/156\n",
      "Karnataka\n",
      "====================================================================================================>249/249\n",
      "Kerala\n",
      "====================================================================================================>153/153\n",
      "Madhya Pradesh\n",
      "===================================================================================>                 312/373"
     ]
    }
   ],
   "source": [
    "names = []\n",
    "idnos = []\n",
    "dt_apps = []\n",
    "user_ids = []\n",
    "subjects = []\n",
    "dobs = []\n",
    "sources = []\n",
    "allotments = []\n",
    "cadre = []\n",
    "domecile = []\n",
    "post_eff = []\n",
    "current_posts = []\n",
    "payscales = []\n",
    "img_urls = []\n",
    "\n",
    "i=0\n",
    "\n",
    "for i in range(len(options[:])):\n",
    "    option = driver.find_elements_by_tag_name(\"option\")[1:][i]\n",
    "    print(\"\\n\"+option.text)\n",
    "\n",
    "    option.click()\n",
    "    trs = driver.find_elements_by_tag_name(\"table\")[1].find_elements_by_tag_name(\"tr\")\n",
    "    length = len(trs[1:])\n",
    "    for j, tr in enumerate(trs[1:]):\n",
    "        tds = tr.find_elements_by_tag_name(\"td\")\n",
    "        \n",
    "        make_verbose(j+1, length, 25)\n",
    "\n",
    "        # extract information from the first column on the website\n",
    "        names.append(tds[1].text.split(\"\\n\")[0])\n",
    "        idnos.append(str(re.findall('[A-Z0-9#]{6}',tds[1].text.split(\"\\n\")[1])[0]))\n",
    "        dt_apps.append(tds[1].text.split(\"\\n\")[2].split(\";\")[0])\n",
    "        sources.append(tds[1].text.split(\"\\n\")[2].split(\";\")[1])\n",
    "        try:\n",
    "            user_ids.append(str(tds[1].text.split(\"\\n\")[3]))\n",
    "        except:\n",
    "            user_ids.append(\"Not found\")\n",
    "\n",
    "        # extract information from the second column on the website\n",
    "        subjects.append(tds[2].text.replace(\"\\n\", \" \"))\n",
    "\n",
    "        # extract information from the third column on the website\n",
    "        dobs.append(tds[3].text.split(\"\\n\")[0])\n",
    "        try:\n",
    "            allotments.append(tds[3].text.split(\"\\n\")[1].split(\";\")[0])\n",
    "        except:\n",
    "            allotments.append(\"Not found\")\n",
    "        cadre.append(tds[3].text.split(\"\\n\")[1].split(\";\")[1])\n",
    "        try:\n",
    "            domecile.append(tds[3].text.split(\"\\n\")[2])\n",
    "        except:\n",
    "            domecile.append(\"Not found\")\n",
    "\n",
    "        # extract information from the fourth column on the website\n",
    "        try:\n",
    "            post_date = re.findall('\\d\\d/\\d\\d/\\d\\d\\d\\d',tds[4].text.replace(\"\\n\", \" \"))[0]\n",
    "            post_eff.append(post_date)\n",
    "            current_posts.append(tds[4].text.replace(\"\\n\", \" \").replace(post_date, \"\"))\n",
    "        except:\n",
    "            post_eff.append(\"Not found\")\n",
    "            current_posts.append(\"Not found\")\n",
    "\n",
    "        # extract information from the fifth column on the website\n",
    "        payscales.append(tds[5].text.replace(\"\\n\", \" \"))\n",
    "\n",
    "        # extract information from the sixth column on the website\n",
    "        try:\n",
    "            img_urls.append(tds[6].find_element_by_tag_name(\"img\").get_property(\"src\"))\n",
    "        except:\n",
    "            img_urls.append(\"Not found\")\n",
    "\n",
    "    i+=1\n",
    "\n",
    "df = pd.DataFrame()\n",
    "img_df = pd.DataFrame()\n",
    "df[\"Name\"] = names\n",
    "df[\"Identity No.\"] = idnos\n",
    "df[\"Dt. of Appointment\"] = dt_apps\n",
    "df[\"Source of Recruitment\"] = sources\n",
    "df[\"IntraIAS User-Id\"] = user_ids\n",
    "df[\"Qualification(Subject)\"] = subjects\n",
    "df[\"Date of Birth\"] = dobs\n",
    "df[\"Allotment Year\"] = allotments\n",
    "df[\"Cadre\"] = cadre\n",
    "df[\"Domicile\"] = domecile\n",
    "df[\"Present Post\"] = current_posts\n",
    "df[\"Post Effect From\"] = post_eff\n",
    "df[\"Payscale Remarks\"] = payscales\n",
    "# df[\"Image Src\"] = img_urls\n",
    "\n",
    "img_df[\"Name\"] = names\n",
    "img_df[\"Identity No.\"] = idnos\n",
    "img_df[\"Image Src\"] = img_urls\n",
    "\n",
    "\n",
    "img_df.to_csv(\"./outputs/easy-nic-in/easy-nic-img.csv\")\n",
    "df.to_csv(\"./outputs/easy-nic-in/easy-nic.csv\")\n",
    "print(\"saved\")"
   ]
  },
  {
   "cell_type": "code",
   "execution_count": 32,
   "metadata": {},
   "outputs": [],
   "source": [
    "driver.close()"
   ]
  }
 ]
}