{
 "metadata": {
  "language_info": {
   "codemirror_mode": {
    "name": "ipython",
    "version": 3
   },
   "file_extension": ".py",
   "mimetype": "text/x-python",
   "name": "python",
   "nbconvert_exporter": "python",
   "pygments_lexer": "ipython3",
   "version": "3.8.7"
  },
  "orig_nbformat": 2,
  "kernelspec": {
   "name": "python387jvsc74a57bd094edbaacddaafd6d45ba5506bea1ce8a371c01e0c71d6cc8e1f8803236d6de55",
   "display_name": "Python 3.8.7 64-bit"
  }
 },
 "nbformat": 4,
 "nbformat_minor": 2,
 "cells": [
  {
   "cell_type": "code",
   "execution_count": 1,
   "metadata": {},
   "outputs": [],
   "source": [
    "import pandas as pd\n",
    "import re"
   ]
  },
  {
   "cell_type": "code",
   "execution_count": 2,
   "metadata": {},
   "outputs": [],
   "source": [
    "easynic = pd.read_csv(\"./outputs/easy-nic-in/easy-nic.csv\")\n",
    "supremo = pd.read_csv(\"./outputs/supremo-nic-in/supremo-nic.csv\")"
   ]
  },
  {
   "cell_type": "code",
   "execution_count": 3,
   "metadata": {},
   "outputs": [
    {
     "output_type": "execute_result",
     "data": {
      "text/plain": [
       "Empty DataFrame\n",
       "Columns: [Unnamed: 0, Name, Identity No., Dt. of Appointment, Source of Recruitment, IntraIAS User-Id, Qualification(Subject), Date of Birth, Allotment Year, Cadre, Domicile, Present Post, Post Effect From, Payscale Remarks]\n",
       "Index: []"
      ],
      "text/html": "<div>\n<style scoped>\n    .dataframe tbody tr th:only-of-type {\n        vertical-align: middle;\n    }\n\n    .dataframe tbody tr th {\n        vertical-align: top;\n    }\n\n    .dataframe thead th {\n        text-align: right;\n    }\n</style>\n<table border=\"1\" class=\"dataframe\">\n  <thead>\n    <tr style=\"text-align: right;\">\n      <th></th>\n      <th>Unnamed: 0</th>\n      <th>Name</th>\n      <th>Identity No.</th>\n      <th>Dt. of Appointment</th>\n      <th>Source of Recruitment</th>\n      <th>IntraIAS User-Id</th>\n      <th>Qualification(Subject)</th>\n      <th>Date of Birth</th>\n      <th>Allotment Year</th>\n      <th>Cadre</th>\n      <th>Domicile</th>\n      <th>Present Post</th>\n      <th>Post Effect From</th>\n      <th>Payscale Remarks</th>\n    </tr>\n  </thead>\n  <tbody>\n  </tbody>\n</table>\n</div>"
     },
     "metadata": {},
     "execution_count": 3
    }
   ],
   "source": [
    "easynic.loc[easynic[\"Identity No.\"] == \"CG1.12E+03\"]"
   ]
  },
  {
   "cell_type": "code",
   "execution_count": 4,
   "metadata": {},
   "outputs": [],
   "source": [
    "start_index = 0\n",
    "end_index = 0\n",
    "for i, year in enumerate(supremo[\"Allotment Year\"]):\n",
    "    if year == 1983:\n",
    "        start_index = i\n",
    "    if year == 2020:\n",
    "        end_index = i\n",
    "        break"
   ]
  },
  {
   "cell_type": "code",
   "execution_count": 5,
   "metadata": {},
   "outputs": [],
   "source": [
    "comparison_set = supremo[start_index:end_index]"
   ]
  },
  {
   "cell_type": "code",
   "execution_count": 6,
   "metadata": {},
   "outputs": [
    {
     "output_type": "execute_result",
     "data": {
      "text/plain": [
       "                                Name                         Service  \\\n",
       "3514       Shri Narendra Kumar Aswal  Indian Administrative Service    \n",
       "3515           Shri Banwari Lal Arya  Indian Administrative Service    \n",
       "3516            Shri Nar Hari Sharma  Indian Administrative Service    \n",
       "3517                 Shri Pc Agarwal  Indian Administrative Service    \n",
       "3518                   Shri Vp Goyal  Indian Administrative Service    \n",
       "...                              ...                             ...   \n",
       "9565          Shri Nitin Kumar Singh  Indian Administrative Service    \n",
       "9566               Ms. Amrisha Bains  Indian Administrative Service    \n",
       "9567                    Shri J Sonal  Indian Administrative Service    \n",
       "9568            Shri Abhishek Ranjan  Indian Administrative Service    \n",
       "9569  Ms. Bhapkar Snehal Purushottam  Indian Administrative Service    \n",
       "\n",
       "              Cadre  Allotment Year Date of Birth Date of Joining  \\\n",
       "3514  Chhattisgarh             1983    15/05/1957      01/09/1983   \n",
       "3515     Rajasthan             1984    19/04/1951      21/08/1984   \n",
       "3516     Rajasthan             1984    06/12/1945      24/07/1992   \n",
       "3517     Rajasthan             1984    21/07/1939      24/07/1992   \n",
       "3518     Rajasthan             1984    03/03/1938      25/08/1992   \n",
       "...             ...             ...           ...             ...   \n",
       "9565         Bihar             2018    25/03/1992      01/09/2018   \n",
       "9566         Bihar             2018    19/09/1988      01/09/2018   \n",
       "9567        Odisha             2018    25/12/1989      01/09/2018   \n",
       "9568         Bihar             2018    14/11/1991      01/09/2018   \n",
       "9569       Gujarat             2018    31/08/1985      01/09/2018   \n",
       "\n",
       "     Identity No.                  Source of Recruitment  Gender  \\\n",
       "3514   01CG035800                     Direct Recruitment    Male   \n",
       "3515   01RJ025400                     Direct Recruitment    Male   \n",
       "3516   01RJ025511  By Promotion from State Civil Service    Male   \n",
       "3517   01RJ025512  By Promotion from State Civil Service    Male   \n",
       "3518   01RJ025513  By Promotion from State Civil Service    Male   \n",
       "...           ...                                    ...     ...   \n",
       "9565   01BH117D06                     Direct Recruitment    Male   \n",
       "9566   01BH117D07                     Direct Recruitment  Female   \n",
       "9567   01OD117Q05                     Direct Recruitment    Male   \n",
       "9568   01BH117D08                     Direct Recruitment    Male   \n",
       "9569   01GJ117F09                     Direct Recruitment  Female   \n",
       "\n",
       "     Place of Domicile  ...  Languages Known Retirement Reason  \\\n",
       "3514         Rajasthan  ...          English     Superannuated   \n",
       "3515         Rajasthan  ...  English Punjabi     Superannuated   \n",
       "3516         Rajasthan  ...    English Hindi     Superannuated   \n",
       "3517         Rajasthan  ...    English Hindi     Superannuated   \n",
       "3518         Rajasthan  ...    English Hindi     Superannuated   \n",
       "...                ...  ...              ...               ...   \n",
       "9565     Uttar Pradesh  ...              NaN           Serving   \n",
       "9566            Punjab  ...              NaN           Serving   \n",
       "9567            Odisha  ...              NaN           Serving   \n",
       "9568             Bihar  ...              NaN           Serving   \n",
       "9569       Maharashtra  ...              NaN           Serving   \n",
       "\n",
       "                     Qualification/University/Institute  \\\n",
       "3514                                      Graduate|P.G.   \n",
       "3515                                      Graduate|P.G.   \n",
       "3516                                     Graduate|LL.B.   \n",
       "3517                                                NaN   \n",
       "3518                                                NaN   \n",
       "...                                                 ...   \n",
       "9565                      B.Tech./IIT Kanpur/IIT Kanpur   \n",
       "9566  B.E. (Hons)/Panjab University/Department of Ch...   \n",
       "9567  M.A./Tata Institute of Social Sciences Mumbai/...   \n",
       "9568        B.Tech./I I T Roorkee Roorkee/I I T Roorkee   \n",
       "9569  B.A./University of Pune|LL.B./Dr Babasaheb Amb...   \n",
       "\n",
       "                          Subject                      Division  \\\n",
       "3514      Chemistry|Political Sc.                  First|Second   \n",
       "3515  Political Sc.|Political Sc.                  Third|Second   \n",
       "3516              English Lit|Law                  Second|First   \n",
       "3517                          NaN                           NaN   \n",
       "3518                          NaN                           NaN   \n",
       "...                           ...                           ...   \n",
       "9565                Chemical Engg                         First   \n",
       "9566                Chemical Engg        First with Distinction   \n",
       "9567              Human Res Mngmt                         First   \n",
       "9568                  Computer Sc                         First   \n",
       "9569                Geography|Law  First with Distinction|First   \n",
       "\n",
       "                                      Designation/Level  \\\n",
       "3514  Additional Chief Secy/Secretary|Additional Chi...   \n",
       "3515  Secretary/Additional Secretary|Member/Joint Se...   \n",
       "3516  Member/Director|Spl Secy/Director|Spl Secy/Dir...   \n",
       "3517  Managing Director/Deputy Secretary|Additional ...   \n",
       "3518                  Deputy Secretary/Deputy Secretary   \n",
       "...                                                 ...   \n",
       "9565  Assistant Collector & Assistant Magistrate/Not...   \n",
       "9566  Assistant Collector & Assistant Magistrate/Not...   \n",
       "9567                                 N.A./Not Available   \n",
       "9568                                 N.A./Not Available   \n",
       "9569    Supernumerary Assistant Collector/Not Available   \n",
       "\n",
       "                    Ministry/Department/Office/Location  \\\n",
       "3514  Planning Deptt/Chhattisgarh|SC & ST Dev Deptt|...   \n",
       "3515  Forest Deptt/Jaipur|Revenue Deptt/Bd of Revenu...   \n",
       "3516  Appellate Tribunal/Jaipur|Education Deptt||D/o...   \n",
       "3517                                           |Udaipur   \n",
       "3518                                             Jaipur   \n",
       "...                                                 ...   \n",
       "9565                                                NaN   \n",
       "9566                              Collectorate/Vaishali   \n",
       "9567                                                NaN   \n",
       "9568                                                NaN   \n",
       "9569                       O/o D M & Collector/Jamnagar   \n",
       "\n",
       "                                           Organisation  \\\n",
       "3514  Cadre (AIS)|Cadre (AIS)|Cadre (AIS)|Cadre (AIS...   \n",
       "3515  Cadre (AIS)|Cadre (AIS)|Cadre (AIS)|Cadre (AIS...   \n",
       "3516  Cadre (AIS)|Cadre (AIS)|Cadre (AIS)|Cadre (AIS...   \n",
       "3517                            Cadre (AIS)|Cadre (AIS)   \n",
       "3518                                        Cadre (AIS)   \n",
       "...                                                 ...   \n",
       "9565                                        Cadre (AIS)   \n",
       "9566                                        Cadre (AIS)   \n",
       "9567                                        Cadre (AIS)   \n",
       "9568                                        Cadre (AIS)   \n",
       "9569                                        Cadre (AIS)   \n",
       "\n",
       "                                Experience(major/minor)  \\\n",
       "3514  Policy Planning / Planning & Prog Implementati...   \n",
       "3515  Forests / Environment & Forests|Revenue / Fina...   \n",
       "3516  Judicial / Law & Justice|Education / Human Res...   \n",
       "3517  Cooperatives / Agriculture & Cooperation|Excis...   \n",
       "3518                    Forests / Environment & Forests   \n",
       "...                                                 ...   \n",
       "9565  Land Revenue Mgmt & District Admn / Land Reven...   \n",
       "9566  N.Applicable/N.Available / N.Applicable/N.Avai...   \n",
       "9567                         / N.Applicable/N.Available   \n",
       "9568                         / N.Applicable/N.Available   \n",
       "9569  N.Applicable/N.Available / N.Applicable/N.Avai...   \n",
       "\n",
       "                                        Period(From/To)  \n",
       "3514  15/02/2017 - 31/05/2017|27/02/2014 - 31/05/201...  \n",
       "3515  01/01/2009 - 30/04/2011|04/07/2008 - 07/10/200...  \n",
       "3516  14/09/2005 - 31/12/2005|01/07/1999 - 01/08/200...  \n",
       "3517    01/10/1996 - 31/07/1997|01/07/1992 - 01/09/1993  \n",
       "3518                            01/08/1992 - 31/03/1996  \n",
       "...                                                 ...  \n",
       "9565                            18/05/2019 - 28/08/2019  \n",
       "9566                            20/05/2019 - 28/08/2019  \n",
       "9567                                       01/09/2018 -  \n",
       "9568                                       01/09/2018 -  \n",
       "9569                            17/06/2019 - 13/08/2019  \n",
       "\n",
       "[6056 rows x 21 columns]"
      ],
      "text/html": "<div>\n<style scoped>\n    .dataframe tbody tr th:only-of-type {\n        vertical-align: middle;\n    }\n\n    .dataframe tbody tr th {\n        vertical-align: top;\n    }\n\n    .dataframe thead th {\n        text-align: right;\n    }\n</style>\n<table border=\"1\" class=\"dataframe\">\n  <thead>\n    <tr style=\"text-align: right;\">\n      <th></th>\n      <th>Name</th>\n      <th>Service</th>\n      <th>Cadre</th>\n      <th>Allotment Year</th>\n      <th>Date of Birth</th>\n      <th>Date of Joining</th>\n      <th>Identity No.</th>\n      <th>Source of Recruitment</th>\n      <th>Gender</th>\n      <th>Place of Domicile</th>\n      <th>...</th>\n      <th>Languages Known</th>\n      <th>Retirement Reason</th>\n      <th>Qualification/University/Institute</th>\n      <th>Subject</th>\n      <th>Division</th>\n      <th>Designation/Level</th>\n      <th>Ministry/Department/Office/Location</th>\n      <th>Organisation</th>\n      <th>Experience(major/minor)</th>\n      <th>Period(From/To)</th>\n    </tr>\n  </thead>\n  <tbody>\n    <tr>\n      <th>3514</th>\n      <td>Shri Narendra Kumar Aswal</td>\n      <td>Indian Administrative Service</td>\n      <td>Chhattisgarh</td>\n      <td>1983</td>\n      <td>15/05/1957</td>\n      <td>01/09/1983</td>\n      <td>01CG035800</td>\n      <td>Direct Recruitment</td>\n      <td>Male</td>\n      <td>Rajasthan</td>\n      <td>...</td>\n      <td>English</td>\n      <td>Superannuated</td>\n      <td>Graduate|P.G.</td>\n      <td>Chemistry|Political Sc.</td>\n      <td>First|Second</td>\n      <td>Additional Chief Secy/Secretary|Additional Chi...</td>\n      <td>Planning Deptt/Chhattisgarh|SC &amp; ST Dev Deptt|...</td>\n      <td>Cadre (AIS)|Cadre (AIS)|Cadre (AIS)|Cadre (AIS...</td>\n      <td>Policy Planning / Planning &amp; Prog Implementati...</td>\n      <td>15/02/2017 - 31/05/2017|27/02/2014 - 31/05/201...</td>\n    </tr>\n    <tr>\n      <th>3515</th>\n      <td>Shri Banwari Lal Arya</td>\n      <td>Indian Administrative Service</td>\n      <td>Rajasthan</td>\n      <td>1984</td>\n      <td>19/04/1951</td>\n      <td>21/08/1984</td>\n      <td>01RJ025400</td>\n      <td>Direct Recruitment</td>\n      <td>Male</td>\n      <td>Rajasthan</td>\n      <td>...</td>\n      <td>English Punjabi</td>\n      <td>Superannuated</td>\n      <td>Graduate|P.G.</td>\n      <td>Political Sc.|Political Sc.</td>\n      <td>Third|Second</td>\n      <td>Secretary/Additional Secretary|Member/Joint Se...</td>\n      <td>Forest Deptt/Jaipur|Revenue Deptt/Bd of Revenu...</td>\n      <td>Cadre (AIS)|Cadre (AIS)|Cadre (AIS)|Cadre (AIS...</td>\n      <td>Forests / Environment &amp; Forests|Revenue / Fina...</td>\n      <td>01/01/2009 - 30/04/2011|04/07/2008 - 07/10/200...</td>\n    </tr>\n    <tr>\n      <th>3516</th>\n      <td>Shri Nar Hari Sharma</td>\n      <td>Indian Administrative Service</td>\n      <td>Rajasthan</td>\n      <td>1984</td>\n      <td>06/12/1945</td>\n      <td>24/07/1992</td>\n      <td>01RJ025511</td>\n      <td>By Promotion from State Civil Service</td>\n      <td>Male</td>\n      <td>Rajasthan</td>\n      <td>...</td>\n      <td>English Hindi</td>\n      <td>Superannuated</td>\n      <td>Graduate|LL.B.</td>\n      <td>English Lit|Law</td>\n      <td>Second|First</td>\n      <td>Member/Director|Spl Secy/Director|Spl Secy/Dir...</td>\n      <td>Appellate Tribunal/Jaipur|Education Deptt||D/o...</td>\n      <td>Cadre (AIS)|Cadre (AIS)|Cadre (AIS)|Cadre (AIS...</td>\n      <td>Judicial / Law &amp; Justice|Education / Human Res...</td>\n      <td>14/09/2005 - 31/12/2005|01/07/1999 - 01/08/200...</td>\n    </tr>\n    <tr>\n      <th>3517</th>\n      <td>Shri Pc Agarwal</td>\n      <td>Indian Administrative Service</td>\n      <td>Rajasthan</td>\n      <td>1984</td>\n      <td>21/07/1939</td>\n      <td>24/07/1992</td>\n      <td>01RJ025512</td>\n      <td>By Promotion from State Civil Service</td>\n      <td>Male</td>\n      <td>Rajasthan</td>\n      <td>...</td>\n      <td>English Hindi</td>\n      <td>Superannuated</td>\n      <td>NaN</td>\n      <td>NaN</td>\n      <td>NaN</td>\n      <td>Managing Director/Deputy Secretary|Additional ...</td>\n      <td>|Udaipur</td>\n      <td>Cadre (AIS)|Cadre (AIS)</td>\n      <td>Cooperatives / Agriculture &amp; Cooperation|Excis...</td>\n      <td>01/10/1996 - 31/07/1997|01/07/1992 - 01/09/1993</td>\n    </tr>\n    <tr>\n      <th>3518</th>\n      <td>Shri Vp Goyal</td>\n      <td>Indian Administrative Service</td>\n      <td>Rajasthan</td>\n      <td>1984</td>\n      <td>03/03/1938</td>\n      <td>25/08/1992</td>\n      <td>01RJ025513</td>\n      <td>By Promotion from State Civil Service</td>\n      <td>Male</td>\n      <td>Rajasthan</td>\n      <td>...</td>\n      <td>English Hindi</td>\n      <td>Superannuated</td>\n      <td>NaN</td>\n      <td>NaN</td>\n      <td>NaN</td>\n      <td>Deputy Secretary/Deputy Secretary</td>\n      <td>Jaipur</td>\n      <td>Cadre (AIS)</td>\n      <td>Forests / Environment &amp; Forests</td>\n      <td>01/08/1992 - 31/03/1996</td>\n    </tr>\n    <tr>\n      <th>...</th>\n      <td>...</td>\n      <td>...</td>\n      <td>...</td>\n      <td>...</td>\n      <td>...</td>\n      <td>...</td>\n      <td>...</td>\n      <td>...</td>\n      <td>...</td>\n      <td>...</td>\n      <td>...</td>\n      <td>...</td>\n      <td>...</td>\n      <td>...</td>\n      <td>...</td>\n      <td>...</td>\n      <td>...</td>\n      <td>...</td>\n      <td>...</td>\n      <td>...</td>\n      <td>...</td>\n    </tr>\n    <tr>\n      <th>9565</th>\n      <td>Shri Nitin Kumar Singh</td>\n      <td>Indian Administrative Service</td>\n      <td>Bihar</td>\n      <td>2018</td>\n      <td>25/03/1992</td>\n      <td>01/09/2018</td>\n      <td>01BH117D06</td>\n      <td>Direct Recruitment</td>\n      <td>Male</td>\n      <td>Uttar Pradesh</td>\n      <td>...</td>\n      <td>NaN</td>\n      <td>Serving</td>\n      <td>B.Tech./IIT Kanpur/IIT Kanpur</td>\n      <td>Chemical Engg</td>\n      <td>First</td>\n      <td>Assistant Collector &amp; Assistant Magistrate/Not...</td>\n      <td>NaN</td>\n      <td>Cadre (AIS)</td>\n      <td>Land Revenue Mgmt &amp; District Admn / Land Reven...</td>\n      <td>18/05/2019 - 28/08/2019</td>\n    </tr>\n    <tr>\n      <th>9566</th>\n      <td>Ms. Amrisha Bains</td>\n      <td>Indian Administrative Service</td>\n      <td>Bihar</td>\n      <td>2018</td>\n      <td>19/09/1988</td>\n      <td>01/09/2018</td>\n      <td>01BH117D07</td>\n      <td>Direct Recruitment</td>\n      <td>Female</td>\n      <td>Punjab</td>\n      <td>...</td>\n      <td>NaN</td>\n      <td>Serving</td>\n      <td>B.E. (Hons)/Panjab University/Department of Ch...</td>\n      <td>Chemical Engg</td>\n      <td>First with Distinction</td>\n      <td>Assistant Collector &amp; Assistant Magistrate/Not...</td>\n      <td>Collectorate/Vaishali</td>\n      <td>Cadre (AIS)</td>\n      <td>N.Applicable/N.Available / N.Applicable/N.Avai...</td>\n      <td>20/05/2019 - 28/08/2019</td>\n    </tr>\n    <tr>\n      <th>9567</th>\n      <td>Shri J Sonal</td>\n      <td>Indian Administrative Service</td>\n      <td>Odisha</td>\n      <td>2018</td>\n      <td>25/12/1989</td>\n      <td>01/09/2018</td>\n      <td>01OD117Q05</td>\n      <td>Direct Recruitment</td>\n      <td>Male</td>\n      <td>Odisha</td>\n      <td>...</td>\n      <td>NaN</td>\n      <td>Serving</td>\n      <td>M.A./Tata Institute of Social Sciences Mumbai/...</td>\n      <td>Human Res Mngmt</td>\n      <td>First</td>\n      <td>N.A./Not Available</td>\n      <td>NaN</td>\n      <td>Cadre (AIS)</td>\n      <td>/ N.Applicable/N.Available</td>\n      <td>01/09/2018 -</td>\n    </tr>\n    <tr>\n      <th>9568</th>\n      <td>Shri Abhishek Ranjan</td>\n      <td>Indian Administrative Service</td>\n      <td>Bihar</td>\n      <td>2018</td>\n      <td>14/11/1991</td>\n      <td>01/09/2018</td>\n      <td>01BH117D08</td>\n      <td>Direct Recruitment</td>\n      <td>Male</td>\n      <td>Bihar</td>\n      <td>...</td>\n      <td>NaN</td>\n      <td>Serving</td>\n      <td>B.Tech./I I T Roorkee Roorkee/I I T Roorkee</td>\n      <td>Computer Sc</td>\n      <td>First</td>\n      <td>N.A./Not Available</td>\n      <td>NaN</td>\n      <td>Cadre (AIS)</td>\n      <td>/ N.Applicable/N.Available</td>\n      <td>01/09/2018 -</td>\n    </tr>\n    <tr>\n      <th>9569</th>\n      <td>Ms. Bhapkar Snehal Purushottam</td>\n      <td>Indian Administrative Service</td>\n      <td>Gujarat</td>\n      <td>2018</td>\n      <td>31/08/1985</td>\n      <td>01/09/2018</td>\n      <td>01GJ117F09</td>\n      <td>Direct Recruitment</td>\n      <td>Female</td>\n      <td>Maharashtra</td>\n      <td>...</td>\n      <td>NaN</td>\n      <td>Serving</td>\n      <td>B.A./University of Pune|LL.B./Dr Babasaheb Amb...</td>\n      <td>Geography|Law</td>\n      <td>First with Distinction|First</td>\n      <td>Supernumerary Assistant Collector/Not Available</td>\n      <td>O/o D M &amp; Collector/Jamnagar</td>\n      <td>Cadre (AIS)</td>\n      <td>N.Applicable/N.Available / N.Applicable/N.Avai...</td>\n      <td>17/06/2019 - 13/08/2019</td>\n    </tr>\n  </tbody>\n</table>\n<p>6056 rows × 21 columns</p>\n</div>"
     },
     "metadata": {},
     "execution_count": 6
    }
   ],
   "source": [
    "comparison_set"
   ]
  },
  {
   "cell_type": "code",
   "execution_count": 7,
   "metadata": {},
   "outputs": [
    {
     "output_type": "execute_result",
     "data": {
      "text/plain": [
       "5205"
      ]
     },
     "metadata": {},
     "execution_count": 7
    }
   ],
   "source": [
    "len(easynic)"
   ]
  },
  {
   "cell_type": "code",
   "execution_count": 8,
   "metadata": {},
   "outputs": [
    {
     "output_type": "execute_result",
     "data": {
      "text/plain": [
       "6056"
      ]
     },
     "metadata": {},
     "execution_count": 8
    }
   ],
   "source": [
    "len(comparison_set)"
   ]
  },
  {
   "cell_type": "code",
   "execution_count": 9,
   "metadata": {},
   "outputs": [],
   "source": [
    "def find_in(my_list, value):\n",
    "    for list_value in my_list:\n",
    "        if str(value) in str(list_value):\n",
    "            return True\n",
    "    \n",
    "    return False"
   ]
  },
  {
   "cell_type": "code",
   "execution_count": 10,
   "metadata": {},
   "outputs": [],
   "source": [
    "mapper = {\n",
    "    \"UT\": \"A G M U T\",\n",
    "    \"AP\": \"Andhra Pradesh\",\n",
    "    \"AM\": \"Assam Meghalya\",\n",
    "    \"BH\": \"Bihar\",\n",
    "    \"CG\": \"Chhasttisgarh\",\n",
    "    \"GJ\": \"Gujarat\",\n",
    "    \"HY\": \"Haryana\",\n",
    "    \"HP\": \"Himachal Pradesh\",\n",
    "    \"JK\": \"Jammu & Kashmir\",\n",
    "    \"JH\": \"Jharkhand\",\n",
    "    \"KN\": \"Karnataka\",\n",
    "    \"KL\": \"Kerala\",\n",
    "    \"MP\": \"Madhya Pradesh\",\n",
    "    \"MH\": \"Maharastra\",\n",
    "    \"MN\": \"Manipur\",\n",
    "    \"NL\": \"Nagaland\",\n",
    "    \"OR\": \"Odisha\",\n",
    "    \"PB\": \"Punjab\",\n",
    "    \"RJ\": \"Rajasthan\",\n",
    "    \"SK\": \"Sikkim\",\n",
    "    \"TN\": \"Tamil Nadu\",\n",
    "    \"TG\": \"Telangana\",\n",
    "    \"TR\": \"Tripura\",\n",
    "    \"UP\": \"Uttar Pradesh\",\n",
    "    \"UD\": \"Uttarakhand\",\n",
    "    \"WB\": \"West Bengal\"\n",
    "}"
   ]
  },
  {
   "cell_type": "code",
   "execution_count": 11,
   "metadata": {},
   "outputs": [],
   "source": [
    "easynic = easynic.drop([\"Unnamed: 0\"], axis=1)"
   ]
  },
  {
   "cell_type": "code",
   "execution_count": 12,
   "metadata": {},
   "outputs": [],
   "source": [
    "def get_key(my_dict, val):\n",
    "    for key, value in my_dict.items():\n",
    "         if val == value:\n",
    "             return key"
   ]
  },
  {
   "cell_type": "code",
   "execution_count": 13,
   "metadata": {},
   "outputs": [],
   "source": [
    "for i in easynic.index:\n",
    "    prefix = \"0\" if len(str(easynic.loc[i,\"Identity No.\"])) < 6 else \"\"\n",
    "    easynic.loc[i, \"Identity No.\"] = str(easynic.loc[i, \"Cadre\"]) + prefix + str(easynic.loc[i,\"Identity No.\"])"
   ]
  },
  {
   "cell_type": "code",
   "execution_count": 14,
   "metadata": {},
   "outputs": [
    {
     "output_type": "execute_result",
     "data": {
      "text/plain": [
       "0       UT016100\n",
       "1       UT016500\n",
       "2       UT016400\n",
       "3       UT016800\n",
       "4       UT016900\n",
       "          ...   \n",
       "5200    WB118X08\n",
       "5201    WB118X09\n",
       "5202    WB118X10\n",
       "5203    WB118X11\n",
       "5204    WB118X12\n",
       "Name: Identity No., Length: 5205, dtype: object"
      ]
     },
     "metadata": {},
     "execution_count": 14
    }
   ],
   "source": [
    "easynic[\"Identity No.\"]"
   ]
  },
  {
   "cell_type": "code",
   "execution_count": 15,
   "metadata": {},
   "outputs": [],
   "source": [
    "new_cadra = []\n",
    "for item in easynic[\"Cadre\"]:\n",
    "    new_cadra.append(mapper[item])"
   ]
  },
  {
   "cell_type": "code",
   "execution_count": 16,
   "metadata": {},
   "outputs": [],
   "source": [
    "easynic[\"Cadre\"] = new_cadra"
   ]
  },
  {
   "cell_type": "code",
   "execution_count": 17,
   "metadata": {},
   "outputs": [
    {
     "output_type": "execute_result",
     "data": {
      "text/plain": [
       "['CG035800', 'RJ025400', 'RJ025511', 'RJ025512', 'RJ025513']"
      ]
     },
     "metadata": {},
     "execution_count": 17
    }
   ],
   "source": [
    "temp = []\n",
    "for val in comparison_set[\"Identity No.\"]:\n",
    "    temp.append(str(val)[2:])\n",
    "\n",
    "temp[:5]"
   ]
  },
  {
   "cell_type": "code",
   "execution_count": 18,
   "metadata": {
    "tags": []
   },
   "outputs": [],
   "source": [
    "not_present = []\n",
    "for id_val in easynic[\"Identity No.\"]:\n",
    "    if len(id_val) < 8:\n",
    "        id_val = id_val[:2] + \"0\" + id_val[2:]\n",
    "    if not find_in(temp, id_val):\n",
    "        not_present.append(id_val)"
   ]
  },
  {
   "cell_type": "code",
   "execution_count": 19,
   "metadata": {},
   "outputs": [
    {
     "output_type": "execute_result",
     "data": {
      "text/plain": [
       "1855"
      ]
     },
     "metadata": {},
     "execution_count": 19
    }
   ],
   "source": [
    "len(not_present)"
   ]
  },
  {
   "cell_type": "code",
   "execution_count": 20,
   "metadata": {},
   "outputs": [],
   "source": [
    "not_present_df = pd.DataFrame(columns=easynic.columns)"
   ]
  },
  {
   "cell_type": "code",
   "execution_count": 21,
   "metadata": {},
   "outputs": [],
   "source": [
    "for id_val in not_present:\n",
    "    rows = easynic.loc[easynic[\"Identity No.\"] == id_val]\n",
    "    not_present_df = not_present_df.append(rows, ignore_index=True)"
   ]
  },
  {
   "cell_type": "code",
   "execution_count": 22,
   "metadata": {},
   "outputs": [
    {
     "output_type": "execute_result",
     "data": {
      "text/plain": [
       "                      Name Identity No. Dt. of Appointment  \\\n",
       "251  Shri Shashwat Saurabh     UT115T01         29-08-2016   \n",
       "\n",
       "    Source of Recruitment IntraIAS User-Id Qualification(Subject)  \\\n",
       "251                    RR        Not found       M.Sc.(Economics)   \n",
       "\n",
       "    Date of Birth Allotment Year      Cadre   Domicile  \\\n",
       "251    28-10-1987           2016  A G M U T  Rajasthan   \n",
       "\n",
       "                                    Present Post Post Effect From  \\\n",
       "251  Sub-Collector, Revenue, Pondicherry(South)        07-01-2019   \n",
       "\n",
       "               Payscale Remarks  \n",
       "251  Level 10 in the Pay Matrix  "
      ],
      "text/html": "<div>\n<style scoped>\n    .dataframe tbody tr th:only-of-type {\n        vertical-align: middle;\n    }\n\n    .dataframe tbody tr th {\n        vertical-align: top;\n    }\n\n    .dataframe thead th {\n        text-align: right;\n    }\n</style>\n<table border=\"1\" class=\"dataframe\">\n  <thead>\n    <tr style=\"text-align: right;\">\n      <th></th>\n      <th>Name</th>\n      <th>Identity No.</th>\n      <th>Dt. of Appointment</th>\n      <th>Source of Recruitment</th>\n      <th>IntraIAS User-Id</th>\n      <th>Qualification(Subject)</th>\n      <th>Date of Birth</th>\n      <th>Allotment Year</th>\n      <th>Cadre</th>\n      <th>Domicile</th>\n      <th>Present Post</th>\n      <th>Post Effect From</th>\n      <th>Payscale Remarks</th>\n    </tr>\n  </thead>\n  <tbody>\n    <tr>\n      <th>251</th>\n      <td>Shri Shashwat Saurabh</td>\n      <td>UT115T01</td>\n      <td>29-08-2016</td>\n      <td>RR</td>\n      <td>Not found</td>\n      <td>M.Sc.(Economics)</td>\n      <td>28-10-1987</td>\n      <td>2016</td>\n      <td>A G M U T</td>\n      <td>Rajasthan</td>\n      <td>Sub-Collector, Revenue, Pondicherry(South)</td>\n      <td>07-01-2019</td>\n      <td>Level 10 in the Pay Matrix</td>\n    </tr>\n  </tbody>\n</table>\n</div>"
     },
     "metadata": {},
     "execution_count": 22
    }
   ],
   "source": [
    "easynic.loc[easynic[\"Identity No.\"] == \"UT115T01\"]"
   ]
  },
  {
   "cell_type": "code",
   "execution_count": 23,
   "metadata": {},
   "outputs": [
    {
     "output_type": "stream",
     "name": "stdout",
     "text": [
      "['Name', 'Identity No.', 'Dt. of Appointment', 'Source of Recruitment', 'IntraIAS User-Id', 'Qualification(Subject)', 'Date of Birth', 'Allotment Year', 'Cadre', 'Domicile', 'Present Post', 'Post Effect From', 'Payscale Remarks']\n['Name', 'Service', 'Cadre', 'Allotment Year', 'Date of Birth', 'Date of Joining', 'Identity No.', 'Source of Recruitment', 'Gender', 'Place of Domicile', 'Mother Tongue', 'Languages Known', 'Retirement Reason', 'Qualification/University/Institute', 'Subject', 'Division', 'Designation/Level', 'Ministry/Department/Office/Location', 'Organisation', 'Experience(major/minor)', 'Period(From/To)']\n"
     ]
    }
   ],
   "source": [
    "print(list(not_present_df.columns))\n",
    "print(list(supremo.columns))"
   ]
  },
  {
   "cell_type": "code",
   "execution_count": 24,
   "metadata": {},
   "outputs": [],
   "source": [
    "qualifications = not_present_df[\"Qualification(Subject)\"]"
   ]
  },
  {
   "cell_type": "code",
   "execution_count": 25,
   "metadata": {},
   "outputs": [],
   "source": [
    "def create_compatible_q(my_string):\n",
    "    q = \"\"\n",
    "    s = \"\"\n",
    "    item = my_string\n",
    "    splits = item.split(\" \")\n",
    "    subjects = [\"\"] * len(splits)\n",
    "    item = item.replace(\")(\", \" \")\n",
    "    subject_list = re.findall(\"\\((.*?)\\)\", item)\n",
    "    counter = 0\n",
    "    for split in splits:\n",
    "        if split[len(split)-1] == \")\":\n",
    "            s += subject_list[counter]\n",
    "            item = item.replace(f\"({subject_list[counter]})\", \"\")\n",
    "            counter += 1\n",
    "        else:\n",
    "            s += \"\"\n",
    "        s += \"|\"\n",
    "    q = item.replace(\" \", \"|\")\n",
    "    s = s[:len(s)-1]\n",
    "    return q, s"
   ]
  },
  {
   "cell_type": "code",
   "execution_count": 26,
   "metadata": {},
   "outputs": [
    {
     "output_type": "execute_result",
     "data": {
      "text/plain": [
       "('M.A.|B.A.', 'Sociology|')"
      ]
     },
     "metadata": {},
     "execution_count": 26
    }
   ],
   "source": [
    "create_compatible_q(\"M.A.(Sociology) B.A.\")"
   ]
  },
  {
   "cell_type": "code",
   "execution_count": 27,
   "metadata": {},
   "outputs": [],
   "source": [
    "degree = []\n",
    "subject = []\n",
    "division = []\n",
    "for qualification in qualifications:\n",
    "    d, s = create_compatible_q(qualification)\n",
    "    degree.append(d)\n",
    "    subject.append(s)\n",
    "    division.append(\"Not Found\")"
   ]
  },
  {
   "cell_type": "code",
   "execution_count": 28,
   "metadata": {},
   "outputs": [
    {
     "output_type": "execute_result",
     "data": {
      "text/plain": [
       "'B.Sc.'"
      ]
     },
     "metadata": {},
     "execution_count": 28
    }
   ],
   "source": [
    "degree[0]"
   ]
  },
  {
   "cell_type": "code",
   "execution_count": 29,
   "metadata": {},
   "outputs": [],
   "source": [
    "not_present_df[\"Qualification(Subject)\"] = degree\n",
    "not_present_df[\"Subject\"] = subject\n",
    "not_present_df[\"Division\"] = division"
   ]
  },
  {
   "cell_type": "code",
   "execution_count": 30,
   "metadata": {},
   "outputs": [],
   "source": [
    "exp = not_present_df[\"Present Post\"]"
   ]
  },
  {
   "cell_type": "code",
   "execution_count": 31,
   "metadata": {},
   "outputs": [],
   "source": [
    "exp_name = []\n",
    "location = []\n",
    "for item in exp:\n",
    "    item = str(item)\n",
    "    split = item.split(\", \")\n",
    "    place = split[len(split)-1]\n",
    "    item = item.replace(\", \" + place, \"\")\n",
    "    exp_name.append(item)\n",
    "    location.append(place)"
   ]
  },
  {
   "cell_type": "code",
   "execution_count": 32,
   "metadata": {},
   "outputs": [
    {
     "output_type": "execute_result",
     "data": {
      "text/plain": [
       "'N C T of Delhi '"
      ]
     },
     "metadata": {},
     "execution_count": 32
    }
   ],
   "source": [
    "location[1]"
   ]
  },
  {
   "cell_type": "code",
   "execution_count": 33,
   "metadata": {},
   "outputs": [],
   "source": [
    "not_present_df[\"Designation/Level\"] = exp_name\n",
    "not_present_df[\"Ministry/Department/Office/Location\"] = location\n",
    "not_present_df = not_present_df.rename(columns={\n",
    "    \"Qualification(Subject)\" : \"Qualification/University/Institute\",\n",
    "    \"Post Effect From\": \"Period(From/To)\",\n",
    "    'Domicile': \"Place of Domicile\",\n",
    "    \"Dt. of Appointment\" : \"Date of Joining\",\n",
    "})"
   ]
  },
  {
   "cell_type": "code",
   "execution_count": 34,
   "metadata": {},
   "outputs": [
    {
     "output_type": "execute_result",
     "data": {
      "text/plain": [
       "                                   Name Identity No. Date of Joining  \\\n",
       "0                       Ms. Alice Vaz R     UT040200      22-08-2005   \n",
       "1                    Shri Binay Bhushan     UT817106      23-01-2019   \n",
       "2                     Shri Hemant Kumar     UT112P04      02-09-2013   \n",
       "3                     Ms. Shashanka Ala     UT113Q04      01-01-2014   \n",
       "4                    Shri Rakesh Minhas     UT115C05      01-01-2016   \n",
       "...                                 ...          ...             ...   \n",
       "1831                  Ms. Tamil Oviya S     WB118X08      01-09-2019   \n",
       "1832                     Ms. Renu Sogan     WB118X09      01-09-2019   \n",
       "1833             Shri Anuj Pratap Singh     WB118X10      01-09-2019   \n",
       "1834                 Ms. Priyanka Singh     WB118X11      01-09-2019   \n",
       "1835  Ms. Wankhede Archana Pandharinath     WB118X12      01-09-2019   \n",
       "\n",
       "     Source of Recruitment IntraIAS User-Id  \\\n",
       "0                       RR      alice.vaz.r   \n",
       "1                      SCS        Not found   \n",
       "2                       RR   hemant.kumar85   \n",
       "3                       RR    shashanka.ala   \n",
       "4                       RR        Not found   \n",
       "...                    ...              ...   \n",
       "1831                    RR        Not found   \n",
       "1832                    RR        Not found   \n",
       "1833                    RR        Not found   \n",
       "1834                    RR        Not found   \n",
       "1835                    RR        Not found   \n",
       "\n",
       "     Qualification/University/Institute Date of Birth Allotment Year  \\\n",
       "0                                 B.Sc.    16-08-1979           2005   \n",
       "1                                 M.Sc.    09-12-1964           2009   \n",
       "2                           B.Sc.|LL.B.    28-04-1985           2013   \n",
       "3                              Graduate    11-10-1988           2014   \n",
       "4                              Graduate    28-08-1989           2016   \n",
       "...                                 ...           ...            ...   \n",
       "1831                           Graduate    26-09-1993           2019   \n",
       "1832                           Graduate    21-03-1994           2019   \n",
       "1833                           Graduate    30-03-1991           2019   \n",
       "1834                           Graduate    25-03-1992           2019   \n",
       "1835                           Graduate    09-01-1983           2019   \n",
       "\n",
       "            Cadre Place of Domicile  \\\n",
       "0       A G M U T        Tamil Nadu   \n",
       "1       A G M U T             Bihar   \n",
       "2       A G M U T           Haryana   \n",
       "3       A G M U T    Andhra Pradesh   \n",
       "4       A G M U T            Punjab   \n",
       "...           ...               ...   \n",
       "1831  West Bengal        Tamil Nadu   \n",
       "1832  West Bengal         Rajasthan   \n",
       "1833  West Bengal     Uttar Pradesh   \n",
       "1834  West Bengal     Uttar Pradesh   \n",
       "1835  West Bengal       Maharashtra   \n",
       "\n",
       "                                           Present Post Period(From/To)  \\\n",
       "0     Secretary (Welfare & Civil Supplies), Govt of ...      08-02-2016   \n",
       "1            Director, Education Deptt, N C T of Delhi       08-03-2019   \n",
       "2                       Inspector General, Prison, Goa       30-08-2019   \n",
       "3             Deputy Commissioner, Lawngtlai (Mizoram)       13-02-2019   \n",
       "4                                     Collector, Daman       28-06-2019   \n",
       "...                                                 ...             ...   \n",
       "1831                                              N.A.       01-09-2018   \n",
       "1832                                              N.A.       01-09-2018   \n",
       "1833                                              N.A.       01-09-2018   \n",
       "1834                                              N.A.       01-09-2018   \n",
       "1835                                              N.A.       01-09-2018   \n",
       "\n",
       "                Payscale Remarks    Subject   Division  \\\n",
       "0     Level 13 in the Pay Matrix    Nursing  Not Found   \n",
       "1     Level 12 in the Pay Matrix  Chemistry  Not Found   \n",
       "2     Level 11 in the Pay Matrix          |  Not Found   \n",
       "3     Level 11 in the Pay Matrix             Not Found   \n",
       "4     Level 10 in the Pay Matrix             Not Found   \n",
       "...                          ...        ...        ...   \n",
       "1831  Level 10 in the Pay Matrix             Not Found   \n",
       "1832  Level 10 in the Pay Matrix             Not Found   \n",
       "1833  Level 10 in the Pay Matrix             Not Found   \n",
       "1834  Level 10 in the Pay Matrix             Not Found   \n",
       "1835  Level 10 in the Pay Matrix             Not Found   \n",
       "\n",
       "                         Designation/Level Ministry/Department/Office/Location  \n",
       "0     Secretary (Welfare & Civil Supplies)                 Govt of Puducherry   \n",
       "1                Director, Education Deptt                     N C T of Delhi   \n",
       "2                Inspector General, Prison                                Goa   \n",
       "3                      Deputy Commissioner                Lawngtlai (Mizoram)   \n",
       "4                                Collector                              Daman   \n",
       "...                                    ...                                 ...  \n",
       "1831                                 N.A.                                N.A.   \n",
       "1832                                 N.A.                                N.A.   \n",
       "1833                                 N.A.                                N.A.   \n",
       "1834                                 N.A.                                N.A.   \n",
       "1835                                 N.A.                                N.A.   \n",
       "\n",
       "[1836 rows x 17 columns]"
      ],
      "text/html": "<div>\n<style scoped>\n    .dataframe tbody tr th:only-of-type {\n        vertical-align: middle;\n    }\n\n    .dataframe tbody tr th {\n        vertical-align: top;\n    }\n\n    .dataframe thead th {\n        text-align: right;\n    }\n</style>\n<table border=\"1\" class=\"dataframe\">\n  <thead>\n    <tr style=\"text-align: right;\">\n      <th></th>\n      <th>Name</th>\n      <th>Identity No.</th>\n      <th>Date of Joining</th>\n      <th>Source of Recruitment</th>\n      <th>IntraIAS User-Id</th>\n      <th>Qualification/University/Institute</th>\n      <th>Date of Birth</th>\n      <th>Allotment Year</th>\n      <th>Cadre</th>\n      <th>Place of Domicile</th>\n      <th>Present Post</th>\n      <th>Period(From/To)</th>\n      <th>Payscale Remarks</th>\n      <th>Subject</th>\n      <th>Division</th>\n      <th>Designation/Level</th>\n      <th>Ministry/Department/Office/Location</th>\n    </tr>\n  </thead>\n  <tbody>\n    <tr>\n      <th>0</th>\n      <td>Ms. Alice Vaz R</td>\n      <td>UT040200</td>\n      <td>22-08-2005</td>\n      <td>RR</td>\n      <td>alice.vaz.r</td>\n      <td>B.Sc.</td>\n      <td>16-08-1979</td>\n      <td>2005</td>\n      <td>A G M U T</td>\n      <td>Tamil Nadu</td>\n      <td>Secretary (Welfare &amp; Civil Supplies), Govt of ...</td>\n      <td>08-02-2016</td>\n      <td>Level 13 in the Pay Matrix</td>\n      <td>Nursing</td>\n      <td>Not Found</td>\n      <td>Secretary (Welfare &amp; Civil Supplies)</td>\n      <td>Govt of Puducherry</td>\n    </tr>\n    <tr>\n      <th>1</th>\n      <td>Shri Binay Bhushan</td>\n      <td>UT817106</td>\n      <td>23-01-2019</td>\n      <td>SCS</td>\n      <td>Not found</td>\n      <td>M.Sc.</td>\n      <td>09-12-1964</td>\n      <td>2009</td>\n      <td>A G M U T</td>\n      <td>Bihar</td>\n      <td>Director, Education Deptt, N C T of Delhi</td>\n      <td>08-03-2019</td>\n      <td>Level 12 in the Pay Matrix</td>\n      <td>Chemistry</td>\n      <td>Not Found</td>\n      <td>Director, Education Deptt</td>\n      <td>N C T of Delhi</td>\n    </tr>\n    <tr>\n      <th>2</th>\n      <td>Shri Hemant Kumar</td>\n      <td>UT112P04</td>\n      <td>02-09-2013</td>\n      <td>RR</td>\n      <td>hemant.kumar85</td>\n      <td>B.Sc.|LL.B.</td>\n      <td>28-04-1985</td>\n      <td>2013</td>\n      <td>A G M U T</td>\n      <td>Haryana</td>\n      <td>Inspector General, Prison, Goa</td>\n      <td>30-08-2019</td>\n      <td>Level 11 in the Pay Matrix</td>\n      <td>|</td>\n      <td>Not Found</td>\n      <td>Inspector General, Prison</td>\n      <td>Goa</td>\n    </tr>\n    <tr>\n      <th>3</th>\n      <td>Ms. Shashanka Ala</td>\n      <td>UT113Q04</td>\n      <td>01-01-2014</td>\n      <td>RR</td>\n      <td>shashanka.ala</td>\n      <td>Graduate</td>\n      <td>11-10-1988</td>\n      <td>2014</td>\n      <td>A G M U T</td>\n      <td>Andhra Pradesh</td>\n      <td>Deputy Commissioner, Lawngtlai (Mizoram)</td>\n      <td>13-02-2019</td>\n      <td>Level 11 in the Pay Matrix</td>\n      <td></td>\n      <td>Not Found</td>\n      <td>Deputy Commissioner</td>\n      <td>Lawngtlai (Mizoram)</td>\n    </tr>\n    <tr>\n      <th>4</th>\n      <td>Shri Rakesh Minhas</td>\n      <td>UT115C05</td>\n      <td>01-01-2016</td>\n      <td>RR</td>\n      <td>Not found</td>\n      <td>Graduate</td>\n      <td>28-08-1989</td>\n      <td>2016</td>\n      <td>A G M U T</td>\n      <td>Punjab</td>\n      <td>Collector, Daman</td>\n      <td>28-06-2019</td>\n      <td>Level 10 in the Pay Matrix</td>\n      <td></td>\n      <td>Not Found</td>\n      <td>Collector</td>\n      <td>Daman</td>\n    </tr>\n    <tr>\n      <th>...</th>\n      <td>...</td>\n      <td>...</td>\n      <td>...</td>\n      <td>...</td>\n      <td>...</td>\n      <td>...</td>\n      <td>...</td>\n      <td>...</td>\n      <td>...</td>\n      <td>...</td>\n      <td>...</td>\n      <td>...</td>\n      <td>...</td>\n      <td>...</td>\n      <td>...</td>\n      <td>...</td>\n      <td>...</td>\n    </tr>\n    <tr>\n      <th>1831</th>\n      <td>Ms. Tamil Oviya S</td>\n      <td>WB118X08</td>\n      <td>01-09-2019</td>\n      <td>RR</td>\n      <td>Not found</td>\n      <td>Graduate</td>\n      <td>26-09-1993</td>\n      <td>2019</td>\n      <td>West Bengal</td>\n      <td>Tamil Nadu</td>\n      <td>N.A.</td>\n      <td>01-09-2018</td>\n      <td>Level 10 in the Pay Matrix</td>\n      <td></td>\n      <td>Not Found</td>\n      <td>N.A.</td>\n      <td>N.A.</td>\n    </tr>\n    <tr>\n      <th>1832</th>\n      <td>Ms. Renu Sogan</td>\n      <td>WB118X09</td>\n      <td>01-09-2019</td>\n      <td>RR</td>\n      <td>Not found</td>\n      <td>Graduate</td>\n      <td>21-03-1994</td>\n      <td>2019</td>\n      <td>West Bengal</td>\n      <td>Rajasthan</td>\n      <td>N.A.</td>\n      <td>01-09-2018</td>\n      <td>Level 10 in the Pay Matrix</td>\n      <td></td>\n      <td>Not Found</td>\n      <td>N.A.</td>\n      <td>N.A.</td>\n    </tr>\n    <tr>\n      <th>1833</th>\n      <td>Shri Anuj Pratap Singh</td>\n      <td>WB118X10</td>\n      <td>01-09-2019</td>\n      <td>RR</td>\n      <td>Not found</td>\n      <td>Graduate</td>\n      <td>30-03-1991</td>\n      <td>2019</td>\n      <td>West Bengal</td>\n      <td>Uttar Pradesh</td>\n      <td>N.A.</td>\n      <td>01-09-2018</td>\n      <td>Level 10 in the Pay Matrix</td>\n      <td></td>\n      <td>Not Found</td>\n      <td>N.A.</td>\n      <td>N.A.</td>\n    </tr>\n    <tr>\n      <th>1834</th>\n      <td>Ms. Priyanka Singh</td>\n      <td>WB118X11</td>\n      <td>01-09-2019</td>\n      <td>RR</td>\n      <td>Not found</td>\n      <td>Graduate</td>\n      <td>25-03-1992</td>\n      <td>2019</td>\n      <td>West Bengal</td>\n      <td>Uttar Pradesh</td>\n      <td>N.A.</td>\n      <td>01-09-2018</td>\n      <td>Level 10 in the Pay Matrix</td>\n      <td></td>\n      <td>Not Found</td>\n      <td>N.A.</td>\n      <td>N.A.</td>\n    </tr>\n    <tr>\n      <th>1835</th>\n      <td>Ms. Wankhede Archana Pandharinath</td>\n      <td>WB118X12</td>\n      <td>01-09-2019</td>\n      <td>RR</td>\n      <td>Not found</td>\n      <td>Graduate</td>\n      <td>09-01-1983</td>\n      <td>2019</td>\n      <td>West Bengal</td>\n      <td>Maharashtra</td>\n      <td>N.A.</td>\n      <td>01-09-2018</td>\n      <td>Level 10 in the Pay Matrix</td>\n      <td></td>\n      <td>Not Found</td>\n      <td>N.A.</td>\n      <td>N.A.</td>\n    </tr>\n  </tbody>\n</table>\n<p>1836 rows × 17 columns</p>\n</div>"
     },
     "metadata": {},
     "execution_count": 34
    }
   ],
   "source": [
    "not_present_df"
   ]
  },
  {
   "cell_type": "code",
   "execution_count": 35,
   "metadata": {},
   "outputs": [],
   "source": [
    "for column in supremo.columns:\n",
    "    if not column in not_present_df.columns:\n",
    "        not_present_df[column] = [\"Not Found\"] * len(not_present_df.index)"
   ]
  },
  {
   "cell_type": "code",
   "execution_count": 36,
   "metadata": {},
   "outputs": [],
   "source": [
    "for column in supremo.columns:\n",
    "    if not column in not_present_df.columns:\n",
    "        print(column)"
   ]
  },
  {
   "cell_type": "code",
   "execution_count": 47,
   "metadata": {},
   "outputs": [],
   "source": [
    "temp = supremo"
   ]
  },
  {
   "cell_type": "code",
   "execution_count": 48,
   "metadata": {},
   "outputs": [],
   "source": [
    "for i in not_present_df.index:\n",
    "    row = dict(not_present_df.iloc[i])\n",
    "    to_add = {}\n",
    "    for column in temp.columns:\n",
    "        to_add[column] = not_present_df[column][i]\n",
    "    temp = temp.append(to_add, ignore_index=True)"
   ]
  },
  {
   "cell_type": "code",
   "execution_count": 50,
   "metadata": {},
   "outputs": [],
   "source": [
    "temp.to_csv(\"./outputs/combined/test.csv\", index=True)"
   ]
  },
  {
   "cell_type": "code",
   "execution_count": null,
   "metadata": {},
   "outputs": [],
   "source": []
  }
 ]
}