{
 "metadata": {
  "language_info": {
   "codemirror_mode": {
    "name": "ipython",
    "version": 3
   },
   "file_extension": ".py",
   "mimetype": "text/x-python",
   "name": "python",
   "nbconvert_exporter": "python",
   "pygments_lexer": "ipython3",
   "version": "3.8.7"
  },
  "orig_nbformat": 4,
  "kernelspec": {
   "name": "python3",
   "display_name": "Python 3.8.7 64-bit"
  },
  "interpreter": {
   "hash": "94edbaacddaafd6d45ba5506bea1ce8a371c01e0c71d6cc8e1f8803236d6de55"
  }
 },
 "nbformat": 4,
 "nbformat_minor": 2,
 "cells": [
  {
   "cell_type": "code",
   "execution_count": 1,
   "metadata": {},
   "outputs": [],
   "source": [
    "import pandas as pd\n",
    "import json"
   ]
  },
  {
   "cell_type": "code",
   "execution_count": 2,
   "metadata": {},
   "outputs": [],
   "source": [
    "import math\n",
    "def make_verbose(start_with, done, total, max_lines=25):\n",
    "    num_lines = int((done/total)*max_lines)\n",
    "    lines = \"=\"*num_lines\n",
    "    spaces = \"-\"*(max_lines-num_lines)\n",
    "    print(f\"\\r{start_with}  [{lines}>{spaces}]  {done}/{total}\", end=\"\", sep=\" \", flush=True)"
   ]
  },
  {
   "cell_type": "code",
   "execution_count": 3,
   "metadata": {},
   "outputs": [],
   "source": [
    "df = pd.read_csv(\"./outputs/combined/ias-clean-final.csv\")"
   ]
  },
  {
   "cell_type": "code",
   "execution_count": 12,
   "metadata": {},
   "outputs": [],
   "source": [
    "edu_df = pd.DataFrame(columns=[\"Name\",\"Service\",\"Cadre\",\"Allotment Year\",\"Date of Birth\",\"Date of Joining\",\"Source of Recruitment\",\"Gender\",\"Place of Domicile\",\"Mother Tongue\",\"Languages Known\",\"Retirement Reason\",\"Qualification/University/Institute\",\"Subject\",\"Division\",\"Dataset name\",\"Clean Ids\"])\n",
    "exp_df = pd.DataFrame(columns=[\"Name\",\"Service\",\"Cadre\",\"Allotment Year\",\"Date of Birth\",\"Date of Joining\",\"Source of Recruitment\",\"Gender\",\"Place of Domicile\",\"Mother Tongue\",\"Languages Known\",\"Retirement Reason\",\"Designation/Level\",\"Ministry/Department/Office/Location\",\"Organisation\",\"Experience(major/minor)\",\"Period(From/To)\",\"Dataset name\",\"Clean Ids\"])\n",
    "edu_columns = [\"Qualification/University/Institute\",\"Subject\",\"Division\"]\n",
    "exp_columns = [\"Designation/Level\",\"Ministry/Department/Office/Location\",\"Organisation\",\"Experience(major/minor)\",\"Period(From/To)\"]"
   ]
  },
  {
   "cell_type": "code",
   "execution_count": 5,
   "metadata": {},
   "outputs": [],
   "source": [
    "#create thhe json objects\n",
    "def create_json_object(row):\n",
    "    row_object = {}\n",
    "    for key in row.keys():\n",
    "        if key in list_columns:\n",
    "            row_object[key] = row[key].split(\"|\")\n",
    "        else:\n",
    "            row_object[key] = str(row[key]).strip()\n",
    "    return row_object"
   ]
  },
  {
   "cell_type": "code",
   "execution_count": 6,
   "metadata": {
    "tags": []
   },
   "outputs": [
    {
     "output_type": "stream",
     "name": "stdout",
     "text": [
      "  [=========================>]  11569/11569"
     ]
    }
   ],
   "source": [
    "my_json = []\n",
    "length = len(df.index)\n",
    "for i in df.index:\n",
    "    make_verbose(\"\", i+1, length)\n",
    "    row_dict = dict(df.iloc[i])\n",
    "    my_json.append(create_json_object(row_dict))"
   ]
  },
  {
   "cell_type": "code",
   "execution_count": 12,
   "metadata": {},
   "outputs": [],
   "source": [
    "with open(\"./outputs/formats/ias-json.json\", \"w\") as my_json_file:\n",
    "    json.dump(my_json, my_json_file, indent=4)"
   ]
  },
  {
   "cell_type": "code",
   "execution_count": 6,
   "metadata": {},
   "outputs": [],
   "source": [
    "new_df = df"
   ]
  },
  {
   "cell_type": "code",
   "execution_count": 66,
   "metadata": {},
   "outputs": [],
   "source": [
    "def create_row_by_criteria(row, df_columns, required_columns, seperator=\"|\"):\n",
    "    length_of_list = len(row[required_columns[0]].split(seperator))\n",
    "    generated_rows = []\n",
    "    for column in required_columns:\n",
    "        row[column] = str(row[column]).split(seperator)\n",
    "    for i in range(length_of_list):\n",
    "        new_row = {}\n",
    "        for column in df_columns:\n",
    "            if column in required_columns:\n",
    "                to_add = row[column][i]\n",
    "            else:\n",
    "                to_add = row[column]\n",
    "            \n",
    "            new_row[column] = to_add\n",
    "        \n",
    "        generated_rows.append(new_row)\n",
    "    \n",
    "    return generated_rows"
   ]
  },
  {
   "cell_type": "code",
   "execution_count": 76,
   "metadata": {},
   "outputs": [
    {
     "output_type": "stream",
     "name": "stdout",
     "text": [
      "  =========================>  11569/11569"
     ]
    }
   ],
   "source": [
    "length = len(df.index)\n",
    "for i in range(length):\n",
    "    make_verbose(\"\", i+1, length)\n",
    "    row = dict(new_df.iloc[i])\n",
    "    edu_rows = create_row_by_criteria(row, edu_df.columns, edu_columns)\n",
    "    exp_rows = create_row_by_criteria(row, exp_df.columns, exp_columns)\n",
    "    edu_df = edu_df.append(edu_rows, ignore_index=True)\n",
    "    exp_df = exp_df.append(exp_rows, ignore_index=True)"
   ]
  },
  {
   "cell_type": "code",
   "execution_count": 77,
   "metadata": {},
   "outputs": [],
   "source": [
    "edu_df.to_csv(\"./outputs/formats/ias-education.csv\", index=False)\n",
    "exp_df.to_csv(\"./outputs/formats/ias-postings.csv\", index=False)"
   ]
  },
  {
   "cell_type": "code",
   "execution_count": null,
   "metadata": {},
   "outputs": [],
   "source": []
  }
 ]
}