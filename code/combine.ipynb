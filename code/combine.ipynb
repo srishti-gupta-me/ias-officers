{
 "metadata": {
  "language_info": {
   "codemirror_mode": {
    "name": "ipython",
    "version": 3
   },
   "file_extension": ".py",
   "mimetype": "text/x-python",
   "name": "python",
   "nbconvert_exporter": "python",
   "pygments_lexer": "ipython3",
   "version": "3.8.7"
  },
  "orig_nbformat": 2,
  "kernelspec": {
   "name": "python3",
   "display_name": "Python 3.8.7 64-bit"
  },
  "interpreter": {
   "hash": "94edbaacddaafd6d45ba5506bea1ce8a371c01e0c71d6cc8e1f8803236d6de55"
  }
 },
 "nbformat": 4,
 "nbformat_minor": 2,
 "cells": [
  {
   "cell_type": "code",
   "execution_count": 3,
   "metadata": {},
   "outputs": [],
   "source": [
    "import pandas as pd\n",
    "import re"
   ]
  },
  {
   "cell_type": "code",
   "execution_count": 2,
   "metadata": {},
   "outputs": [],
   "source": [
    "easynic = pd.read_csv(\"./outputs/easy-nic-in/easy-nic.csv\")\n",
    "supremo = pd.read_csv(\"./outputs/supremo-nic-in/supremo-nic.csv\")"
   ]
  },
  {
   "cell_type": "code",
   "execution_count": 3,
   "metadata": {},
   "outputs": [],
   "source": [
    "easynic[\"Dataset name\"] = [\"DOPT(easynic)\"] * len(easynic.index)\n",
    "supremo[\"Dataset name\"] = [\"Supremo\"] * len(supremo.index)"
   ]
  },
  {
   "cell_type": "code",
   "execution_count": 4,
   "metadata": {},
   "outputs": [],
   "source": [
    "indexes = []\n",
    "for i, value in enumerate(supremo[\"Identity No.\"].values):\n",
    "    if str(value)[:2] == \"02\":\n",
    "        indexes.append(i)"
   ]
  },
  {
   "cell_type": "code",
   "execution_count": 5,
   "metadata": {},
   "outputs": [
    {
     "output_type": "execute_result",
     "data": {
      "text/plain": [
       "Name                                                                      Shri R N Joshi\n",
       "Service                                                   Indian Administrative Service \n",
       "Cadre                                                                           Gujarat \n",
       "Allotment Year                                                                      1996\n",
       "Date of Birth                                                                 08/11/1950\n",
       "Date of Joining                                                               01/03/2002\n",
       "Identity No.                                                                  02GJ029016\n",
       "Source of Recruitment                                                       By Selection\n",
       "Gender                                                                              Male\n",
       "Place of Domicile                                                                Gujarat\n",
       "Mother Tongue                                                                   Gujarati\n",
       "Languages Known                                                            English Hindi\n",
       "Retirement Reason                                                          Superannuated\n",
       "Qualification/University/Institute                                              Graduate\n",
       "Subject                                                                             N.A.\n",
       "Division                                                                        Ordinary\n",
       "Designation/Level                      Additional Secy/Director|Collector/Deputy Secr...\n",
       "Ministry/Department/Office/Location    Revenue Deptt/Ahmedabad|Anand|Energy & Petroch...\n",
       "Organisation                                         Cadre (AIS)|Cadre (AIS)|Cadre (AIS)\n",
       "Experience(major/minor)                Revenue / Finance|District Admn / Land Revenue...\n",
       "Period(From/To)                        13/04/2011 - 12/04/2012|03/03/2007 - 31/12/200...\n",
       "Dataset name                                                                     Supremo\n",
       "Name: 5982, dtype: object"
      ]
     },
     "metadata": {},
     "execution_count": 5
    }
   ],
   "source": [
    "supremo.iloc[indexes[237]]"
   ]
  },
  {
   "cell_type": "code",
   "execution_count": 6,
   "metadata": {},
   "outputs": [],
   "source": [
    "def find_in(my_list, value):\n",
    "    for list_value in my_list:\n",
    "        if str(value) in str(list_value):\n",
    "            return True\n",
    "    \n",
    "    return False"
   ]
  },
  {
   "cell_type": "code",
   "execution_count": 7,
   "metadata": {},
   "outputs": [],
   "source": [
    "mapper = {\n",
    "    \"UT\": \"A G M U T\",\n",
    "    \"AP\": \"Andhra Pradesh\",\n",
    "    \"AM\": \"Assam Meghalya\",\n",
    "    \"BH\": \"Bihar\",\n",
    "    \"CG\": \"Chhasttisgarh\",\n",
    "    \"GJ\": \"Gujarat\",\n",
    "    \"HY\": \"Haryana\",\n",
    "    \"HP\": \"Himachal Pradesh\",\n",
    "    \"JK\": \"Jammu & Kashmir\",\n",
    "    \"JH\": \"Jharkhand\",\n",
    "    \"KN\": \"Karnataka\",\n",
    "    \"KL\": \"Kerala\",\n",
    "    \"MP\": \"Madhya Pradesh\",\n",
    "    \"MH\": \"Maharastra\",\n",
    "    \"MN\": \"Manipur\",\n",
    "    \"NL\": \"Nagaland\",\n",
    "    \"OR\": \"Odisha\",\n",
    "    \"PB\": \"Punjab\",\n",
    "    \"RJ\": \"Rajasthan\",\n",
    "    \"SK\": \"Sikkim\",\n",
    "    \"TN\": \"Tamil Nadu\",\n",
    "    \"TG\": \"Telangana\",\n",
    "    \"TR\": \"Tripura\",\n",
    "    \"UP\": \"Uttar Pradesh\",\n",
    "    \"UD\": \"Uttarakhand\",\n",
    "    \"WB\": \"West Bengal\"\n",
    "}"
   ]
  },
  {
   "cell_type": "code",
   "execution_count": 8,
   "metadata": {},
   "outputs": [],
   "source": [
    "easynic = easynic.drop([\"Unnamed: 0\"], axis=1)"
   ]
  },
  {
   "cell_type": "code",
   "execution_count": 9,
   "metadata": {},
   "outputs": [],
   "source": [
    "def get_key(my_dict, val):\n",
    "    for key, value in my_dict.items():\n",
    "         if val == value:\n",
    "             return key"
   ]
  },
  {
   "cell_type": "code",
   "execution_count": 10,
   "metadata": {},
   "outputs": [],
   "source": [
    "for i in easynic.index:\n",
    "    prefix = \"0\" if len(str(easynic.loc[i,\"Identity No.\"])) < 6 else \"\"\n",
    "    easynic.loc[i, \"Identity No.\"] = str(easynic.loc[i, \"Cadre\"]) + prefix + str(easynic.loc[i,\"Identity No.\"])"
   ]
  },
  {
   "cell_type": "code",
   "execution_count": 11,
   "metadata": {},
   "outputs": [
    {
     "output_type": "execute_result",
     "data": {
      "text/plain": [
       "0       UT016100\n",
       "1       UT016500\n",
       "2       UT016400\n",
       "3       UT016800\n",
       "4       UT016900\n",
       "          ...   \n",
       "5200    WB118X08\n",
       "5201    WB118X09\n",
       "5202    WB118X10\n",
       "5203    WB118X11\n",
       "5204    WB118X12\n",
       "Name: Identity No., Length: 5205, dtype: object"
      ]
     },
     "metadata": {},
     "execution_count": 11
    }
   ],
   "source": [
    "easynic[\"Identity No.\"]"
   ]
  },
  {
   "cell_type": "code",
   "execution_count": 12,
   "metadata": {},
   "outputs": [],
   "source": [
    "new_cadra = []\n",
    "for item in easynic[\"Cadre\"]:\n",
    "    new_cadra.append(mapper[item])"
   ]
  },
  {
   "cell_type": "code",
   "execution_count": 13,
   "metadata": {},
   "outputs": [],
   "source": [
    "easynic[\"Cadre\"] = new_cadra"
   ]
  },
  {
   "cell_type": "code",
   "execution_count": 14,
   "metadata": {},
   "outputs": [],
   "source": [
    "qualifications = easynic[\"Qualification(Subject)\"]"
   ]
  },
  {
   "cell_type": "code",
   "execution_count": 2,
   "metadata": {},
   "outputs": [],
   "source": [
    "def create_compatible_q(my_string):\n",
    "    q = \"\"\n",
    "    s = \"\"\n",
    "    item = my_string\n",
    "    splits = item.split(\" \")\n",
    "    subjects = [\"\"] * len(splits)\n",
    "    item = item.replace(\")(\", \" \")\n",
    "    subject_list = re.findall(\"\\((.*?)\\)\", item)\n",
    "    counter = 0\n",
    "    for split in splits:\n",
    "        if split[len(split)-1] == \")\":\n",
    "            s += subject_list[counter]\n",
    "            item = item.replace(f\"({subject_list[counter]})\", \"\")\n",
    "            counter += 1\n",
    "        else:\n",
    "            s += \"\"\n",
    "        s += \"|\"\n",
    "    q = item.replace(\" \", \"|\")\n",
    "    s = s[:len(s)-1]\n",
    "    return q, s"
   ]
  },
  {
   "cell_type": "code",
   "execution_count": 5,
   "metadata": {},
   "outputs": [
    {
     "output_type": "execute_result",
     "data": {
      "text/plain": [
       "('M.A.|B.A.', 'Sociology|Psychology')"
      ]
     },
     "metadata": {},
     "execution_count": 5
    }
   ],
   "source": [
    "create_compatible_q(\"M.A.(Sociology) B.A.(Psychology)\")"
   ]
  },
  {
   "cell_type": "code",
   "execution_count": 17,
   "metadata": {},
   "outputs": [],
   "source": [
    "degree = []\n",
    "subject = []\n",
    "division = []\n",
    "for qualification in qualifications:\n",
    "    d, s = create_compatible_q(qualification)\n",
    "    degree.append(d)\n",
    "    subject.append(s)\n",
    "    division.append(\"Not Found\")"
   ]
  },
  {
   "cell_type": "code",
   "execution_count": 18,
   "metadata": {},
   "outputs": [
    {
     "output_type": "execute_result",
     "data": {
      "text/plain": [
       "'M.A.|B.A.'"
      ]
     },
     "metadata": {},
     "execution_count": 18
    }
   ],
   "source": [
    "degree[0]"
   ]
  },
  {
   "cell_type": "code",
   "execution_count": 19,
   "metadata": {},
   "outputs": [],
   "source": [
    "easynic[\"Qualification(Subject)\"] = degree\n",
    "easynic[\"Subject\"] = subject\n",
    "easynic[\"Division\"] = division"
   ]
  },
  {
   "cell_type": "code",
   "execution_count": 20,
   "metadata": {},
   "outputs": [],
   "source": [
    "exp = easynic[\"Present Post\"]"
   ]
  },
  {
   "cell_type": "code",
   "execution_count": 21,
   "metadata": {},
   "outputs": [],
   "source": [
    "exp_name = []\n",
    "location = []\n",
    "for item in exp:\n",
    "    item = str(item)\n",
    "    split = item.split(\", \")\n",
    "    place = split[len(split)-1]\n",
    "    item = item.replace(\", \" + place, \"\")\n",
    "    exp_name.append(item)\n",
    "    location.append(place)"
   ]
  },
  {
   "cell_type": "code",
   "execution_count": 22,
   "metadata": {},
   "outputs": [
    {
     "output_type": "execute_result",
     "data": {
      "text/plain": [
       "'M/o Shipping '"
      ]
     },
     "metadata": {},
     "execution_count": 22
    }
   ],
   "source": [
    "location[1]"
   ]
  },
  {
   "cell_type": "code",
   "execution_count": 23,
   "metadata": {},
   "outputs": [],
   "source": [
    "easynic[\"Designation/Level\"] = exp_name\n",
    "easynic[\"Ministry/Department/Office/Location\"] = location\n",
    "easynic = easynic.rename(columns={\n",
    "    \"Qualification(Subject)\" : \"Qualification/University/Institute\",\n",
    "    \"Post Effect From\": \"Period(From/To)\",\n",
    "    'Domicile': \"Place of Domicile\",\n",
    "    \"Dt. of Appointment\" : \"Date of Joining\",\n",
    "})"
   ]
  },
  {
   "cell_type": "code",
   "execution_count": 24,
   "metadata": {},
   "outputs": [
    {
     "output_type": "execute_result",
     "data": {
      "text/plain": [
       "                                   Name Identity No. Date of Joining  \\\n",
       "0                          Ms. Rina Ray     UT016100      21-08-1984   \n",
       "1                Shri Jalaj Shrivastava     UT016500      21-08-1984   \n",
       "2                       Shri Arvind Ray     UT016400      21-08-1984   \n",
       "3               Ms. Shakuntala D Gamlin     UT016800      28-08-1984   \n",
       "4                      Shri Parimal Rai     UT016900      26-08-1985   \n",
       "...                                 ...          ...             ...   \n",
       "5200                  Ms. Tamil Oviya S     WB118X08      01-09-2019   \n",
       "5201                     Ms. Renu Sogan     WB118X09      01-09-2019   \n",
       "5202             Shri Anuj Pratap Singh     WB118X10      01-09-2019   \n",
       "5203                 Ms. Priyanka Singh     WB118X11      01-09-2019   \n",
       "5204  Ms. Wankhede Archana Pandharinath     WB118X12      01-09-2019   \n",
       "\n",
       "     Source of Recruitment IntraIAS User-Id  \\\n",
       "0                       RR             rayr   \n",
       "1                       RR           sjalaj   \n",
       "2                       RR             raya   \n",
       "3                       RR          gamlins   \n",
       "4                       RR       parimalrai   \n",
       "...                    ...              ...   \n",
       "5200                    RR        Not found   \n",
       "5201                    RR        Not found   \n",
       "5202                    RR        Not found   \n",
       "5203                    RR        Not found   \n",
       "5204                    RR        Not found   \n",
       "\n",
       "     Qualification/University/Institute Date of Birth Allotment Year  \\\n",
       "0                             M.A.|B.A.    06-03-1961           1984   \n",
       "1                           M.Sc.|B.Sc.    08-02-1961           1984   \n",
       "2                                  M.A.    08-01-1960           1984   \n",
       "3                             M.A.|B.A.    29-03-1961           1984   \n",
       "4                     PG|Diploma|M.Tech    05-01-1962           1985   \n",
       "...                                 ...           ...            ...   \n",
       "5200                           Graduate    26-09-1993           2019   \n",
       "5201                           Graduate    21-03-1994           2019   \n",
       "5202                           Graduate    30-03-1991           2019   \n",
       "5203                           Graduate    25-03-1992           2019   \n",
       "5204                           Graduate    09-01-1983           2019   \n",
       "\n",
       "            Cadre Place of Domicile  \\\n",
       "0       A G M U T             Bihar   \n",
       "1       A G M U T     Uttar Pradesh   \n",
       "2       A G M U T             Bihar   \n",
       "3       A G M U T             Assam   \n",
       "4       A G M U T             Delhi   \n",
       "...           ...               ...   \n",
       "5200  West Bengal        Tamil Nadu   \n",
       "5201  West Bengal         Rajasthan   \n",
       "5202  West Bengal     Uttar Pradesh   \n",
       "5203  West Bengal     Uttar Pradesh   \n",
       "5204  West Bengal       Maharashtra   \n",
       "\n",
       "                                           Present Post Period(From/To)  \\\n",
       "0                Financial Commissioner, GNCT of Delhi       18-11-2019   \n",
       "1     Chairman, Inland Waterways Auth of India (IWAI...      17-11-2018   \n",
       "2     Chairman & M D, Delhi State Civil Supplies Cor...      28-02-2019   \n",
       "3     Secretary Govt. of India, M/o Social Justice &...      11-10-2017   \n",
       "4                   Chief Secretary, Govt, of Goa, Goa       01-01-2019   \n",
       "...                                                 ...             ...   \n",
       "5200                                              N.A.       01-09-2018   \n",
       "5201                                              N.A.       01-09-2018   \n",
       "5202                                              N.A.       01-09-2018   \n",
       "5203                                              N.A.       01-09-2018   \n",
       "5204                                              N.A.       01-09-2018   \n",
       "\n",
       "                                       Payscale Remarks   Dataset name  \\\n",
       "0                            Level 17 in the Pay Matrix  DOPT(easynic)   \n",
       "1                            Level 15 in the Pay Matrix  DOPT(easynic)   \n",
       "2                            Level 17 in the Pay Matrix  DOPT(easynic)   \n",
       "3     Level 17 in the Pay Matrix On CD since 11/10/2017  DOPT(easynic)   \n",
       "4                            Level 17 in the Pay Matrix  DOPT(easynic)   \n",
       "...                                                 ...            ...   \n",
       "5200                         Level 10 in the Pay Matrix  DOPT(easynic)   \n",
       "5201                         Level 10 in the Pay Matrix  DOPT(easynic)   \n",
       "5202                         Level 10 in the Pay Matrix  DOPT(easynic)   \n",
       "5203                         Level 10 in the Pay Matrix  DOPT(easynic)   \n",
       "5204                         Level 10 in the Pay Matrix  DOPT(easynic)   \n",
       "\n",
       "                            Subject   Division  \\\n",
       "0     Sociology||Hons Political Sc.  Not Found   \n",
       "1                   Physics|Physics  Not Found   \n",
       "2                    |Political Sc.  Not Found   \n",
       "3                 Sociology|History  Not Found   \n",
       "4              |Ecology||System Mgt  Not Found   \n",
       "...                             ...        ...   \n",
       "5200                                 Not Found   \n",
       "5201                                 Not Found   \n",
       "5202                                 Not Found   \n",
       "5203                                 Not Found   \n",
       "5204                                 Not Found   \n",
       "\n",
       "                                      Designation/Level  \\\n",
       "0                                Financial Commissioner   \n",
       "1       Chairman, Inland Waterways Auth of India (IWAI)   \n",
       "2     Chairman & M D, Delhi State Civil Supplies Cor...   \n",
       "3                              Secretary Govt. of India   \n",
       "4                         Chief Secretary, Govt, of Goa   \n",
       "...                                                 ...   \n",
       "5200                                              N.A.    \n",
       "5201                                              N.A.    \n",
       "5202                                              N.A.    \n",
       "5203                                              N.A.    \n",
       "5204                                              N.A.    \n",
       "\n",
       "     Ministry/Department/Office/Location  \n",
       "0                         GNCT of Delhi   \n",
       "1                          M/o Shipping   \n",
       "2                        N C T of Delhi   \n",
       "3      M/o Social Justice & Empowerment   \n",
       "4                                   Goa   \n",
       "...                                  ...  \n",
       "5200                               N.A.   \n",
       "5201                               N.A.   \n",
       "5202                               N.A.   \n",
       "5203                               N.A.   \n",
       "5204                               N.A.   \n",
       "\n",
       "[5205 rows x 18 columns]"
      ],
      "text/html": "<div>\n<style scoped>\n    .dataframe tbody tr th:only-of-type {\n        vertical-align: middle;\n    }\n\n    .dataframe tbody tr th {\n        vertical-align: top;\n    }\n\n    .dataframe thead th {\n        text-align: right;\n    }\n</style>\n<table border=\"1\" class=\"dataframe\">\n  <thead>\n    <tr style=\"text-align: right;\">\n      <th></th>\n      <th>Name</th>\n      <th>Identity No.</th>\n      <th>Date of Joining</th>\n      <th>Source of Recruitment</th>\n      <th>IntraIAS User-Id</th>\n      <th>Qualification/University/Institute</th>\n      <th>Date of Birth</th>\n      <th>Allotment Year</th>\n      <th>Cadre</th>\n      <th>Place of Domicile</th>\n      <th>Present Post</th>\n      <th>Period(From/To)</th>\n      <th>Payscale Remarks</th>\n      <th>Dataset name</th>\n      <th>Subject</th>\n      <th>Division</th>\n      <th>Designation/Level</th>\n      <th>Ministry/Department/Office/Location</th>\n    </tr>\n  </thead>\n  <tbody>\n    <tr>\n      <th>0</th>\n      <td>Ms. Rina Ray</td>\n      <td>UT016100</td>\n      <td>21-08-1984</td>\n      <td>RR</td>\n      <td>rayr</td>\n      <td>M.A.|B.A.</td>\n      <td>06-03-1961</td>\n      <td>1984</td>\n      <td>A G M U T</td>\n      <td>Bihar</td>\n      <td>Financial Commissioner, GNCT of Delhi</td>\n      <td>18-11-2019</td>\n      <td>Level 17 in the Pay Matrix</td>\n      <td>DOPT(easynic)</td>\n      <td>Sociology||Hons Political Sc.</td>\n      <td>Not Found</td>\n      <td>Financial Commissioner</td>\n      <td>GNCT of Delhi</td>\n    </tr>\n    <tr>\n      <th>1</th>\n      <td>Shri Jalaj Shrivastava</td>\n      <td>UT016500</td>\n      <td>21-08-1984</td>\n      <td>RR</td>\n      <td>sjalaj</td>\n      <td>M.Sc.|B.Sc.</td>\n      <td>08-02-1961</td>\n      <td>1984</td>\n      <td>A G M U T</td>\n      <td>Uttar Pradesh</td>\n      <td>Chairman, Inland Waterways Auth of India (IWAI...</td>\n      <td>17-11-2018</td>\n      <td>Level 15 in the Pay Matrix</td>\n      <td>DOPT(easynic)</td>\n      <td>Physics|Physics</td>\n      <td>Not Found</td>\n      <td>Chairman, Inland Waterways Auth of India (IWAI)</td>\n      <td>M/o Shipping</td>\n    </tr>\n    <tr>\n      <th>2</th>\n      <td>Shri Arvind Ray</td>\n      <td>UT016400</td>\n      <td>21-08-1984</td>\n      <td>RR</td>\n      <td>raya</td>\n      <td>M.A.</td>\n      <td>08-01-1960</td>\n      <td>1984</td>\n      <td>A G M U T</td>\n      <td>Bihar</td>\n      <td>Chairman &amp; M D, Delhi State Civil Supplies Cor...</td>\n      <td>28-02-2019</td>\n      <td>Level 17 in the Pay Matrix</td>\n      <td>DOPT(easynic)</td>\n      <td>|Political Sc.</td>\n      <td>Not Found</td>\n      <td>Chairman &amp; M D, Delhi State Civil Supplies Cor...</td>\n      <td>N C T of Delhi</td>\n    </tr>\n    <tr>\n      <th>3</th>\n      <td>Ms. Shakuntala D Gamlin</td>\n      <td>UT016800</td>\n      <td>28-08-1984</td>\n      <td>RR</td>\n      <td>gamlins</td>\n      <td>M.A.|B.A.</td>\n      <td>29-03-1961</td>\n      <td>1984</td>\n      <td>A G M U T</td>\n      <td>Assam</td>\n      <td>Secretary Govt. of India, M/o Social Justice &amp;...</td>\n      <td>11-10-2017</td>\n      <td>Level 17 in the Pay Matrix On CD since 11/10/2017</td>\n      <td>DOPT(easynic)</td>\n      <td>Sociology|History</td>\n      <td>Not Found</td>\n      <td>Secretary Govt. of India</td>\n      <td>M/o Social Justice &amp; Empowerment</td>\n    </tr>\n    <tr>\n      <th>4</th>\n      <td>Shri Parimal Rai</td>\n      <td>UT016900</td>\n      <td>26-08-1985</td>\n      <td>RR</td>\n      <td>parimalrai</td>\n      <td>PG|Diploma|M.Tech</td>\n      <td>05-01-1962</td>\n      <td>1985</td>\n      <td>A G M U T</td>\n      <td>Delhi</td>\n      <td>Chief Secretary, Govt, of Goa, Goa</td>\n      <td>01-01-2019</td>\n      <td>Level 17 in the Pay Matrix</td>\n      <td>DOPT(easynic)</td>\n      <td>|Ecology||System Mgt</td>\n      <td>Not Found</td>\n      <td>Chief Secretary, Govt, of Goa</td>\n      <td>Goa</td>\n    </tr>\n    <tr>\n      <th>...</th>\n      <td>...</td>\n      <td>...</td>\n      <td>...</td>\n      <td>...</td>\n      <td>...</td>\n      <td>...</td>\n      <td>...</td>\n      <td>...</td>\n      <td>...</td>\n      <td>...</td>\n      <td>...</td>\n      <td>...</td>\n      <td>...</td>\n      <td>...</td>\n      <td>...</td>\n      <td>...</td>\n      <td>...</td>\n      <td>...</td>\n    </tr>\n    <tr>\n      <th>5200</th>\n      <td>Ms. Tamil Oviya S</td>\n      <td>WB118X08</td>\n      <td>01-09-2019</td>\n      <td>RR</td>\n      <td>Not found</td>\n      <td>Graduate</td>\n      <td>26-09-1993</td>\n      <td>2019</td>\n      <td>West Bengal</td>\n      <td>Tamil Nadu</td>\n      <td>N.A.</td>\n      <td>01-09-2018</td>\n      <td>Level 10 in the Pay Matrix</td>\n      <td>DOPT(easynic)</td>\n      <td></td>\n      <td>Not Found</td>\n      <td>N.A.</td>\n      <td>N.A.</td>\n    </tr>\n    <tr>\n      <th>5201</th>\n      <td>Ms. Renu Sogan</td>\n      <td>WB118X09</td>\n      <td>01-09-2019</td>\n      <td>RR</td>\n      <td>Not found</td>\n      <td>Graduate</td>\n      <td>21-03-1994</td>\n      <td>2019</td>\n      <td>West Bengal</td>\n      <td>Rajasthan</td>\n      <td>N.A.</td>\n      <td>01-09-2018</td>\n      <td>Level 10 in the Pay Matrix</td>\n      <td>DOPT(easynic)</td>\n      <td></td>\n      <td>Not Found</td>\n      <td>N.A.</td>\n      <td>N.A.</td>\n    </tr>\n    <tr>\n      <th>5202</th>\n      <td>Shri Anuj Pratap Singh</td>\n      <td>WB118X10</td>\n      <td>01-09-2019</td>\n      <td>RR</td>\n      <td>Not found</td>\n      <td>Graduate</td>\n      <td>30-03-1991</td>\n      <td>2019</td>\n      <td>West Bengal</td>\n      <td>Uttar Pradesh</td>\n      <td>N.A.</td>\n      <td>01-09-2018</td>\n      <td>Level 10 in the Pay Matrix</td>\n      <td>DOPT(easynic)</td>\n      <td></td>\n      <td>Not Found</td>\n      <td>N.A.</td>\n      <td>N.A.</td>\n    </tr>\n    <tr>\n      <th>5203</th>\n      <td>Ms. Priyanka Singh</td>\n      <td>WB118X11</td>\n      <td>01-09-2019</td>\n      <td>RR</td>\n      <td>Not found</td>\n      <td>Graduate</td>\n      <td>25-03-1992</td>\n      <td>2019</td>\n      <td>West Bengal</td>\n      <td>Uttar Pradesh</td>\n      <td>N.A.</td>\n      <td>01-09-2018</td>\n      <td>Level 10 in the Pay Matrix</td>\n      <td>DOPT(easynic)</td>\n      <td></td>\n      <td>Not Found</td>\n      <td>N.A.</td>\n      <td>N.A.</td>\n    </tr>\n    <tr>\n      <th>5204</th>\n      <td>Ms. Wankhede Archana Pandharinath</td>\n      <td>WB118X12</td>\n      <td>01-09-2019</td>\n      <td>RR</td>\n      <td>Not found</td>\n      <td>Graduate</td>\n      <td>09-01-1983</td>\n      <td>2019</td>\n      <td>West Bengal</td>\n      <td>Maharashtra</td>\n      <td>N.A.</td>\n      <td>01-09-2018</td>\n      <td>Level 10 in the Pay Matrix</td>\n      <td>DOPT(easynic)</td>\n      <td></td>\n      <td>Not Found</td>\n      <td>N.A.</td>\n      <td>N.A.</td>\n    </tr>\n  </tbody>\n</table>\n<p>5205 rows × 18 columns</p>\n</div>"
     },
     "metadata": {},
     "execution_count": 24
    }
   ],
   "source": [
    "easynic"
   ]
  },
  {
   "cell_type": "code",
   "execution_count": 25,
   "metadata": {},
   "outputs": [],
   "source": [
    "for column in supremo.columns:\n",
    "    if not column in easynic.columns:\n",
    "        easynic[column] = [\"Not Found\"] * len(easynic.index)"
   ]
  },
  {
   "cell_type": "code",
   "execution_count": 26,
   "metadata": {},
   "outputs": [],
   "source": [
    "for column in supremo.columns:\n",
    "    if not column in easynic.columns:\n",
    "        print(column)"
   ]
  },
  {
   "cell_type": "code",
   "execution_count": 27,
   "metadata": {},
   "outputs": [],
   "source": [
    "temp = supremo"
   ]
  },
  {
   "cell_type": "code",
   "execution_count": 28,
   "metadata": {},
   "outputs": [],
   "source": [
    "for i in easynic.index:\n",
    "    row = dict(easynic.iloc[i])\n",
    "    to_add = {}\n",
    "    for column in temp.columns:\n",
    "        to_add[column] = easynic[column][i]\n",
    "    temp = temp.append(to_add, ignore_index=True)"
   ]
  },
  {
   "cell_type": "code",
   "execution_count": 29,
   "metadata": {},
   "outputs": [],
   "source": [
    "temp.to_csv(\"./outputs/combined/test.csv\", index=True)"
   ]
  },
  {
   "cell_type": "code",
   "execution_count": null,
   "metadata": {},
   "outputs": [],
   "source": []
  }
 ]
}