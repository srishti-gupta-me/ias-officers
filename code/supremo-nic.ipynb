{
 "metadata": {
  "language_info": {
   "codemirror_mode": {
    "name": "ipython",
    "version": 3
   },
   "file_extension": ".py",
   "mimetype": "text/x-python",
   "name": "python",
   "nbconvert_exporter": "python",
   "pygments_lexer": "ipython3",
   "version": "3.8.7"
  },
  "orig_nbformat": 2,
  "kernelspec": {
   "name": "python3",
   "display_name": "Python 3.8.7 64-bit"
  },
  "interpreter": {
   "hash": "94edbaacddaafd6d45ba5506bea1ce8a371c01e0c71d6cc8e1f8803236d6de55"
  }
 },
 "nbformat": 4,
 "nbformat_minor": 2,
 "cells": [
  {
   "cell_type": "code",
   "execution_count": 1,
   "metadata": {},
   "outputs": [],
   "source": [
    "import math\n",
    "def make_verbose(start_with, done, total, max_lines=100):\n",
    "    num_lines = int((done/total)*max_lines)\n",
    "    lines = \"=\"*num_lines\n",
    "    spaces = \" \"*(max_lines-num_lines)\n",
    "    print(f\"\\r{start_with}  {lines}>{spaces}  {done}/{total}\", end=\"\", sep=\" \", flush=True)"
   ]
  },
  {
   "cell_type": "code",
   "execution_count": 2,
   "metadata": {},
   "outputs": [],
   "source": [
    "from selenium import webdriver\n",
    "from bs4 import BeautifulSoup\n",
    "import pandas as pd\n",
    "import os\n",
    "import time"
   ]
  },
  {
   "cell_type": "code",
   "execution_count": 3,
   "metadata": {},
   "outputs": [],
   "source": [
    "url=\"https://supremo.nic.in/KnowYourOfficerIAS.aspx\"\n",
    "\n",
    "driver = webdriver.Chrome('C:/Users/vedan/Desktop/python-utils/chromedriver/chromedriver.exe')\n",
    "# driver_profile = webdriver.Chrome('C:/Users/vedan/Desktop/python-utils/chromedriver/chromedriver.exe')"
   ]
  },
  {
   "cell_type": "code",
   "execution_count": 4,
   "metadata": {},
   "outputs": [],
   "source": [
    "driver.get(url)"
   ]
  },
  {
   "cell_type": "code",
   "execution_count": 5,
   "metadata": {},
   "outputs": [],
   "source": [
    "DROPDOWN_XPATH = \"/html/body/form/section[2]/div/div[1]/section/div/div/div[2]/div/div[1]/div/div/div[2]/div[1]/div/div/ul\"\n",
    "\n",
    "OPTIONS_XPATH = \"/html/body/form/section[2]/div/div[1]/section/div/div/div[2]/div/div[1]/div/div/div[2]/div[1]/div/div/div/ul\"\n",
    "\n",
    "YEAR_INPUT = \"/html/body/form/section[2]/div/div[1]/section/div/div/div[2]/div/div[1]/div/div/div[1]/div/div/input[1]\"\n",
    "\n",
    "SUBMIT_BUTTON = \"/html/body/form/section[2]/div/div[1]/section/div/div/div[2]/div/div[2]/input[1]\"\n",
    "\n",
    "RESET_BUTTON = \"/html/body/form/section[2]/div/div[1]/section/div/div/div[2]/div/div[2]/input[2]\"\n",
    "\n",
    "TABLE = \"/html/body/form/section[2]/div/div[1]/section/div/div/div[2]/div/div[4]/div[2]\"\n",
    "\n",
    "TABLE_PRIMARY = \"/html/body/form/div[3]/div[2]/div/div/div/div[1]/table\"\n",
    "\n",
    "TABLE_SECONDARY = \"/html/body/form/div[3]/div[2]/div/div/div/div[2]\"\n",
    "\n",
    "DATE_OF_JOINING_TABLE_ROW = \"/html/body/form/section[2]/div/div[1]/section/div/div/div[2]/div/div[4]/div[2]/table/tbody/tr\"\n",
    "DATE_OF_JOINING_TABLE_ELEMENT = \"/td[6]\""
   ]
  },
  {
   "cell_type": "code",
   "execution_count": 6,
   "metadata": {},
   "outputs": [],
   "source": [
    "def set_search_query(year):\n",
    "    driver.find_element_by_xpath(RESET_BUTTON).click()\n",
    "    driver.find_element_by_xpath(DROPDOWN_XPATH).click()\n",
    "    length = len(driver.find_element_by_xpath(OPTIONS_XPATH).find_elements_by_tag_name(\"li\"))\n",
    "    driver.find_element_by_xpath(OPTIONS_XPATH).find_elements_by_tag_name(\"li\")[1].click()\n",
    "    for i in range(2,length-1):\n",
    "        driver.find_element_by_xpath(DROPDOWN_XPATH).click()\n",
    "        driver.find_element_by_xpath(OPTIONS_XPATH).find_elements_by_tag_name(\"li\")[i].click()\n",
    "    \n",
    "    year_input = driver.find_element_by_xpath(YEAR_INPUT)\n",
    "    year_input.click()\n",
    "    year_input.send_keys(str(year))\n",
    "\n",
    "    driver.find_element_by_xpath(SUBMIT_BUTTON).click()"
   ]
  },
  {
   "cell_type": "code",
   "execution_count": 8,
   "metadata": {},
   "outputs": [],
   "source": [
    "set_search_query(2018)"
   ]
  },
  {
   "cell_type": "code",
   "execution_count": 9,
   "metadata": {},
   "outputs": [],
   "source": [
    "def extract_info_from_profile(url):\n",
    "    info = {\n",
    "        \"Name\":\"\",\n",
    "        \"Service\":\"\",\n",
    "        \"Cadre\":\"\",\n",
    "        \"Allotment Year\":\"\",\n",
    "        \"Date of Birth\":\"\",\n",
    "        \"Identity No.\":\"\",\n",
    "        \"Source of Recruitment\":\"\",\n",
    "        \"Gender\":\"\",\n",
    "        \"Place of Domicile\": \"\",\n",
    "        \"Mother Tongue\":\"\",\n",
    "        \"Languages Known\":\"\",\n",
    "        \"Retirement Reason\":\"\",\n",
    "        \"Qualification/University/Institute\":\"\",\n",
    "        \"Subject\":\"\",\n",
    "        \"Division\":\"\",\n",
    "        \"Designation/Level\":\"\",\n",
    "        \"Ministry/Department/Office/Location\":\"\",\n",
    "        \"Organisation\":\"\",\n",
    "        \"Experience(major/minor)\":\"\",\n",
    "        \"Period(From/To)\":\"\"\n",
    "    }\n",
    "    driver_profile.get(url)\n",
    "    table_primary = driver_profile.find_element_by_xpath(TABLE_PRIMARY).find_elements_by_tag_name(\"tr\")\n",
    "    tables_secondary = driver_profile.find_element_by_xpath(TABLE_SECONDARY).find_elements_by_tag_name(\"table\")\n",
    "\n",
    "    t_identification = {\n",
    "        \"III. Educational Qualifications.\": [\"Qualification/University/Institute\", \"Subject\", \"Division\"],\n",
    "        \"IV. Experience Details\": [\"Designation/Level\", \"Ministry/Department/Office/Location\", \"Organisation\", \"Experience(major/minor)\", \"Period(From/To)\"]\n",
    "    }\n",
    "\n",
    "    for row in table_primary:\n",
    "        tds = row.find_elements_by_tag_name(\"td\")\n",
    "        labels = tds[0].text.replace(\":\",\"\").strip().split(\"/ \")\n",
    "        values = tds[1].text.strip().split(\"/ \")\n",
    "        for label, value in zip(labels, values):\n",
    "            info[label] += value\n",
    "\n",
    "    for table in tables_secondary[1:3]:\n",
    "        thead = table.find_element_by_tag_name(\"thead\")\n",
    "        table_name = thead.find_element_by_tag_name(\"tr\").text\n",
    "        keys_to_address = t_identification.get(table_name, 0)\n",
    "        try:\n",
    "            trs = table.find_element_by_tag_name(\"tbody\").find_elements_by_tag_name(\"tr\")\n",
    "            for j, row in enumerate(trs):\n",
    "                if j%2 == 0:\n",
    "                    end_string = \"\"\n",
    "                    if j < (len(trs)-2):\n",
    "                        end_string += \"|\"\n",
    "                    items = row.find_elements_by_tag_name(\"td\")[1:]\n",
    "                    for i, key in enumerate(keys_to_address):\n",
    "                        information_to_add = items[i].text.replace(\"\\n\", \"/\")\n",
    "                        info[key] += information_to_add + end_string\n",
    "        except:\n",
    "            trs = None\n",
    "            for i, key in enumerate(keys_to_address):\n",
    "                information_to_add = \"\"\n",
    "                info[key] += information_to_add\n",
    "    return info"
   ]
  },
  {
   "cell_type": "code",
   "execution_count": 9,
   "metadata": {},
   "outputs": [
    {
     "output_type": "execute_result",
     "data": {
      "text/plain": [
       "{'Name': 'Shri J.D. Desai',\n",
       " 'Service': 'Indian Administrative Service ',\n",
       " 'Cadre': 'Gujarat ',\n",
       " 'Allotment Year': '2009',\n",
       " 'Date of Birth': '09/07/1963',\n",
       " 'Identity No.': '01GJ815306',\n",
       " 'Source of Recruitment': 'By Promotion from State Civil Service',\n",
       " 'Gender': 'Male',\n",
       " 'Place of Domicile': 'N.A.',\n",
       " 'Mother Tongue': 'N.A.',\n",
       " 'Languages Known': '',\n",
       " 'Retirement Reason': 'Serving',\n",
       " 'Qualification/University/Institute': '',\n",
       " 'Subject': '',\n",
       " 'Division': '',\n",
       " 'Designation/Level': 'N.A./Not Available',\n",
       " 'Ministry/Department/Office/Location': '',\n",
       " 'Organisation': 'Cadre (AIS)',\n",
       " 'Experience(major/minor)': '/ N.Applicable/N.Available',\n",
       " 'Period(From/To)': '01/04/2016 -'}"
      ]
     },
     "metadata": {},
     "execution_count": 9
    }
   ],
   "source": [
    "profile_url = \"https://supremo.nic.in/ERSheetHtml.aspx?OffIDErhtml=27177&PageId=\"\n",
    "extract_info_from_profile(profile_url)"
   ]
  },
  {
   "cell_type": "code",
   "execution_count": 10,
   "metadata": {},
   "outputs": [],
   "source": [
    "def scrape_table(table, info, year):\n",
    "    keys = [key for key in info.keys()]\n",
    "    trs = table.find_elements_by_tag_name(\"tr\")[1:]\n",
    "    length = len(trs)\n",
    "\n",
    "    for k, tr in enumerate(trs):\n",
    "        make_verbose(year, k+1, length, 25)\n",
    "        # td = tr.find_elements_by_tag_name(\"td\")[0]\n",
    "        # prof_url = tr.find_element_by_xpath(f\"/html/body/form/section[2]/div/div[1]/section/div/div/div[2]/div/div[4]/div[2]/table/tbody/tr[{str(k+2)}]/td[1]/u/a\").get_property(\"href\")\n",
    "        prof_url = tr.find_element_by_tag_name(\"a\").get_property(\"href\")\n",
    "        info.get(\"Profile URL\", 0).append(prof_url)\n",
    "        # info.get(\"Date of Joining\", 0).append(tr.find_element_by_xpath(f\"/html/body/form/section[2]/div/div[1]/section/div/div/div[2]/div/div[4]/div[2]/table/tbody/tr[{str(k+2)}]/td[6]\").text)\n",
    "        # information = extract_info_from_profile(prof_url)\n",
    "\n",
    "        # for key in information.keys():\n",
    "        #     info.get(key, 0).append(information[key])\n"
   ]
  },
  {
   "cell_type": "code",
   "execution_count": 11,
   "metadata": {},
   "outputs": [],
   "source": [
    "def scrape_for_range(start_year=1951, end_year=2020, info={}):\n",
    "    for i in range(start_year, end_year+1):\n",
    "        set_search_query(i)\n",
    "        table = driver.find_element_by_xpath(TABLE)\n",
    "        scrape_table(table, info, i)"
   ]
  },
  {
   "cell_type": "code",
   "execution_count": 16,
   "metadata": {},
   "outputs": [
    {
     "output_type": "stream",
     "name": "stdout",
     "text": [
      "2020  =========================>  122/122"
     ]
    }
   ],
   "source": [
    "driver.get(url)\n",
    "start_year = 2020\n",
    "end_year = 2020\n",
    "info = {\n",
    "    \"Name\":[],\n",
    "    \"Service\":[],\n",
    "    \"Cadre\":[],\n",
    "    \"Allotment Year\":[],\n",
    "    \"Date of Birth\":[],\n",
    "    \"Date of Joining\":[],\n",
    "    \"Identity No.\":[],\n",
    "    \"Source of Recruitment\":[],\n",
    "    \"Gender\":[],\n",
    "    \"Place of Domicile\": [],\n",
    "    \"Mother Tongue\":[],\n",
    "    \"Languages Known\":[],\n",
    "    \"Retirement Reason\":[],\n",
    "    \"Qualification/University/Institute\":[],\n",
    "    \"Subject\":[],\n",
    "    \"Division\":[],\n",
    "    \"Designation/Level\":[],\n",
    "    \"Ministry/Department/Office/Location\":[],\n",
    "    \"Organisation\":[],\n",
    "    \"Experience(major/minor)\":[],\n",
    "    \"Period(From/To)\":[],\n",
    "    \"Profile URL\": []\n",
    "}\n",
    "scrape_for_range(start_year, end_year, info)\n",
    "# info[\"Name\"] = info[\"Name\"][:len(info[\"Name\"])-1]"
   ]
  },
  {
   "cell_type": "code",
   "execution_count": 13,
   "metadata": {},
   "outputs": [
    {
     "output_type": "stream",
     "name": "stdout",
     "text": [
      "Name:0\nService:0\nCadre:0\nAllotment Year:0\nDate of Birth:0\nDate of Joining:0\nIdentity No.:0\nSource of Recruitment:0\nGender:0\nPlace of Domicile:0\nMother Tongue:0\nLanguages Known:0\nRetirement Reason:0\nQualification/University/Institute:0\nSubject:0\nDivision:0\nDesignation/Level:0\nMinistry/Department/Office/Location:0\nOrganisation:0\nExperience(major/minor):0\nPeriod(From/To):0\nProfile URL:9570\n"
     ]
    }
   ],
   "source": [
    "for key in info.keys():\n",
    "    print(f\"{key}:{len(info[key])}\")"
   ]
  },
  {
   "cell_type": "code",
   "execution_count": 14,
   "metadata": {},
   "outputs": [],
   "source": [
    "def create_df_from_dict(info):\n",
    "    df = pd.DataFrame()\n",
    "    keys = [str(key) for key in info.keys()]\n",
    "    for key in keys[:len(keys)-1]:\n",
    "        print(key)\n",
    "        df[key] = list(info[key])\n",
    "    \n",
    "    return df"
   ]
  },
  {
   "cell_type": "code",
   "execution_count": 15,
   "metadata": {},
   "outputs": [],
   "source": [
    "profiles = info[\"Profile URL\"]"
   ]
  },
  {
   "cell_type": "code",
   "execution_count": 17,
   "metadata": {},
   "outputs": [],
   "source": [
    "profiles.append(info[\"Profile URL\"])"
   ]
  },
  {
   "cell_type": "code",
   "execution_count": 86,
   "metadata": {},
   "outputs": [
    {
     "output_type": "stream",
     "name": "stdout",
     "text": [
      "Name\nService\nCadre\nAllotment Year\nDate of Birth\nDate of Joining\nIdentity No.\nSource of Recruitment\nGender\nPlace of Domicile\nMother Tongue\nLanguages Known\nRetirement Reason\nQualification/University/Institute\nSubject\nDivision\nDesignation/Level\nMinistry/Department/Office/Location\nOrganisation\nExperience(major/minor)\nPeriod(From/To)\n"
     ]
    }
   ],
   "source": [
    "new_df = create_df_from_dict(info)"
   ]
  },
  {
   "cell_type": "code",
   "execution_count": 87,
   "metadata": {},
   "outputs": [
    {
     "output_type": "execute_result",
     "data": {
      "text/plain": [
       "                             Name                         Service       Cadre  \\\n",
       "0              Shri Jatin Kishore  Indian Administrative Service   A G M U T    \n",
       "1              Ms. Vishakha Yadav  Indian Administrative Service   A G M U T    \n",
       "2                Ms. Navneet Mann  Indian Administrative Service   A G M U T    \n",
       "3              Shri Shishir Gupta  Indian Administrative Service   A G M U T    \n",
       "4            Ms. Yashni Nagarajan  Indian Administrative Service   A G M U T    \n",
       "..                            ...                             ...         ...   \n",
       "117              Ms. Gunjan Singh  Indian Administrative Service   Rajasthan    \n",
       "118      Shri Dheeraj Kumar Singh  Indian Administrative Service   Rajasthan    \n",
       "119  Shri Siddharth Palanichamy S  Indian Administrative Service   Rajasthan    \n",
       "120                Shri Sohan Lal  Indian Administrative Service   Rajasthan    \n",
       "121             Shri Mridul Singh  Indian Administrative Service   Rajasthan    \n",
       "\n",
       "    Allotment Year Date of Birth Date of Joining Identity No.  \\\n",
       "0             2020    22/07/1994                   01UT119A01   \n",
       "1             2020    21/02/1993                   01UT119A02   \n",
       "2             2020    06/06/1995                   01UT119A03   \n",
       "3             2020    07/12/1990                   01UT119A04   \n",
       "4             2020    23/03/1993                   01UT119A05   \n",
       "..             ...           ...             ...          ...   \n",
       "117           2020    29/07/1993                   01RJ119S02   \n",
       "118           2020    28/06/1991                   01RJ119S03   \n",
       "119           2020    25/12/1996                   01RJ119S04   \n",
       "120           2020    01/07/1994                   01RJ119S05   \n",
       "121           2020    13/12/1995                   01RJ119S06   \n",
       "\n",
       "    Source of Recruitment  Gender  Place of Domicile  ... Languages Known  \\\n",
       "0      Direct Recruitment    Male              Delhi  ...                   \n",
       "1      Direct Recruitment  Female              Delhi  ...                   \n",
       "2      Direct Recruitment  Female             Punjab  ...                   \n",
       "3      Direct Recruitment    Male          Rajasthan  ...                   \n",
       "4      Direct Recruitment  Female  Arunachal Pradesh  ...                   \n",
       "..                    ...     ...                ...  ...             ...   \n",
       "117    Direct Recruitment  Female      Uttar Pradesh  ...                   \n",
       "118    Direct Recruitment    Male      Uttar Pradesh  ...                   \n",
       "119    Direct Recruitment    Male         Tamil Nadu  ...                   \n",
       "120    Direct Recruitment    Male          Rajasthan  ...                   \n",
       "121    Direct Recruitment    Male          Rajasthan  ...                   \n",
       "\n",
       "    Retirement Reason Qualification/University/Institute Subject Division  \\\n",
       "0             Serving                                                       \n",
       "1             Serving                                                       \n",
       "2             Serving                                                       \n",
       "3             Serving                                                       \n",
       "4             Serving                                                       \n",
       "..                ...                                ...     ...      ...   \n",
       "117           Serving                                                       \n",
       "118           Serving                                                       \n",
       "119           Serving                                                       \n",
       "120           Serving                                                       \n",
       "121           Serving                                                       \n",
       "\n",
       "    Designation/Level Ministry/Department/Office/Location Organisation  \\\n",
       "0                                                                        \n",
       "1                                                                        \n",
       "2                                                                        \n",
       "3                                                                        \n",
       "4                                                                        \n",
       "..                ...                                 ...          ...   \n",
       "117                                                                      \n",
       "118                                                                      \n",
       "119                                                                      \n",
       "120                                                                      \n",
       "121                                                                      \n",
       "\n",
       "    Experience(major/minor) Period(From/To)  \n",
       "0                                            \n",
       "1                                            \n",
       "2                                            \n",
       "3                                            \n",
       "4                                            \n",
       "..                      ...             ...  \n",
       "117                                          \n",
       "118                                          \n",
       "119                                          \n",
       "120                                          \n",
       "121                                          \n",
       "\n",
       "[122 rows x 21 columns]"
      ],
      "text/html": "<div>\n<style scoped>\n    .dataframe tbody tr th:only-of-type {\n        vertical-align: middle;\n    }\n\n    .dataframe tbody tr th {\n        vertical-align: top;\n    }\n\n    .dataframe thead th {\n        text-align: right;\n    }\n</style>\n<table border=\"1\" class=\"dataframe\">\n  <thead>\n    <tr style=\"text-align: right;\">\n      <th></th>\n      <th>Name</th>\n      <th>Service</th>\n      <th>Cadre</th>\n      <th>Allotment Year</th>\n      <th>Date of Birth</th>\n      <th>Date of Joining</th>\n      <th>Identity No.</th>\n      <th>Source of Recruitment</th>\n      <th>Gender</th>\n      <th>Place of Domicile</th>\n      <th>...</th>\n      <th>Languages Known</th>\n      <th>Retirement Reason</th>\n      <th>Qualification/University/Institute</th>\n      <th>Subject</th>\n      <th>Division</th>\n      <th>Designation/Level</th>\n      <th>Ministry/Department/Office/Location</th>\n      <th>Organisation</th>\n      <th>Experience(major/minor)</th>\n      <th>Period(From/To)</th>\n    </tr>\n  </thead>\n  <tbody>\n    <tr>\n      <th>0</th>\n      <td>Shri Jatin Kishore</td>\n      <td>Indian Administrative Service</td>\n      <td>A G M U T</td>\n      <td>2020</td>\n      <td>22/07/1994</td>\n      <td></td>\n      <td>01UT119A01</td>\n      <td>Direct Recruitment</td>\n      <td>Male</td>\n      <td>Delhi</td>\n      <td>...</td>\n      <td></td>\n      <td>Serving</td>\n      <td></td>\n      <td></td>\n      <td></td>\n      <td></td>\n      <td></td>\n      <td></td>\n      <td></td>\n      <td></td>\n    </tr>\n    <tr>\n      <th>1</th>\n      <td>Ms. Vishakha Yadav</td>\n      <td>Indian Administrative Service</td>\n      <td>A G M U T</td>\n      <td>2020</td>\n      <td>21/02/1993</td>\n      <td></td>\n      <td>01UT119A02</td>\n      <td>Direct Recruitment</td>\n      <td>Female</td>\n      <td>Delhi</td>\n      <td>...</td>\n      <td></td>\n      <td>Serving</td>\n      <td></td>\n      <td></td>\n      <td></td>\n      <td></td>\n      <td></td>\n      <td></td>\n      <td></td>\n      <td></td>\n    </tr>\n    <tr>\n      <th>2</th>\n      <td>Ms. Navneet Mann</td>\n      <td>Indian Administrative Service</td>\n      <td>A G M U T</td>\n      <td>2020</td>\n      <td>06/06/1995</td>\n      <td></td>\n      <td>01UT119A03</td>\n      <td>Direct Recruitment</td>\n      <td>Female</td>\n      <td>Punjab</td>\n      <td>...</td>\n      <td></td>\n      <td>Serving</td>\n      <td></td>\n      <td></td>\n      <td></td>\n      <td></td>\n      <td></td>\n      <td></td>\n      <td></td>\n      <td></td>\n    </tr>\n    <tr>\n      <th>3</th>\n      <td>Shri Shishir Gupta</td>\n      <td>Indian Administrative Service</td>\n      <td>A G M U T</td>\n      <td>2020</td>\n      <td>07/12/1990</td>\n      <td></td>\n      <td>01UT119A04</td>\n      <td>Direct Recruitment</td>\n      <td>Male</td>\n      <td>Rajasthan</td>\n      <td>...</td>\n      <td></td>\n      <td>Serving</td>\n      <td></td>\n      <td></td>\n      <td></td>\n      <td></td>\n      <td></td>\n      <td></td>\n      <td></td>\n      <td></td>\n    </tr>\n    <tr>\n      <th>4</th>\n      <td>Ms. Yashni Nagarajan</td>\n      <td>Indian Administrative Service</td>\n      <td>A G M U T</td>\n      <td>2020</td>\n      <td>23/03/1993</td>\n      <td></td>\n      <td>01UT119A05</td>\n      <td>Direct Recruitment</td>\n      <td>Female</td>\n      <td>Arunachal Pradesh</td>\n      <td>...</td>\n      <td></td>\n      <td>Serving</td>\n      <td></td>\n      <td></td>\n      <td></td>\n      <td></td>\n      <td></td>\n      <td></td>\n      <td></td>\n      <td></td>\n    </tr>\n    <tr>\n      <th>...</th>\n      <td>...</td>\n      <td>...</td>\n      <td>...</td>\n      <td>...</td>\n      <td>...</td>\n      <td>...</td>\n      <td>...</td>\n      <td>...</td>\n      <td>...</td>\n      <td>...</td>\n      <td>...</td>\n      <td>...</td>\n      <td>...</td>\n      <td>...</td>\n      <td>...</td>\n      <td>...</td>\n      <td>...</td>\n      <td>...</td>\n      <td>...</td>\n      <td>...</td>\n      <td>...</td>\n    </tr>\n    <tr>\n      <th>117</th>\n      <td>Ms. Gunjan Singh</td>\n      <td>Indian Administrative Service</td>\n      <td>Rajasthan</td>\n      <td>2020</td>\n      <td>29/07/1993</td>\n      <td></td>\n      <td>01RJ119S02</td>\n      <td>Direct Recruitment</td>\n      <td>Female</td>\n      <td>Uttar Pradesh</td>\n      <td>...</td>\n      <td></td>\n      <td>Serving</td>\n      <td></td>\n      <td></td>\n      <td></td>\n      <td></td>\n      <td></td>\n      <td></td>\n      <td></td>\n      <td></td>\n    </tr>\n    <tr>\n      <th>118</th>\n      <td>Shri Dheeraj Kumar Singh</td>\n      <td>Indian Administrative Service</td>\n      <td>Rajasthan</td>\n      <td>2020</td>\n      <td>28/06/1991</td>\n      <td></td>\n      <td>01RJ119S03</td>\n      <td>Direct Recruitment</td>\n      <td>Male</td>\n      <td>Uttar Pradesh</td>\n      <td>...</td>\n      <td></td>\n      <td>Serving</td>\n      <td></td>\n      <td></td>\n      <td></td>\n      <td></td>\n      <td></td>\n      <td></td>\n      <td></td>\n      <td></td>\n    </tr>\n    <tr>\n      <th>119</th>\n      <td>Shri Siddharth Palanichamy S</td>\n      <td>Indian Administrative Service</td>\n      <td>Rajasthan</td>\n      <td>2020</td>\n      <td>25/12/1996</td>\n      <td></td>\n      <td>01RJ119S04</td>\n      <td>Direct Recruitment</td>\n      <td>Male</td>\n      <td>Tamil Nadu</td>\n      <td>...</td>\n      <td></td>\n      <td>Serving</td>\n      <td></td>\n      <td></td>\n      <td></td>\n      <td></td>\n      <td></td>\n      <td></td>\n      <td></td>\n      <td></td>\n    </tr>\n    <tr>\n      <th>120</th>\n      <td>Shri Sohan Lal</td>\n      <td>Indian Administrative Service</td>\n      <td>Rajasthan</td>\n      <td>2020</td>\n      <td>01/07/1994</td>\n      <td></td>\n      <td>01RJ119S05</td>\n      <td>Direct Recruitment</td>\n      <td>Male</td>\n      <td>Rajasthan</td>\n      <td>...</td>\n      <td></td>\n      <td>Serving</td>\n      <td></td>\n      <td></td>\n      <td></td>\n      <td></td>\n      <td></td>\n      <td></td>\n      <td></td>\n      <td></td>\n    </tr>\n    <tr>\n      <th>121</th>\n      <td>Shri Mridul Singh</td>\n      <td>Indian Administrative Service</td>\n      <td>Rajasthan</td>\n      <td>2020</td>\n      <td>13/12/1995</td>\n      <td></td>\n      <td>01RJ119S06</td>\n      <td>Direct Recruitment</td>\n      <td>Male</td>\n      <td>Rajasthan</td>\n      <td>...</td>\n      <td></td>\n      <td>Serving</td>\n      <td></td>\n      <td></td>\n      <td></td>\n      <td></td>\n      <td></td>\n      <td></td>\n      <td></td>\n      <td></td>\n    </tr>\n  </tbody>\n</table>\n<p>122 rows × 21 columns</p>\n</div>"
     },
     "metadata": {},
     "execution_count": 87
    }
   ],
   "source": [
    "new_df"
   ]
  },
  {
   "cell_type": "code",
   "execution_count": 35,
   "metadata": {},
   "outputs": [
    {
     "output_type": "execute_result",
     "data": {
      "text/plain": [
       "0       1982\n",
       "1       1982\n",
       "2       1982\n",
       "3       1982\n",
       "4       1982\n",
       "        ... \n",
       "2260    1992\n",
       "2261    1992\n",
       "2262    1992\n",
       "2263    1992\n",
       "2264    1992\n",
       "Name: Allotment Year, Length: 2265, dtype: object"
      ]
     },
     "metadata": {},
     "execution_count": 35
    }
   ],
   "source": [
    "new_df[\"Allotment Year\"]"
   ]
  },
  {
   "cell_type": "code",
   "execution_count": 26,
   "metadata": {},
   "outputs": [],
   "source": [
    "new_df.to_csv(\"./outputs/supremo-nic-in/supremo-nic.csv\", index=False)"
   ]
  },
  {
   "cell_type": "code",
   "execution_count": 49,
   "metadata": {},
   "outputs": [],
   "source": [
    "info[\"Name\"] = info[\"Name\"][:len(info[\"Name\"])-1]"
   ]
  },
  {
   "cell_type": "code",
   "execution_count": 18,
   "metadata": {},
   "outputs": [],
   "source": [
    "df = pd.read_csv(\"./outputs/supremo-nic-in/supremo-nic.csv\")"
   ]
  },
  {
   "cell_type": "code",
   "execution_count": 19,
   "metadata": {},
   "outputs": [
    {
     "output_type": "execute_result",
     "data": {
      "text/plain": [
       "                              Name                         Service  \\\n",
       "9492           Shri Abinash Mishra  Indian Administrative Service    \n",
       "9493          Shri Abhishek Sharma  Indian Administrative Service    \n",
       "9494         Shri Ashutosh Dwivedi  Indian Administrative Service    \n",
       "9495      Shri Aditya Vikram Yadav  Indian Administrative Service    \n",
       "9496              Shri Vinod Duhan  Indian Administrative Service    \n",
       "...                            ...                             ...   \n",
       "9687              Ms. Gunjan Singh  Indian Administrative Service    \n",
       "9688      Shri Dheeraj Kumar Singh  Indian Administrative Service    \n",
       "9689  Shri Siddharth Palanichamy S  Indian Administrative Service    \n",
       "9690                Shri Sohan Lal  Indian Administrative Service    \n",
       "9691             Shri Mridul Singh  Indian Administrative Service    \n",
       "\n",
       "                Cadre  Allotment Year Date of Birth Date of Joining  \\\n",
       "9492    Chhattisgarh             2018    02/07/1992      01/09/2018   \n",
       "9493    Chhattisgarh             2018    19/11/1993      01/09/2018   \n",
       "9494           Bihar             2018    23/08/1987      01/09/2018   \n",
       "9495  Assam Meghalya             2018    22/07/1993      01/09/2018   \n",
       "9496           Bihar             2018    11/11/1987      01/09/2018   \n",
       "...               ...             ...           ...             ...   \n",
       "9687       Rajasthan             2020    29/07/1993             NaN   \n",
       "9688       Rajasthan             2020    28/06/1991             NaN   \n",
       "9689       Rajasthan             2020    25/12/1996             NaN   \n",
       "9690       Rajasthan             2020    01/07/1994             NaN   \n",
       "9691       Rajasthan             2020    13/12/1995             NaN   \n",
       "\n",
       "     Identity No. Source of Recruitment  Gender Place of Domicile  ...  \\\n",
       "9492   01CG117E03    Direct Recruitment    Male            Odisha  ...   \n",
       "9493   01CG117E04    Direct Recruitment    Male   Jammu & Kashmir  ...   \n",
       "9494   01MN117Y01    Direct Recruitment    Male     Uttar Pradesh  ...   \n",
       "9495   01AM117C04    Direct Recruitment    Male             Delhi  ...   \n",
       "9496   01NL117P01    Direct Recruitment    Male           Haryana  ...   \n",
       "...           ...                   ...     ...               ...  ...   \n",
       "9687   01RJ119S02    Direct Recruitment  Female     Uttar Pradesh  ...   \n",
       "9688   01RJ119S03    Direct Recruitment    Male     Uttar Pradesh  ...   \n",
       "9689   01RJ119S04    Direct Recruitment    Male        Tamil Nadu  ...   \n",
       "9690   01RJ119S05    Direct Recruitment    Male         Rajasthan  ...   \n",
       "9691   01RJ119S06    Direct Recruitment    Male         Rajasthan  ...   \n",
       "\n",
       "     Languages Known Retirement Reason  \\\n",
       "9492             NaN           Serving   \n",
       "9493             NaN           Serving   \n",
       "9494             NaN           Serving   \n",
       "9495             NaN           Serving   \n",
       "9496             NaN           Serving   \n",
       "...              ...               ...   \n",
       "9687             NaN           Serving   \n",
       "9688             NaN           Serving   \n",
       "9689             NaN           Serving   \n",
       "9690             NaN           Serving   \n",
       "9691             NaN           Serving   \n",
       "\n",
       "                     Qualification/University/Institute  \\\n",
       "9492  B.Tech./Indian Institute of Technology Kharagp...   \n",
       "9493  B.E./Jammu University|M.A./JAWAHAR LAL NEHRU U...   \n",
       "9494  B.Tech./Uttar Pradesh Technical University Luc...   \n",
       "9495  B.A., LL.B./National Law University Delhi/Nati...   \n",
       "9496             B.E./PEC,CHANDIGARH/University College   \n",
       "...                                                 ...   \n",
       "9687                                                NaN   \n",
       "9688                                                NaN   \n",
       "9689                                                NaN   \n",
       "9690                                                NaN   \n",
       "9691                                                NaN   \n",
       "\n",
       "                           Subject                     Division  \\\n",
       "9492        Mechanical engineering                        First   \n",
       "9493  Civil Engg|Public Management  First with Distinction|Pass   \n",
       "9494                    Mechanical                        First   \n",
       "9495             Constitl. Law|Law                  First|First   \n",
       "9496        Information Technology                        First   \n",
       "...                            ...                          ...   \n",
       "9687                           NaN                          NaN   \n",
       "9688                           NaN                          NaN   \n",
       "9689                           NaN                          NaN   \n",
       "9690                           NaN                          NaN   \n",
       "9691                           NaN                          NaN   \n",
       "\n",
       "                                      Designation/Level  \\\n",
       "9492                                 N.A./Not Available   \n",
       "9493              S D M/Junior Scale|N.A./Not Available   \n",
       "9494  Assistant Collector & Assistant Magistrate/Not...   \n",
       "9495    AC (UT)with DC/Not Available|N.A./Not Available   \n",
       "9496          Assistant Collector & A D M/Not Available   \n",
       "...                                                 ...   \n",
       "9687                                                NaN   \n",
       "9688                                                NaN   \n",
       "9689                                                NaN   \n",
       "9690                                                NaN   \n",
       "9691                                                NaN   \n",
       "\n",
       "                   Ministry/Department/Office/Location  \\\n",
       "9492                                               NaN   \n",
       "9493                                                 |   \n",
       "9494                                         Bhagalpur   \n",
       "9495  Department of Personnel/O/o Deputy Commissioner|   \n",
       "9496                                               NaN   \n",
       "...                                                ...   \n",
       "9687                                               NaN   \n",
       "9688                                               NaN   \n",
       "9689                                               NaN   \n",
       "9690                                               NaN   \n",
       "9691                                               NaN   \n",
       "\n",
       "                              Organisation  \\\n",
       "9492                           Cadre (AIS)   \n",
       "9493               Cadre (AIS)|Cadre (AIS)   \n",
       "9494              Cadre(Domestic Training)   \n",
       "9495  Cadre(Domestic Training)|Cadre (AIS)   \n",
       "9496              Cadre(Domestic Training)   \n",
       "...                                    ...   \n",
       "9687                                   NaN   \n",
       "9688                                   NaN   \n",
       "9689                                   NaN   \n",
       "9690                                   NaN   \n",
       "9691                                   NaN   \n",
       "\n",
       "                                Experience(major/minor)  \\\n",
       "9492                         / N.Applicable/N.Available   \n",
       "9493  Land Acquision / Land Revenue Mgmt & District ...   \n",
       "9494                        Law / Public Administration   \n",
       "9495  Rural Employment / Rural Dev|/ N.Applicable/N....   \n",
       "9496      Public Administration / Public Administration   \n",
       "...                                                 ...   \n",
       "9687                                                NaN   \n",
       "9688                                                NaN   \n",
       "9689                                                NaN   \n",
       "9690                                                NaN   \n",
       "9691                                                NaN   \n",
       "\n",
       "                                      Period(From/To)  \n",
       "9492                                     01/09/2018 -  \n",
       "9493             21/09/2020 -|01/09/2018 - 30/08/2019  \n",
       "9494                          14/07/2019 - 13/08/2019  \n",
       "9495  03/06/2019 - 25/08/2019|01/09/2018 - 25/08/2019  \n",
       "9496                          15/07/2019 - 28/08/2019  \n",
       "...                                               ...  \n",
       "9687                                              NaN  \n",
       "9688                                              NaN  \n",
       "9689                                              NaN  \n",
       "9690                                              NaN  \n",
       "9691                                              NaN  \n",
       "\n",
       "[200 rows x 21 columns]"
      ],
      "text/html": "<div>\n<style scoped>\n    .dataframe tbody tr th:only-of-type {\n        vertical-align: middle;\n    }\n\n    .dataframe tbody tr th {\n        vertical-align: top;\n    }\n\n    .dataframe thead th {\n        text-align: right;\n    }\n</style>\n<table border=\"1\" class=\"dataframe\">\n  <thead>\n    <tr style=\"text-align: right;\">\n      <th></th>\n      <th>Name</th>\n      <th>Service</th>\n      <th>Cadre</th>\n      <th>Allotment Year</th>\n      <th>Date of Birth</th>\n      <th>Date of Joining</th>\n      <th>Identity No.</th>\n      <th>Source of Recruitment</th>\n      <th>Gender</th>\n      <th>Place of Domicile</th>\n      <th>...</th>\n      <th>Languages Known</th>\n      <th>Retirement Reason</th>\n      <th>Qualification/University/Institute</th>\n      <th>Subject</th>\n      <th>Division</th>\n      <th>Designation/Level</th>\n      <th>Ministry/Department/Office/Location</th>\n      <th>Organisation</th>\n      <th>Experience(major/minor)</th>\n      <th>Period(From/To)</th>\n    </tr>\n  </thead>\n  <tbody>\n    <tr>\n      <th>9492</th>\n      <td>Shri Abinash Mishra</td>\n      <td>Indian Administrative Service</td>\n      <td>Chhattisgarh</td>\n      <td>2018</td>\n      <td>02/07/1992</td>\n      <td>01/09/2018</td>\n      <td>01CG117E03</td>\n      <td>Direct Recruitment</td>\n      <td>Male</td>\n      <td>Odisha</td>\n      <td>...</td>\n      <td>NaN</td>\n      <td>Serving</td>\n      <td>B.Tech./Indian Institute of Technology Kharagp...</td>\n      <td>Mechanical engineering</td>\n      <td>First</td>\n      <td>N.A./Not Available</td>\n      <td>NaN</td>\n      <td>Cadre (AIS)</td>\n      <td>/ N.Applicable/N.Available</td>\n      <td>01/09/2018 -</td>\n    </tr>\n    <tr>\n      <th>9493</th>\n      <td>Shri Abhishek Sharma</td>\n      <td>Indian Administrative Service</td>\n      <td>Chhattisgarh</td>\n      <td>2018</td>\n      <td>19/11/1993</td>\n      <td>01/09/2018</td>\n      <td>01CG117E04</td>\n      <td>Direct Recruitment</td>\n      <td>Male</td>\n      <td>Jammu &amp; Kashmir</td>\n      <td>...</td>\n      <td>NaN</td>\n      <td>Serving</td>\n      <td>B.E./Jammu University|M.A./JAWAHAR LAL NEHRU U...</td>\n      <td>Civil Engg|Public Management</td>\n      <td>First with Distinction|Pass</td>\n      <td>S D M/Junior Scale|N.A./Not Available</td>\n      <td>|</td>\n      <td>Cadre (AIS)|Cadre (AIS)</td>\n      <td>Land Acquision / Land Revenue Mgmt &amp; District ...</td>\n      <td>21/09/2020 -|01/09/2018 - 30/08/2019</td>\n    </tr>\n    <tr>\n      <th>9494</th>\n      <td>Shri Ashutosh Dwivedi</td>\n      <td>Indian Administrative Service</td>\n      <td>Bihar</td>\n      <td>2018</td>\n      <td>23/08/1987</td>\n      <td>01/09/2018</td>\n      <td>01MN117Y01</td>\n      <td>Direct Recruitment</td>\n      <td>Male</td>\n      <td>Uttar Pradesh</td>\n      <td>...</td>\n      <td>NaN</td>\n      <td>Serving</td>\n      <td>B.Tech./Uttar Pradesh Technical University Luc...</td>\n      <td>Mechanical</td>\n      <td>First</td>\n      <td>Assistant Collector &amp; Assistant Magistrate/Not...</td>\n      <td>Bhagalpur</td>\n      <td>Cadre(Domestic Training)</td>\n      <td>Law / Public Administration</td>\n      <td>14/07/2019 - 13/08/2019</td>\n    </tr>\n    <tr>\n      <th>9495</th>\n      <td>Shri Aditya Vikram Yadav</td>\n      <td>Indian Administrative Service</td>\n      <td>Assam Meghalya</td>\n      <td>2018</td>\n      <td>22/07/1993</td>\n      <td>01/09/2018</td>\n      <td>01AM117C04</td>\n      <td>Direct Recruitment</td>\n      <td>Male</td>\n      <td>Delhi</td>\n      <td>...</td>\n      <td>NaN</td>\n      <td>Serving</td>\n      <td>B.A., LL.B./National Law University Delhi/Nati...</td>\n      <td>Constitl. Law|Law</td>\n      <td>First|First</td>\n      <td>AC (UT)with DC/Not Available|N.A./Not Available</td>\n      <td>Department of Personnel/O/o Deputy Commissioner|</td>\n      <td>Cadre(Domestic Training)|Cadre (AIS)</td>\n      <td>Rural Employment / Rural Dev|/ N.Applicable/N....</td>\n      <td>03/06/2019 - 25/08/2019|01/09/2018 - 25/08/2019</td>\n    </tr>\n    <tr>\n      <th>9496</th>\n      <td>Shri Vinod Duhan</td>\n      <td>Indian Administrative Service</td>\n      <td>Bihar</td>\n      <td>2018</td>\n      <td>11/11/1987</td>\n      <td>01/09/2018</td>\n      <td>01NL117P01</td>\n      <td>Direct Recruitment</td>\n      <td>Male</td>\n      <td>Haryana</td>\n      <td>...</td>\n      <td>NaN</td>\n      <td>Serving</td>\n      <td>B.E./PEC,CHANDIGARH/University College</td>\n      <td>Information Technology</td>\n      <td>First</td>\n      <td>Assistant Collector &amp; A D M/Not Available</td>\n      <td>NaN</td>\n      <td>Cadre(Domestic Training)</td>\n      <td>Public Administration / Public Administration</td>\n      <td>15/07/2019 - 28/08/2019</td>\n    </tr>\n    <tr>\n      <th>...</th>\n      <td>...</td>\n      <td>...</td>\n      <td>...</td>\n      <td>...</td>\n      <td>...</td>\n      <td>...</td>\n      <td>...</td>\n      <td>...</td>\n      <td>...</td>\n      <td>...</td>\n      <td>...</td>\n      <td>...</td>\n      <td>...</td>\n      <td>...</td>\n      <td>...</td>\n      <td>...</td>\n      <td>...</td>\n      <td>...</td>\n      <td>...</td>\n      <td>...</td>\n      <td>...</td>\n    </tr>\n    <tr>\n      <th>9687</th>\n      <td>Ms. Gunjan Singh</td>\n      <td>Indian Administrative Service</td>\n      <td>Rajasthan</td>\n      <td>2020</td>\n      <td>29/07/1993</td>\n      <td>NaN</td>\n      <td>01RJ119S02</td>\n      <td>Direct Recruitment</td>\n      <td>Female</td>\n      <td>Uttar Pradesh</td>\n      <td>...</td>\n      <td>NaN</td>\n      <td>Serving</td>\n      <td>NaN</td>\n      <td>NaN</td>\n      <td>NaN</td>\n      <td>NaN</td>\n      <td>NaN</td>\n      <td>NaN</td>\n      <td>NaN</td>\n      <td>NaN</td>\n    </tr>\n    <tr>\n      <th>9688</th>\n      <td>Shri Dheeraj Kumar Singh</td>\n      <td>Indian Administrative Service</td>\n      <td>Rajasthan</td>\n      <td>2020</td>\n      <td>28/06/1991</td>\n      <td>NaN</td>\n      <td>01RJ119S03</td>\n      <td>Direct Recruitment</td>\n      <td>Male</td>\n      <td>Uttar Pradesh</td>\n      <td>...</td>\n      <td>NaN</td>\n      <td>Serving</td>\n      <td>NaN</td>\n      <td>NaN</td>\n      <td>NaN</td>\n      <td>NaN</td>\n      <td>NaN</td>\n      <td>NaN</td>\n      <td>NaN</td>\n      <td>NaN</td>\n    </tr>\n    <tr>\n      <th>9689</th>\n      <td>Shri Siddharth Palanichamy S</td>\n      <td>Indian Administrative Service</td>\n      <td>Rajasthan</td>\n      <td>2020</td>\n      <td>25/12/1996</td>\n      <td>NaN</td>\n      <td>01RJ119S04</td>\n      <td>Direct Recruitment</td>\n      <td>Male</td>\n      <td>Tamil Nadu</td>\n      <td>...</td>\n      <td>NaN</td>\n      <td>Serving</td>\n      <td>NaN</td>\n      <td>NaN</td>\n      <td>NaN</td>\n      <td>NaN</td>\n      <td>NaN</td>\n      <td>NaN</td>\n      <td>NaN</td>\n      <td>NaN</td>\n    </tr>\n    <tr>\n      <th>9690</th>\n      <td>Shri Sohan Lal</td>\n      <td>Indian Administrative Service</td>\n      <td>Rajasthan</td>\n      <td>2020</td>\n      <td>01/07/1994</td>\n      <td>NaN</td>\n      <td>01RJ119S05</td>\n      <td>Direct Recruitment</td>\n      <td>Male</td>\n      <td>Rajasthan</td>\n      <td>...</td>\n      <td>NaN</td>\n      <td>Serving</td>\n      <td>NaN</td>\n      <td>NaN</td>\n      <td>NaN</td>\n      <td>NaN</td>\n      <td>NaN</td>\n      <td>NaN</td>\n      <td>NaN</td>\n      <td>NaN</td>\n    </tr>\n    <tr>\n      <th>9691</th>\n      <td>Shri Mridul Singh</td>\n      <td>Indian Administrative Service</td>\n      <td>Rajasthan</td>\n      <td>2020</td>\n      <td>13/12/1995</td>\n      <td>NaN</td>\n      <td>01RJ119S06</td>\n      <td>Direct Recruitment</td>\n      <td>Male</td>\n      <td>Rajasthan</td>\n      <td>...</td>\n      <td>NaN</td>\n      <td>Serving</td>\n      <td>NaN</td>\n      <td>NaN</td>\n      <td>NaN</td>\n      <td>NaN</td>\n      <td>NaN</td>\n      <td>NaN</td>\n      <td>NaN</td>\n      <td>NaN</td>\n    </tr>\n  </tbody>\n</table>\n<p>200 rows × 21 columns</p>\n</div>"
     },
     "metadata": {},
     "execution_count": 19
    }
   ],
   "source": [
    "df[len(df.index)-200:]"
   ]
  },
  {
   "cell_type": "code",
   "execution_count": 89,
   "metadata": {},
   "outputs": [],
   "source": [
    "df = df.append(new_df, ignore_index=True)"
   ]
  },
  {
   "cell_type": "code",
   "execution_count": 90,
   "metadata": {},
   "outputs": [],
   "source": [
    "df.to_csv(\"./outputs/supremo-nic-in/supremo-nic.csv\", index=False)"
   ]
  },
  {
   "cell_type": "code",
   "execution_count": 63,
   "metadata": {},
   "outputs": [],
   "source": [
    "driver.close()"
   ]
  },
  {
   "cell_type": "code",
   "execution_count": 64,
   "metadata": {},
   "outputs": [],
   "source": [
    "driver_profile.close()"
   ]
  },
  {
   "cell_type": "code",
   "execution_count": null,
   "metadata": {},
   "outputs": [],
   "source": []
  }
 ]
}