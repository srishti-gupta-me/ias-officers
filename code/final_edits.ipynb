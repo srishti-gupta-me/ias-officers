{
 "metadata": {
  "language_info": {
   "codemirror_mode": {
    "name": "ipython",
    "version": 3
   },
   "file_extension": ".py",
   "mimetype": "text/x-python",
   "name": "python",
   "nbconvert_exporter": "python",
   "pygments_lexer": "ipython3",
   "version": "3.8.7"
  },
  "orig_nbformat": 4,
  "kernelspec": {
   "name": "python3",
   "display_name": "Python 3.8.7 64-bit"
  },
  "interpreter": {
   "hash": "94edbaacddaafd6d45ba5506bea1ce8a371c01e0c71d6cc8e1f8803236d6de55"
  }
 },
 "nbformat": 4,
 "nbformat_minor": 2,
 "cells": [
  {
   "cell_type": "code",
   "execution_count": 1,
   "metadata": {},
   "outputs": [],
   "source": [
    "import pandas as pd\n",
    "import math\n",
    "def make_verbose(start_with, done, total, max_lines=25):\n",
    "    num_lines = int((done/total)*max_lines)\n",
    "    lines = \"=\"*num_lines\n",
    "    spaces = \"-\"*(max_lines-num_lines)\n",
    "    print(f\"\\r{start_with}  [{lines}>{spaces}]  {done}/{total}\", end=\"\", sep=\" \", flush=True)"
   ]
  },
  {
   "cell_type": "code",
   "execution_count": 2,
   "metadata": {},
   "outputs": [],
   "source": [
    "df = pd.read_csv(\"./outputs/formats/ias-postings.csv\")"
   ]
  },
  {
   "cell_type": "code",
   "execution_count": 3,
   "metadata": {},
   "outputs": [
    {
     "output_type": "execute_result",
     "data": {
      "text/plain": [
       "                                    Name                         Service  \\\n",
       "0                      Shri B G Deshmukh  Indian Administrative Services   \n",
       "1                      Shri B G Deshmukh  Indian Administrative Services   \n",
       "2                      Shri B G Deshmukh  Indian Administrative Services   \n",
       "3                      Shri B G Deshmukh  Indian Administrative Services   \n",
       "4                      Shri B G Deshmukh  Indian Administrative Services   \n",
       "...                                  ...                             ...   \n",
       "64586                  Ms. Tamil Oviya S  Indian Administrative Services   \n",
       "64587                     Ms. Renu Sogan  Indian Administrative Services   \n",
       "64588             Shri Anuj Pratap Singh  Indian Administrative Services   \n",
       "64589                 Ms. Priyanka Singh  Indian Administrative Services   \n",
       "64590  Ms. Wankhede Archana Pandharinath  Indian Administrative Services   \n",
       "\n",
       "              Cadre  Allotment Year Date of Birth Date of Joining  \\\n",
       "0      Maharashtra             1951    26-03-1929      01-07-1951   \n",
       "1      Maharashtra             1951    26-03-1929      01-07-1951   \n",
       "2      Maharashtra             1951    26-03-1929      01-07-1951   \n",
       "3      Maharashtra             1951    26-03-1929      01-07-1951   \n",
       "4      Maharashtra             1951    26-03-1929      01-07-1951   \n",
       "...             ...             ...           ...             ...   \n",
       "64586   West Bengal            2019    26-09-1993      01-09-2019   \n",
       "64587   West Bengal            2019    21-03-1994      01-09-2019   \n",
       "64588   West Bengal            2019    30-03-1991      01-09-2019   \n",
       "64589   West Bengal            2019    25-03-1992      01-09-2019   \n",
       "64590   West Bengal            2019    09-01-1983      01-09-2019   \n",
       "\n",
       "      Source of Recruitment Gender Place of Domicile Mother Tongue  \\\n",
       "0        Direct Recruitment   Male       Maharashtra       Marathi   \n",
       "1        Direct Recruitment   Male       Maharashtra       Marathi   \n",
       "2        Direct Recruitment   Male       Maharashtra       Marathi   \n",
       "3        Direct Recruitment   Male       Maharashtra       Marathi   \n",
       "4        Direct Recruitment   Male       Maharashtra       Marathi   \n",
       "...                     ...    ...               ...           ...   \n",
       "64586                    RR   N.A.        Tamil Nadu          N.A.   \n",
       "64587                    RR   N.A.         Rajasthan          N.A.   \n",
       "64588                    RR   N.A.     Uttar Pradesh          N.A.   \n",
       "64589                    RR   N.A.     Uttar Pradesh          N.A.   \n",
       "64590                    RR   N.A.       Maharashtra          N.A.   \n",
       "\n",
       "              Languages Known  Reference No.             Designation/Level  \\\n",
       "0      English Gujarati Hindi              0                N.A./Secretary   \n",
       "1      English Gujarati Hindi              1     OSD to Minister/Secretary   \n",
       "2      English Gujarati Hindi              2           Secretary/Secretary   \n",
       "3      English Gujarati Hindi              3           Secretary/Secretary   \n",
       "4      English Gujarati Hindi              4  Commissioner/Joint Secretary   \n",
       "...                       ...            ...                           ...   \n",
       "64586                    N.A.              0                         N.A.    \n",
       "64587                    N.A.              0                         N.A.    \n",
       "64588                    N.A.              0                         N.A.    \n",
       "64589                    N.A.              0                         N.A.    \n",
       "64590                    N.A.              0                         N.A.    \n",
       "\n",
       "      Ministry/Department/Office/Location Organisation  \\\n",
       "0                                   P M O       Centre   \n",
       "1                           Cabinet Sectt       Centre   \n",
       "2             M/o Labour & Rehabilitation       Centre   \n",
       "3                              M/o Labour       Centre   \n",
       "4                                     NaN  Cadre (AIS)   \n",
       "...                                   ...          ...   \n",
       "64586                               N.A.          N.A.   \n",
       "64587                               N.A.          N.A.   \n",
       "64588                               N.A.          N.A.   \n",
       "64589                               N.A.          N.A.   \n",
       "64590                               N.A.          N.A.   \n",
       "\n",
       "                                 Experience(major/minor)  \\\n",
       "0      General Administration / Personnel and General...   \n",
       "1      Cabinet Affairs / Personnel and General Admini...   \n",
       "2                           Labour / Labour & Employment   \n",
       "3                           Labour / Labour & Employment   \n",
       "4           Municipal Administration / Urban Development   \n",
       "...                                                  ...   \n",
       "64586                                               N.A.   \n",
       "64587                                               N.A.   \n",
       "64588                                               N.A.   \n",
       "64589                                               N.A.   \n",
       "64590                                               N.A.   \n",
       "\n",
       "               Period(From/To)   Dataset name Clean Ids  \n",
       "0      01/03/1989 - 01/12/1990        Supremo  MH006800  \n",
       "1      01/08/1986 - 01/08/1986        Supremo  MH006800  \n",
       "2      01/09/1982 - 01/03/1985        Supremo  MH006800  \n",
       "3      01/01/1981 - 01/09/1982        Supremo  MH006800  \n",
       "4      01/08/1975 - 01/05/1978        Supremo  MH006800  \n",
       "...                        ...            ...       ...  \n",
       "64586               01-09-2018  DOPT(easynic)  WB118X08  \n",
       "64587               01-09-2018  DOPT(easynic)  WB118X09  \n",
       "64588               01-09-2018  DOPT(easynic)  WB118X10  \n",
       "64589               01-09-2018  DOPT(easynic)  WB118X11  \n",
       "64590               01-09-2018  DOPT(easynic)  WB118X12  \n",
       "\n",
       "[64591 rows x 19 columns]"
      ],
      "text/html": "<div>\n<style scoped>\n    .dataframe tbody tr th:only-of-type {\n        vertical-align: middle;\n    }\n\n    .dataframe tbody tr th {\n        vertical-align: top;\n    }\n\n    .dataframe thead th {\n        text-align: right;\n    }\n</style>\n<table border=\"1\" class=\"dataframe\">\n  <thead>\n    <tr style=\"text-align: right;\">\n      <th></th>\n      <th>Name</th>\n      <th>Service</th>\n      <th>Cadre</th>\n      <th>Allotment Year</th>\n      <th>Date of Birth</th>\n      <th>Date of Joining</th>\n      <th>Source of Recruitment</th>\n      <th>Gender</th>\n      <th>Place of Domicile</th>\n      <th>Mother Tongue</th>\n      <th>Languages Known</th>\n      <th>Reference No.</th>\n      <th>Designation/Level</th>\n      <th>Ministry/Department/Office/Location</th>\n      <th>Organisation</th>\n      <th>Experience(major/minor)</th>\n      <th>Period(From/To)</th>\n      <th>Dataset name</th>\n      <th>Clean Ids</th>\n    </tr>\n  </thead>\n  <tbody>\n    <tr>\n      <th>0</th>\n      <td>Shri B G Deshmukh</td>\n      <td>Indian Administrative Services</td>\n      <td>Maharashtra</td>\n      <td>1951</td>\n      <td>26-03-1929</td>\n      <td>01-07-1951</td>\n      <td>Direct Recruitment</td>\n      <td>Male</td>\n      <td>Maharashtra</td>\n      <td>Marathi</td>\n      <td>English Gujarati Hindi</td>\n      <td>0</td>\n      <td>N.A./Secretary</td>\n      <td>P M O</td>\n      <td>Centre</td>\n      <td>General Administration / Personnel and General...</td>\n      <td>01/03/1989 - 01/12/1990</td>\n      <td>Supremo</td>\n      <td>MH006800</td>\n    </tr>\n    <tr>\n      <th>1</th>\n      <td>Shri B G Deshmukh</td>\n      <td>Indian Administrative Services</td>\n      <td>Maharashtra</td>\n      <td>1951</td>\n      <td>26-03-1929</td>\n      <td>01-07-1951</td>\n      <td>Direct Recruitment</td>\n      <td>Male</td>\n      <td>Maharashtra</td>\n      <td>Marathi</td>\n      <td>English Gujarati Hindi</td>\n      <td>1</td>\n      <td>OSD to Minister/Secretary</td>\n      <td>Cabinet Sectt</td>\n      <td>Centre</td>\n      <td>Cabinet Affairs / Personnel and General Admini...</td>\n      <td>01/08/1986 - 01/08/1986</td>\n      <td>Supremo</td>\n      <td>MH006800</td>\n    </tr>\n    <tr>\n      <th>2</th>\n      <td>Shri B G Deshmukh</td>\n      <td>Indian Administrative Services</td>\n      <td>Maharashtra</td>\n      <td>1951</td>\n      <td>26-03-1929</td>\n      <td>01-07-1951</td>\n      <td>Direct Recruitment</td>\n      <td>Male</td>\n      <td>Maharashtra</td>\n      <td>Marathi</td>\n      <td>English Gujarati Hindi</td>\n      <td>2</td>\n      <td>Secretary/Secretary</td>\n      <td>M/o Labour &amp; Rehabilitation</td>\n      <td>Centre</td>\n      <td>Labour / Labour &amp; Employment</td>\n      <td>01/09/1982 - 01/03/1985</td>\n      <td>Supremo</td>\n      <td>MH006800</td>\n    </tr>\n    <tr>\n      <th>3</th>\n      <td>Shri B G Deshmukh</td>\n      <td>Indian Administrative Services</td>\n      <td>Maharashtra</td>\n      <td>1951</td>\n      <td>26-03-1929</td>\n      <td>01-07-1951</td>\n      <td>Direct Recruitment</td>\n      <td>Male</td>\n      <td>Maharashtra</td>\n      <td>Marathi</td>\n      <td>English Gujarati Hindi</td>\n      <td>3</td>\n      <td>Secretary/Secretary</td>\n      <td>M/o Labour</td>\n      <td>Centre</td>\n      <td>Labour / Labour &amp; Employment</td>\n      <td>01/01/1981 - 01/09/1982</td>\n      <td>Supremo</td>\n      <td>MH006800</td>\n    </tr>\n    <tr>\n      <th>4</th>\n      <td>Shri B G Deshmukh</td>\n      <td>Indian Administrative Services</td>\n      <td>Maharashtra</td>\n      <td>1951</td>\n      <td>26-03-1929</td>\n      <td>01-07-1951</td>\n      <td>Direct Recruitment</td>\n      <td>Male</td>\n      <td>Maharashtra</td>\n      <td>Marathi</td>\n      <td>English Gujarati Hindi</td>\n      <td>4</td>\n      <td>Commissioner/Joint Secretary</td>\n      <td>NaN</td>\n      <td>Cadre (AIS)</td>\n      <td>Municipal Administration / Urban Development</td>\n      <td>01/08/1975 - 01/05/1978</td>\n      <td>Supremo</td>\n      <td>MH006800</td>\n    </tr>\n    <tr>\n      <th>...</th>\n      <td>...</td>\n      <td>...</td>\n      <td>...</td>\n      <td>...</td>\n      <td>...</td>\n      <td>...</td>\n      <td>...</td>\n      <td>...</td>\n      <td>...</td>\n      <td>...</td>\n      <td>...</td>\n      <td>...</td>\n      <td>...</td>\n      <td>...</td>\n      <td>...</td>\n      <td>...</td>\n      <td>...</td>\n      <td>...</td>\n      <td>...</td>\n    </tr>\n    <tr>\n      <th>64586</th>\n      <td>Ms. Tamil Oviya S</td>\n      <td>Indian Administrative Services</td>\n      <td>West Bengal</td>\n      <td>2019</td>\n      <td>26-09-1993</td>\n      <td>01-09-2019</td>\n      <td>RR</td>\n      <td>N.A.</td>\n      <td>Tamil Nadu</td>\n      <td>N.A.</td>\n      <td>N.A.</td>\n      <td>0</td>\n      <td>N.A.</td>\n      <td>N.A.</td>\n      <td>N.A.</td>\n      <td>N.A.</td>\n      <td>01-09-2018</td>\n      <td>DOPT(easynic)</td>\n      <td>WB118X08</td>\n    </tr>\n    <tr>\n      <th>64587</th>\n      <td>Ms. Renu Sogan</td>\n      <td>Indian Administrative Services</td>\n      <td>West Bengal</td>\n      <td>2019</td>\n      <td>21-03-1994</td>\n      <td>01-09-2019</td>\n      <td>RR</td>\n      <td>N.A.</td>\n      <td>Rajasthan</td>\n      <td>N.A.</td>\n      <td>N.A.</td>\n      <td>0</td>\n      <td>N.A.</td>\n      <td>N.A.</td>\n      <td>N.A.</td>\n      <td>N.A.</td>\n      <td>01-09-2018</td>\n      <td>DOPT(easynic)</td>\n      <td>WB118X09</td>\n    </tr>\n    <tr>\n      <th>64588</th>\n      <td>Shri Anuj Pratap Singh</td>\n      <td>Indian Administrative Services</td>\n      <td>West Bengal</td>\n      <td>2019</td>\n      <td>30-03-1991</td>\n      <td>01-09-2019</td>\n      <td>RR</td>\n      <td>N.A.</td>\n      <td>Uttar Pradesh</td>\n      <td>N.A.</td>\n      <td>N.A.</td>\n      <td>0</td>\n      <td>N.A.</td>\n      <td>N.A.</td>\n      <td>N.A.</td>\n      <td>N.A.</td>\n      <td>01-09-2018</td>\n      <td>DOPT(easynic)</td>\n      <td>WB118X10</td>\n    </tr>\n    <tr>\n      <th>64589</th>\n      <td>Ms. Priyanka Singh</td>\n      <td>Indian Administrative Services</td>\n      <td>West Bengal</td>\n      <td>2019</td>\n      <td>25-03-1992</td>\n      <td>01-09-2019</td>\n      <td>RR</td>\n      <td>N.A.</td>\n      <td>Uttar Pradesh</td>\n      <td>N.A.</td>\n      <td>N.A.</td>\n      <td>0</td>\n      <td>N.A.</td>\n      <td>N.A.</td>\n      <td>N.A.</td>\n      <td>N.A.</td>\n      <td>01-09-2018</td>\n      <td>DOPT(easynic)</td>\n      <td>WB118X11</td>\n    </tr>\n    <tr>\n      <th>64590</th>\n      <td>Ms. Wankhede Archana Pandharinath</td>\n      <td>Indian Administrative Services</td>\n      <td>West Bengal</td>\n      <td>2019</td>\n      <td>09-01-1983</td>\n      <td>01-09-2019</td>\n      <td>RR</td>\n      <td>N.A.</td>\n      <td>Maharashtra</td>\n      <td>N.A.</td>\n      <td>N.A.</td>\n      <td>0</td>\n      <td>N.A.</td>\n      <td>N.A.</td>\n      <td>N.A.</td>\n      <td>N.A.</td>\n      <td>01-09-2018</td>\n      <td>DOPT(easynic)</td>\n      <td>WB118X12</td>\n    </tr>\n  </tbody>\n</table>\n<p>64591 rows × 19 columns</p>\n</div>"
     },
     "metadata": {},
     "execution_count": 3
    }
   ],
   "source": [
    "df"
   ]
  },
  {
   "cell_type": "code",
   "execution_count": 4,
   "metadata": {},
   "outputs": [],
   "source": [
    "exps = df[\"Experience(major/minor)\"]\n",
    "postings = df[\"Designation/Level\"]\n",
    "designation_list = []\n",
    "level_list = []\n",
    "major_list = []\n",
    "minor_list = []"
   ]
  },
  {
   "cell_type": "code",
   "execution_count": 5,
   "metadata": {
    "tags": []
   },
   "outputs": [],
   "source": [
    "for exp, posting in zip(exps, postings):\n",
    "    designation_list.append(posting.split(\"/\")[0])\n",
    "    major_list.append(exp.split(\"/\")[0])\n",
    "    try:\n",
    "        level_list.append(posting.split(\"/\")[1])\n",
    "    except:\n",
    "        level_list.append(\"N.A.\")\n",
    "    try:\n",
    "        minor_list.append(exp.split(\"/\")[1])\n",
    "    except:\n",
    "        minor_list.append(\"N.A.\")"
   ]
  },
  {
   "cell_type": "code",
   "execution_count": 6,
   "metadata": {},
   "outputs": [],
   "source": [
    "df[\"Major Experience\"] = major_list\n",
    "df[\"Minor Experience\"] = minor_list\n",
    "df[\"Designation\"] = designation_list\n",
    "df[\"Level\"] = level_list"
   ]
  },
  {
   "cell_type": "code",
   "execution_count": 7,
   "metadata": {},
   "outputs": [],
   "source": [
    "df.to_csv(\"./outputs/formats/ias-postings.csv\", index=False)"
   ]
  },
  {
   "cell_type": "code",
   "execution_count": null,
   "metadata": {},
   "outputs": [],
   "source": []
  }
 ]
}