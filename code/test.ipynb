{
 "cells": [
  {
   "cell_type": "code",
   "execution_count": 1,
   "source": [
    "import pandas as pd\r\n",
    "import json\r\n",
    "import os\r\n",
    "from helper import Verbose\r\n",
    "verbose = Verbose()"
   ],
   "outputs": [
    {
     "output_type": "stream",
     "name": "stderr",
     "text": [
      "C:\\Users\\vedan\\AppData\\Local\\Programs\\Python\\Python38\\lib\\site-packages\\numpy\\_distributor_init.py:30: UserWarning: loaded more than 1 DLL from .libs:\n",
      "C:\\Users\\vedan\\AppData\\Local\\Programs\\Python\\Python38\\lib\\site-packages\\numpy\\.libs\\libopenblas.PYQHXLVVQ7VESDPUVUADXEVJOBGHJPAY.gfortran-win_amd64.dll\n",
      "C:\\Users\\vedan\\AppData\\Local\\Programs\\Python\\Python38\\lib\\site-packages\\numpy\\.libs\\libopenblas.XWYDX2IKJW2NMTWSFYNGFUWKQU3LYTCZ.gfortran-win_amd64.dll\n",
      "  warnings.warn(\"loaded more than 1 DLL from .libs:\"\n"
     ]
    }
   ],
   "metadata": {}
  },
  {
   "cell_type": "code",
   "execution_count": 2,
   "source": [
    "df = pd.read_csv(\"./outputs/combined/ias-clean-final.csv\")"
   ],
   "outputs": [],
   "metadata": {}
  },
  {
   "cell_type": "code",
   "execution_count": 3,
   "source": [
    "edu_df = pd.DataFrame(columns=[\"ID\",\"Name\",\"Service\",\"Cadre\",\"Qualification\",\"Subject\",\"Division\",\"Source\"])\r\n",
    "exp_df = pd.DataFrame(columns=[\"ID\",\"Name\",\"Service\",\"Cadre\",\"Designation\",\"Level\",\"Office\",\"Organisation\",\"Major_Experience\",\"Minor_Experience\",\"Start_Date\",\"End_Date\",\"Source\"])\r\n",
    "edu_columns = [\"Qualification/University/Institute\",\"Subject\",\"Division\"]\r\n",
    "exp_columns = [\"Designation/Level\",\"Ministry/Department/Office/Location\",\"Organisation\",\"Experience(major/minor)\",\"Period(From/To)\"]"
   ],
   "outputs": [],
   "metadata": {}
  },
  {
   "cell_type": "code",
   "execution_count": 30,
   "source": [
    "def make_edu_row(row):\r\n",
    "    columns = list(edu_df.columns)[4:7]\r\n",
    "    edu_rows = []\r\n",
    "    splits = [row[item].split(\"|\") for item in edu_columns]\r\n",
    "    edu_length = len(splits[0])\r\n",
    "    for i in range(edu_length):\r\n",
    "        template = {\r\n",
    "            \"ID\" : row[\"Clean Ids\"],\r\n",
    "            \"Name\" : row[\"Name\"],\r\n",
    "            \"Service\" : row[\"Service\"],\r\n",
    "            \"Cadre\" : row[\"Cadre\"]\r\n",
    "        }\r\n",
    "        for item, column in zip(splits, columns):\r\n",
    "            template[\"Reference_Value\"] = i\r\n",
    "            template[column] = item[i].strip()\r\n",
    "        template[\"Source\"] = row[\"Dataset name\"]\r\n",
    "        edu_rows.append(template)\r\n",
    "    return edu_rows"
   ],
   "outputs": [],
   "metadata": {}
  },
  {
   "cell_type": "code",
   "execution_count": 88,
   "source": [
    "def make_exp_row(row):\r\n",
    "    columns = list(exp_df.columns)[4:12]\r\n",
    "    exp_rows = []\r\n",
    "    splits = [row[item].split(\"|\") for item in exp_columns]\r\n",
    "    exp_length = len(splits[0])\r\n",
    "    print(len(columns))\r\n",
    "    for i in range(exp_length):\r\n",
    "        template = {\r\n",
    "            \"ID\" : row[\"Clean Ids\"],\r\n",
    "            \"Name\" : row[\"Name\"],\r\n",
    "            \"Service\" : row[\"Service\"],\r\n",
    "            \"Cadre\" : row[\"Cadre\"]\r\n",
    "        }\r\n",
    "        column_index = 0\r\n",
    "        for j, item in enumerate(splits):\r\n",
    "            template[\"Reference_Value\"] = i\r\n",
    "            item = item[i].replace(\"/ \", \"\").replace(\"M/o\", \"M.o.\").replace(\"D/o\", \"D.o.\")\r\n",
    "            if not j == len(splits)-1:\r\n",
    "                for value in item.split(\"/\"):\r\n",
    "                    print(value)\r\n",
    "                    template[columns[column_index]] = value.strip()\r\n",
    "                    column_index += 1\r\n",
    "            else:\r\n",
    "                for value in item.split(\"-\"):\r\n",
    "                    print(f\"{value} {column_index}\")\r\n",
    "                    template[columns[column_index]] = value.strip()\r\n",
    "                    column_index += 1\r\n",
    "        \r\n",
    "        template[\"Source\"] = row[\"Dataset name\"]\r\n",
    "        exp_rows.append(template)\r\n",
    "    return exp_rows\r\n"
   ],
   "outputs": [],
   "metadata": {}
  },
  {
   "cell_type": "code",
   "execution_count": 89,
   "source": [
    "df.loc[1500]"
   ],
   "outputs": [
    {
     "output_type": "execute_result",
     "data": {
      "text/plain": [
       "Name                                                                Shri Sandeep Bagchee\n",
       "Service                                                   Indian Administrative Services\n",
       "Cadre                                                                        Maharashtra\n",
       "Allotment Year                                                                      1973\n",
       "Date of Birth                                                                 18-12-1948\n",
       "Date of Joining                                                               01-07-1973\n",
       "Source of Recruitment                                                 Direct Recruitment\n",
       "Gender                                                                              Male\n",
       "Place of Domicile                                                          Uttar Pradesh\n",
       "Mother Tongue                                                                    Bengali\n",
       "Languages Known                                             English French Hindi Marathi\n",
       "Retirement Reason                                                    Retired voluntarily\n",
       "Qualification/University/Institute                                         Graduate|P.G.\n",
       "Subject                                                                Physics|Sociology\n",
       "Division                                                                 Ordinary|Second\n",
       "Designation/Level                      N.A./Joint Secretary|N.A./Joint Secretary Equi...\n",
       "Ministry/Department/Office/Location    Society for Participatory Rsch in Asia (PRIA)|...\n",
       "Organisation                           Cadre (Deputation under Rule 6(2)(ii)|Cadre (A...\n",
       "Experience(major/minor)                / N.Applicable/N.Available|/ N.Applicable/N.Av...\n",
       "Period(From/To)                        08/04/2005 - 01/03/2006|01/04/2004 - 05/05/200...\n",
       "Dataset name                                                                     Supremo\n",
       "Clean Ids                                                                       MH026700\n",
       "Name: 1500, dtype: object"
      ]
     },
     "metadata": {},
     "execution_count": 89
    }
   ],
   "metadata": {}
  },
  {
   "cell_type": "code",
   "execution_count": 92,
   "source": [
    "df.loc[1500][\"Period(From/To)\"]"
   ],
   "outputs": [
    {
     "output_type": "execute_result",
     "data": {
      "text/plain": [
       "'08/04/2005 - 01/03/2006|01/04/2004 - 05/05/2004|17/05/2003 - 01/07/2003|07/08/2000 - 22/02/2001|01/10/1997 - 18/05/1998|01/11/1993 - 01/11/1994|01/03/1991 - 01/09/1992|01/06/1990 - 01/07/1990|01/11/1988 - 01/07/1989|01/10/1986 - 01/06/1987|01/11/1983 - 01/01/1986|01/09/1979 - 01/09/1981|01/11/1975 - 01/07/1977'"
      ]
     },
     "metadata": {},
     "execution_count": 92
    }
   ],
   "metadata": {}
  },
  {
   "cell_type": "code",
   "execution_count": 91,
   "source": [
    "import numpy as np\r\n",
    "make_exp_row(dict(df.iloc[1500]))"
   ],
   "outputs": [
    {
     "output_type": "stream",
     "name": "stdout",
     "text": [
      "8\n",
      "N.A.\n",
      "Joint Secretary\n",
      "Society for Participatory Rsch in Asia (PRIA)\n",
      "Cadre (Deputation under Rule 6(2)(ii)\n",
      "N.Applicable\n",
      "N.Available\n",
      "08/04/2005 \n",
      " 01/03/2006\n",
      "N.A.\n",
      "Joint Secretary Equivalent\n",
      "\n",
      "Cadre (AIS)\n",
      "N.Applicable\n",
      "N.Available\n",
      "01/04/2004 \n",
      " 05/05/2004\n",
      "On Leave\n",
      "Joint Secretary Equivalent\n",
      "\n",
      "Centre\n",
      "N.Applicable\n",
      "N.Available\n",
      "17/05/2003 \n",
      " 01/07/2003\n",
      "On Compulsory Wait\n",
      "Joint Secretary\n",
      "M.o. Home Affairs\n",
      "D.o. J & K Affairs\n",
      "Centre\n",
      "N.Applicable\n",
      "N.Available\n",
      "07/08/2000 \n",
      " 22/02/2001\n"
     ]
    },
    {
     "output_type": "error",
     "ename": "IndexError",
     "evalue": "list index out of range",
     "traceback": [
      "\u001b[1;31m---------------------------------------------------------------------------\u001b[0m",
      "\u001b[1;31mIndexError\u001b[0m                                Traceback (most recent call last)",
      "\u001b[1;32m~\\AppData\\Local\\Temp/ipykernel_14836/2782696360.py\u001b[0m in \u001b[0;36m<module>\u001b[1;34m\u001b[0m\n\u001b[0;32m      1\u001b[0m \u001b[1;32mimport\u001b[0m \u001b[0mnumpy\u001b[0m \u001b[1;32mas\u001b[0m \u001b[0mnp\u001b[0m\u001b[1;33m\u001b[0m\u001b[1;33m\u001b[0m\u001b[0m\n\u001b[1;32m----> 2\u001b[1;33m \u001b[0mmake_exp_row\u001b[0m\u001b[1;33m(\u001b[0m\u001b[0mdict\u001b[0m\u001b[1;33m(\u001b[0m\u001b[0mdf\u001b[0m\u001b[1;33m.\u001b[0m\u001b[0miloc\u001b[0m\u001b[1;33m[\u001b[0m\u001b[1;36m1500\u001b[0m\u001b[1;33m]\u001b[0m\u001b[1;33m)\u001b[0m\u001b[1;33m)\u001b[0m\u001b[1;33m\u001b[0m\u001b[1;33m\u001b[0m\u001b[0m\n\u001b[0m",
      "\u001b[1;32m~\\AppData\\Local\\Temp/ipykernel_14836/2387621631.py\u001b[0m in \u001b[0;36mmake_exp_row\u001b[1;34m(row)\u001b[0m\n\u001b[0;32m     24\u001b[0m                 \u001b[1;32mfor\u001b[0m \u001b[0mvalue\u001b[0m \u001b[1;32min\u001b[0m \u001b[0mitem\u001b[0m\u001b[1;33m.\u001b[0m\u001b[0msplit\u001b[0m\u001b[1;33m(\u001b[0m\u001b[1;34m\"-\"\u001b[0m\u001b[1;33m)\u001b[0m\u001b[1;33m:\u001b[0m\u001b[1;33m\u001b[0m\u001b[1;33m\u001b[0m\u001b[0m\n\u001b[0;32m     25\u001b[0m                     \u001b[0mprint\u001b[0m\u001b[1;33m(\u001b[0m\u001b[0mvalue\u001b[0m\u001b[1;33m)\u001b[0m\u001b[1;33m\u001b[0m\u001b[1;33m\u001b[0m\u001b[0m\n\u001b[1;32m---> 26\u001b[1;33m                     \u001b[0mtemplate\u001b[0m\u001b[1;33m[\u001b[0m\u001b[0mcolumns\u001b[0m\u001b[1;33m[\u001b[0m\u001b[0mcolumn_index\u001b[0m\u001b[1;33m]\u001b[0m\u001b[1;33m]\u001b[0m \u001b[1;33m=\u001b[0m \u001b[0mvalue\u001b[0m\u001b[1;33m.\u001b[0m\u001b[0mstrip\u001b[0m\u001b[1;33m(\u001b[0m\u001b[1;33m)\u001b[0m\u001b[1;33m\u001b[0m\u001b[1;33m\u001b[0m\u001b[0m\n\u001b[0m\u001b[0;32m     27\u001b[0m                     \u001b[0mcolumn_index\u001b[0m \u001b[1;33m+=\u001b[0m \u001b[1;36m1\u001b[0m\u001b[1;33m\u001b[0m\u001b[1;33m\u001b[0m\u001b[0m\n\u001b[0;32m     28\u001b[0m \u001b[1;33m\u001b[0m\u001b[0m\n",
      "\u001b[1;31mIndexError\u001b[0m: list index out of range"
     ]
    }
   ],
   "metadata": {}
  },
  {
   "cell_type": "code",
   "execution_count": null,
   "source": [],
   "outputs": [],
   "metadata": {}
  },
  {
   "cell_type": "code",
   "execution_count": null,
   "source": [],
   "outputs": [],
   "metadata": {}
  }
 ],
 "metadata": {
  "orig_nbformat": 4,
  "language_info": {
   "name": "python",
   "version": "3.8.7",
   "mimetype": "text/x-python",
   "codemirror_mode": {
    "name": "ipython",
    "version": 3
   },
   "pygments_lexer": "ipython3",
   "nbconvert_exporter": "python",
   "file_extension": ".py"
  },
  "kernelspec": {
   "name": "python3",
   "display_name": "Python 3.8.7 64-bit"
  },
  "interpreter": {
   "hash": "94edbaacddaafd6d45ba5506bea1ce8a371c01e0c71d6cc8e1f8803236d6de55"
  }
 },
 "nbformat": 4,
 "nbformat_minor": 2
}