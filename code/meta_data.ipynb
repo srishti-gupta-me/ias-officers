{
 "metadata": {
  "language_info": {
   "codemirror_mode": {
    "name": "ipython",
    "version": 3
   },
   "file_extension": ".py",
   "mimetype": "text/x-python",
   "name": "python",
   "nbconvert_exporter": "python",
   "pygments_lexer": "ipython3",
   "version": "3.8.7"
  },
  "orig_nbformat": 4,
  "kernelspec": {
   "name": "python3",
   "display_name": "Python 3.8.7 64-bit"
  },
  "interpreter": {
   "hash": "94edbaacddaafd6d45ba5506bea1ce8a371c01e0c71d6cc8e1f8803236d6de55"
  }
 },
 "nbformat": 4,
 "nbformat_minor": 2,
 "cells": [
  {
   "cell_type": "code",
   "execution_count": 4,
   "metadata": {},
   "outputs": [],
   "source": [
    "import pandas as pd\n",
    "from collections import Counter\n",
    "main_df = pd.read_csv(\"./outputs/combined/ias-clean-final.csv\")\n",
    "edu_df = pd.read_csv(\"./outputs/formats/ias-education.csv\")\n",
    "postings_df = pd.read_csv(\"./outputs/formats/ias-postings.csv\")"
   ]
  },
  {
   "cell_type": "code",
   "execution_count": 22,
   "metadata": {},
   "outputs": [],
   "source": [
    "new_cadre = []\n",
    "for i in range(len(main_df.index)):\n",
    "    new_cadre.append(str(df[\"Cadre\"][i]).replace(\" \", \"\").replace(\"/\", \"-\"))\n",
    "\n",
    "main_df[\"Cadre\"] = new_cadre\n",
    "main_df.to_csv(\"./outputs/combined/ias-clean-final.csv\", index=False)"
   ]
  },
  {
   "cell_type": "code",
   "execution_count": 23,
   "metadata": {},
   "outputs": [],
   "source": [
    "cadre_counter = Counter(new_cadre)\n",
    "allotment_year_counter = Counter(main_df[\"Allotment Year\"])\n",
    "education_counter = Counter(edu_df[\"Qualification/University/Institute\"])\n",
    "subject_counter = Counter(edu_df[\"Subject\"])\n",
    "division_counter = Counter(edu_df[\"Division\"])"
   ]
  },
  {
   "cell_type": "code",
   "execution_count": 26,
   "metadata": {},
   "outputs": [
    {
     "output_type": "execute_result",
     "data": {
      "text/plain": [
       "Counter({1951: 1,\n",
       "         1952: 8,\n",
       "         1953: 14,\n",
       "         1954: 26,\n",
       "         1955: 30,\n",
       "         1956: 33,\n",
       "         1957: 49,\n",
       "         1958: 45,\n",
       "         1959: 32,\n",
       "         1960: 51,\n",
       "         1961: 62,\n",
       "         1962: 77,\n",
       "         1963: 64,\n",
       "         1964: 102,\n",
       "         1965: 106,\n",
       "         1966: 119,\n",
       "         1967: 110,\n",
       "         1968: 90,\n",
       "         1969: 78,\n",
       "         1970: 101,\n",
       "         1971: 73,\n",
       "         1972: 129,\n",
       "         1973: 149,\n",
       "         1974: 169,\n",
       "         1975: 165,\n",
       "         1976: 138,\n",
       "         1977: 190,\n",
       "         1978: 162,\n",
       "         1979: 210,\n",
       "         1980: 194,\n",
       "         1981: 184,\n",
       "         1982: 184,\n",
       "         1983: 371,\n",
       "         1984: 223,\n",
       "         1985: 220,\n",
       "         1986: 194,\n",
       "         1987: 172,\n",
       "         1988: 238,\n",
       "         1989: 231,\n",
       "         1990: 266,\n",
       "         1991: 213,\n",
       "         1992: 177,\n",
       "         1993: 223,\n",
       "         1994: 209,\n",
       "         1995: 209,\n",
       "         1996: 194,\n",
       "         1997: 182,\n",
       "         1998: 170,\n",
       "         1999: 139,\n",
       "         2000: 152,\n",
       "         2001: 152,\n",
       "         2002: 223,\n",
       "         2003: 198,\n",
       "         2004: 239,\n",
       "         2005: 324,\n",
       "         2006: 250,\n",
       "         2007: 243,\n",
       "         2008: 250,\n",
       "         2009: 314,\n",
       "         2010: 303,\n",
       "         2011: 255,\n",
       "         2012: 240,\n",
       "         2013: 233,\n",
       "         2014: 222,\n",
       "         2015: 199,\n",
       "         2016: 190,\n",
       "         2017: 193,\n",
       "         2018: 261,\n",
       "         2020: 122,\n",
       "         2019: 230})"
      ]
     },
     "metadata": {},
     "execution_count": 26
    }
   ],
   "source": [
    "allotment_year_counter"
   ]
  },
  {
   "cell_type": "code",
   "execution_count": 29,
   "metadata": {},
   "outputs": [],
   "source": [
    "my_dict = {\n",
    "    \"cadre\": dict(cadre_counter),\n",
    "    \"allotment_year\": dict(allotment_year_counter),\n",
    "    # \"education\": dict(education_counter),\n",
    "    \"subject\": dict(subject_counter),\n",
    "    \"division\": dict(division_counter)\n",
    "}"
   ]
  },
  {
   "cell_type": "code",
   "execution_count": 31,
   "metadata": {},
   "outputs": [],
   "source": [
    "import json\n",
    "\n",
    "json_file = open(\"./outputs/meta/metadata.json\", \"w\")\n",
    "json.dump(my_dict, json_file, indent=4)"
   ]
  },
  {
   "cell_type": "code",
   "execution_count": null,
   "metadata": {},
   "outputs": [],
   "source": []
  }
 ]
}