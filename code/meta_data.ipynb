{
 "metadata": {
  "language_info": {
   "codemirror_mode": {
    "name": "ipython",
    "version": 3
   },
   "file_extension": ".py",
   "mimetype": "text/x-python",
   "name": "python",
   "nbconvert_exporter": "python",
   "pygments_lexer": "ipython3",
   "version": "3.8.7"
  },
  "orig_nbformat": 4,
  "kernelspec": {
   "name": "python3",
   "display_name": "Python 3.8.7 64-bit"
  },
  "interpreter": {
   "hash": "94edbaacddaafd6d45ba5506bea1ce8a371c01e0c71d6cc8e1f8803236d6de55"
  }
 },
 "nbformat": 4,
 "nbformat_minor": 2,
 "cells": [
  {
   "cell_type": "code",
   "execution_count": 1,
   "metadata": {},
   "outputs": [],
   "source": [
    "import pandas as pd\n",
    "from collections import Counter\n",
    "main_df = pd.read_csv(\"./outputs/combined/ias-clean-final.csv\")\n",
    "edu_df = pd.read_csv(\"./outputs/formats/ias-education.csv\")\n",
    "postings_df = pd.read_csv(\"./outputs/formats/ias-postings.csv\")"
   ]
  },
  {
   "cell_type": "code",
   "execution_count": 2,
   "metadata": {},
   "outputs": [],
   "source": [
    "new_cadre = []\n",
    "new_qualifications = []\n",
    "for i in range(len(main_df.index)):\n",
    "    new_cadre.append(str(main_df[\"Cadre\"][i]).replace(\" \", \"\").replace(\"/\", \"-\"))\n",
    "    new_qualifications.append(str(edu_df[\"Qualification/University/Institute\"][i]).split(\"/\")[0])\n",
    "\n",
    "main_df[\"Cadre\"] = new_cadre\n",
    "main_df.to_csv(\"./outputs/combined/ias-clean-final.csv\", index=False)"
   ]
  },
  {
   "cell_type": "code",
   "execution_count": 3,
   "metadata": {},
   "outputs": [],
   "source": [
    "cadre_counter = Counter(new_cadre)\n",
    "allotment_year_counter = Counter(main_df[\"Allotment Year\"])\n",
    "education_counter = Counter(new_qualifications)\n",
    "subject_counter = Counter(edu_df[\"Subject\"])\n",
    "division_counter = Counter(edu_df[\"Division\"])"
   ]
  },
  {
   "cell_type": "code",
   "execution_count": 5,
   "metadata": {},
   "outputs": [],
   "source": [
    "my_dict = {\n",
    "    \"cadre\": dict(cadre_counter),\n",
    "    \"allotment_year\": dict(allotment_year_counter),\n",
    "    \"subject\": dict(subject_counter),\n",
    "    \"division\": dict(division_counter),\n",
    "    \"education\": dict(education_counter)\n",
    "}"
   ]
  },
  {
   "cell_type": "code",
   "execution_count": 6,
   "metadata": {},
   "outputs": [],
   "source": [
    "import json\n",
    "\n",
    "json_file = open(\"./outputs/meta/metadata.json\", \"w\")\n",
    "# json.dump(my_dict, json_file, indent=4)"
   ]
  },
  {
   "cell_type": "code",
   "execution_count": null,
   "metadata": {},
   "outputs": [],
   "source": []
  }
 ]
}