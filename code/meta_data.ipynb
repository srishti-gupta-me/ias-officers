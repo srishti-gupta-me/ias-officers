{
 "metadata": {
  "language_info": {
   "codemirror_mode": {
    "name": "ipython",
    "version": 3
   },
   "file_extension": ".py",
   "mimetype": "text/x-python",
   "name": "python",
   "nbconvert_exporter": "python",
   "pygments_lexer": "ipython3",
   "version": "3.8.7"
  },
  "orig_nbformat": 4,
  "kernelspec": {
   "name": "python3",
   "display_name": "Python 3.8.7 64-bit"
  },
  "interpreter": {
   "hash": "94edbaacddaafd6d45ba5506bea1ce8a371c01e0c71d6cc8e1f8803236d6de55"
  }
 },
 "nbformat": 4,
 "nbformat_minor": 2,
 "cells": [
  {
   "cell_type": "code",
   "execution_count": 1,
   "metadata": {},
   "outputs": [],
   "source": [
    "import pandas as pd\n",
    "from collections import Counter\n",
    "main_df = pd.read_csv(\"./outputs/combined/ias-clean-final.csv\")\n",
    "edu_df = pd.read_csv(\"./outputs/formats/ias-education.csv\")\n",
    "postings_df = pd.read_csv(\"./outputs/formats/ias-postings.csv\")"
   ]
  },
  {
   "cell_type": "code",
   "execution_count": 2,
   "metadata": {},
   "outputs": [],
   "source": [
    "new_cadre = []\n",
    "new_qualifications = []\n",
    "for i in range(len(main_df.index)):\n",
    "    new_cadre.append(str(main_df[\"Cadre\"][i]).replace(\" \", \"\").replace(\"/\", \"-\"))\n",
    "    new_qualifications.append(str(edu_df[\"Qualification/University/Institute\"][i]).split(\"/\")[0])\n",
    "\n",
    "main_df[\"Cadre\"] = new_cadre\n",
    "main_df.to_csv(\"./outputs/combined/ias-clean-final.csv\", index=False)"
   ]
  },
  {
   "cell_type": "code",
   "execution_count": 3,
   "metadata": {},
   "outputs": [],
   "source": [
    "cadre_counter = Counter(new_cadre)\n",
    "allotment_year_counter = Counter(main_df[\"Allotment Year\"])\n",
    "education_counter = Counter(new_qualifications)\n",
    "subject_counter = Counter(edu_df[\"Subject\"])\n",
    "division_counter = Counter(edu_df[\"Division\"])"
   ]
  },
  {
   "cell_type": "code",
   "execution_count": 4,
   "metadata": {},
   "outputs": [
    {
     "output_type": "execute_result",
     "data": {
      "text/plain": [
       "Counter({'Graduate': 4996,\n",
       "         'P.G.': 3624,\n",
       "         'Diploma': 416,\n",
       "         'Certificate': 203,\n",
       "         'Ph. D.': 265,\n",
       "         'N.A.': 332,\n",
       "         'Post Ph.D.': 12,\n",
       "         'M.Phil.': 146,\n",
       "         'PG Diploma': 144,\n",
       "         'LL.B.': 233,\n",
       "         'M.B.A.': 210,\n",
       "         'LL.M.': 15,\n",
       "         'M.A.': 140,\n",
       "         'P.G. (USA)': 9,\n",
       "         'B.A. Honours': 76,\n",
       "         'B.V.Sc. & A.H.': 3,\n",
       "         'B.E.': 84,\n",
       "         'B.Sc.': 74,\n",
       "         'B.Tech.': 110,\n",
       "         'M.B.A. (UK)': 22,\n",
       "         'M.P.A.': 22,\n",
       "         'B.Sc.(Hons)': 41,\n",
       "         'M.Tech.': 58,\n",
       "         'B.A.': 74,\n",
       "         'M.Sc.': 99,\n",
       "         'A.M.I.E.': 2,\n",
       "         'Ph.D.(U.S.A.)': 11,\n",
       "         'B.Com.': 18,\n",
       "         'B.E. (Hons)': 4,\n",
       "         'B.Ed.': 16,\n",
       "         'M.Com.': 8,\n",
       "         'M.E.': 3,\n",
       "         'M.B.B.S.': 29,\n",
       "         'ICWAI': 6,\n",
       "         'C.S.': 5,\n",
       "         'Chartered Accountant': 6,\n",
       "         'M.B.L.': 1,\n",
       "         'B.D.S.': 1,\n",
       "         'C.F.A.': 3,\n",
       "         'B.Sc.(Agri)': 3,\n",
       "         'Intermediate': 1,\n",
       "         'B.Sc.(Engg)': 4,\n",
       "         'M.S.': 1,\n",
       "         'M.V.Sc.': 2,\n",
       "         'Adv. Diploma': 2,\n",
       "         'Master in Business Administration': 3,\n",
       "         'Degree': 2,\n",
       "         'C.A.': 1,\n",
       "         'M.H.S.A.': 1,\n",
       "         'M.P.P.': 1,\n",
       "         'B.Com Honours': 2,\n",
       "         'M.A. English': 1,\n",
       "         'M.Ed.': 2,\n",
       "         'Certificate course': 2,\n",
       "         'M.I.D.P.': 1,\n",
       "         'M.D.': 1,\n",
       "         'Bachelor of Engineering': 2,\n",
       "         'LL.B Professional': 1,\n",
       "         'Management Programme in Public Policy': 1,\n",
       "         'Masters in Public Policy': 1,\n",
       "         'M.Stat.': 1,\n",
       "         'Master of Arts': 2,\n",
       "         'M.I.P.L.': 1,\n",
       "         'Masters in International Development': 1,\n",
       "         'MIPP': 1,\n",
       "         'PGD PPM': 1,\n",
       "         'Master of Technology': 1,\n",
       "         'M.P.H.': 1,\n",
       "         'Post Graduate Diploma in Business Administration': 1,\n",
       "         'PG Diploma in Financial Management': 1,\n",
       "         'POST GRADUATE IN PUBLIC POLICY AND MANAGEMENT': 1,\n",
       "         'M.P.M.': 1})"
      ]
     },
     "metadata": {},
     "execution_count": 4
    }
   ],
   "source": [
    "education_counter"
   ]
  },
  {
   "cell_type": "code",
   "execution_count": 5,
   "metadata": {},
   "outputs": [],
   "source": [
    "my_dict = {\n",
    "    \"cadre\": dict(cadre_counter),\n",
    "    \"allotment_year\": dict(allotment_year_counter),\n",
    "    \"education\": dict(education_counter),\n",
    "    \"subject\": dict(subject_counter),\n",
    "    \"division\": dict(division_counter)\n",
    "}"
   ]
  },
  {
   "cell_type": "code",
   "execution_count": 6,
   "metadata": {},
   "outputs": [],
   "source": [
    "import json\n",
    "\n",
    "json_file = open(\"./outputs/meta/metadata.json\", \"w\")\n",
    "json.dump(my_dict, json_file, indent=4)"
   ]
  },
  {
   "cell_type": "code",
   "execution_count": null,
   "metadata": {},
   "outputs": [],
   "source": []
  }
 ]
}