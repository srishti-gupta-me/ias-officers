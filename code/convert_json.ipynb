{
 "cells": [
  {
   "cell_type": "code",
   "execution_count": 1,
   "source": [
    "import json\r\n",
    "from helper import Verbose"
   ],
   "outputs": [],
   "metadata": {}
  },
  {
   "cell_type": "code",
   "execution_count": 2,
   "source": [
    "Verbose(show_time=False)"
   ],
   "outputs": [
    {
     "output_type": "execute_result",
     "data": {
      "text/plain": [
       "<helper.Verbose at 0x21a96a093d0>"
      ]
     },
     "metadata": {},
     "execution_count": 2
    }
   ],
   "metadata": {}
  },
  {
   "cell_type": "code",
   "execution_count": 7,
   "source": [
    "json_file = open(\"../datasets/archived/ias-json.json\")\r\n",
    "json_data = json.load(json_file)"
   ],
   "outputs": [],
   "metadata": {}
  },
  {
   "cell_type": "code",
   "execution_count": 8,
   "source": [
    "json_data[0].keys()"
   ],
   "outputs": [
    {
     "output_type": "execute_result",
     "data": {
      "text/plain": [
       "dict_keys(['Name', 'Service', 'Cadre', 'Allotment Year', 'Date of Birth', 'Date of Joining', 'Source of Recruitment', 'Gender', 'Place of Domicile', 'Mother Tongue', 'Languages Known', 'Retirement Reason', 'Qualification/University/Institute', 'Subject', 'Division', 'Designation/Level', 'Ministry/Department/Office/Location', 'Organisation', 'Experience(major/minor)', 'Period(From/To)', 'Dataset name', 'Clean Ids'])"
      ]
     },
     "metadata": {},
     "execution_count": 8
    }
   ],
   "metadata": {}
  },
  {
   "cell_type": "code",
   "execution_count": 18,
   "source": [
    "def make_new_object(j_object):\r\n",
    "    id_val = j_object[\"Clean Ids\"]\r\n",
    "    new_object = {}\r\n",
    "    education_keys = ['Qualification/University/Institute', 'Subject', 'Division']\r\n",
    "    experience_keys = ['Designation/Level', 'Ministry/Department/Office/Location', 'Organisation', 'Experience(major/minor)', 'Period(From/To)']\r\n",
    "    for key in j_object.keys():\r\n",
    "        if not (key in education_keys or key in experience_keys) and not key == \"Clean Ids\":\r\n",
    "            new_object[key] = j_object[key]\r\n",
    "\r\n",
    "    education_length = len(j_object[\"Subject\"])\r\n",
    "    edu_objects = []\r\n",
    "    for i in range(education_length):\r\n",
    "        edu_object = {}\r\n",
    "        for key in education_keys:\r\n",
    "            try:\r\n",
    "                edu_object[key] = j_object[key][i]\r\n",
    "            except:\r\n",
    "                edu_object[key] = \"N.A.\"\r\n",
    "        \r\n",
    "        edu_objects.append(edu_object)\r\n",
    "    \r\n",
    "    new_object[\"Education\"] = edu_objects\r\n",
    "    \r\n",
    "    experience_length = len(j_object[\"Designation/Level\"])\r\n",
    "    exp_objects = []\r\n",
    "    for i in range(experience_length):\r\n",
    "        exp_object = {}\r\n",
    "        for key in experience_keys:\r\n",
    "            if key == \"Experience(major/minor)\":\r\n",
    "                values = j_object[key][i].split(\"/\")\r\n",
    "                exp_object[\"Experience Major\"] = values[0]\r\n",
    "                try:\r\n",
    "                    exp_object[\"Experience Minor\"] = values[1]\r\n",
    "                except:\r\n",
    "                    exp_object[\"Experience Minor\"] = \"N.A.\"\r\n",
    "            else:\r\n",
    "                try:\r\n",
    "                    exp_object[key] = j_object[key][i]\r\n",
    "                except:\r\n",
    "                    exp_object[key] = \"N.A.\"\r\n",
    "        \r\n",
    "        exp_objects.append(exp_object)\r\n",
    "\r\n",
    "    new_object[\"Experience\"] = exp_objects\r\n",
    "    return j_object[\"Clean Ids\"], new_object"
   ],
   "outputs": [],
   "metadata": {}
  },
  {
   "cell_type": "code",
   "execution_count": 19,
   "source": [
    "make_new_object(json_data[0])"
   ],
   "outputs": [
    {
     "output_type": "execute_result",
     "data": {
      "text/plain": [
       "('MH006800',\n",
       " {'Name': 'Shri B G Deshmukh',\n",
       "  'Service': 'Indian Administrative Services',\n",
       "  'Cadre': 'Maharashtra',\n",
       "  'Allotment Year': '1951',\n",
       "  'Date of Birth': '26-03-1929',\n",
       "  'Date of Joining': '01-07-1951',\n",
       "  'Source of Recruitment': 'Direct Recruitment',\n",
       "  'Gender': 'Male',\n",
       "  'Place of Domicile': 'Maharashtra',\n",
       "  'Mother Tongue': 'Marathi',\n",
       "  'Languages Known': 'English Gujarati Hindi',\n",
       "  'Retirement Reason': 'Retired after Extension/Re-Employment',\n",
       "  'Dataset name': 'Supremo',\n",
       "  'Education': [{'Qualification/University/Institute': 'Graduate',\n",
       "    'Subject': 'Botany',\n",
       "    'Division': 'Ordinary'}],\n",
       "  'Experience': [{'Designation/Level': 'N.A./Secretary',\n",
       "    'Ministry/Department/Office/Location': 'P M O',\n",
       "    'Organisation': 'Centre',\n",
       "    'Experience Major': 'General Administration ',\n",
       "    'Experience Minor': ' Personnel and General Administration',\n",
       "    'Period(From/To)': '01/03/1989 - 01/12/1990'},\n",
       "   {'Designation/Level': 'OSD to Minister/Secretary',\n",
       "    'Ministry/Department/Office/Location': 'Cabinet Sectt',\n",
       "    'Organisation': 'Centre',\n",
       "    'Experience Major': 'Cabinet Affairs ',\n",
       "    'Experience Minor': ' Personnel and General Administration',\n",
       "    'Period(From/To)': '01/08/1986 - 01/08/1986'},\n",
       "   {'Designation/Level': 'Secretary/Secretary',\n",
       "    'Ministry/Department/Office/Location': 'M/o Labour & Rehabilitation',\n",
       "    'Organisation': 'Centre',\n",
       "    'Experience Major': 'Labour ',\n",
       "    'Experience Minor': ' Labour & Employment',\n",
       "    'Period(From/To)': '01/09/1982 - 01/03/1985'},\n",
       "   {'Designation/Level': 'Secretary/Secretary',\n",
       "    'Ministry/Department/Office/Location': 'M/o Labour',\n",
       "    'Organisation': 'Centre',\n",
       "    'Experience Major': 'Labour ',\n",
       "    'Experience Minor': ' Labour & Employment',\n",
       "    'Period(From/To)': '01/01/1981 - 01/09/1982'},\n",
       "   {'Designation/Level': 'Commissioner/Joint Secretary',\n",
       "    'Ministry/Department/Office/Location': '',\n",
       "    'Organisation': 'Cadre (AIS)',\n",
       "    'Experience Major': 'Municipal Administration ',\n",
       "    'Experience Minor': ' Urban Development',\n",
       "    'Period(From/To)': '01/08/1975 - 01/05/1978'},\n",
       "   {'Designation/Level': 'Secretary/Joint Secretary',\n",
       "    'Ministry/Department/Office/Location': '',\n",
       "    'Organisation': 'Cadre (AIS)',\n",
       "    'Experience Major': 'Urban Develoment ',\n",
       "    'Experience Minor': ' Urban Development',\n",
       "    'Period(From/To)': '01/11/1971 - 01/04/1972'},\n",
       "   {'Designation/Level': 'Deputy Secretary/Deputy Secretary',\n",
       "    'Ministry/Department/Office/Location': '',\n",
       "    'Organisation': 'Cadre (AIS)',\n",
       "    'Experience Major': 'Personnel Mgmt ',\n",
       "    'Experience Minor': ' Personnel and General Administration',\n",
       "    'Period(From/To)': '01/07/1963 - 01/02/1970'},\n",
       "   {'Designation/Level': 'Under Secy/Under Secretary',\n",
       "    'Ministry/Department/Office/Location': 'M/o Transport',\n",
       "    'Organisation': 'Centre',\n",
       "    'Experience Major': 'Transport ',\n",
       "    'Experience Minor': ' Transport',\n",
       "    'Period(From/To)': '01/07/1958 - 01/05/1960'},\n",
       "   {'Designation/Level': 'Assistant Collector/Junior Scale',\n",
       "    'Ministry/Department/Office/Location': '',\n",
       "    'Organisation': 'Cadre (AIS)',\n",
       "    'Experience Major': 'Sub Divisional Admn ',\n",
       "    'Experience Minor': ' Land Revenue Mgmt & District Admn',\n",
       "    'Period(From/To)': '01/12/1952 - 01/03/1956'}]})"
      ]
     },
     "metadata": {},
     "execution_count": 19
    }
   ],
   "metadata": {}
  },
  {
   "cell_type": "code",
   "execution_count": 10,
   "source": [
    "new_data = {}\r\n",
    "verbose = Verbose(show_time=False, line_char=\"#\", space_char=\" \", arrow_head=\"\")\r\n",
    "length = len(json_data)\r\n",
    "for i, officer in enumerate(json_data):\r\n",
    "    verbose.make_verbose(i+1, length, start_with=officer[\"Clean Ids\"])\r\n",
    "    _id, obj = make_new_object(officer)\r\n",
    "    new_data[_id] = obj\r\n"
   ],
   "outputs": [
    {
     "output_type": "stream",
     "name": "stdout",
     "text": [
      "WB118X12  [#########################]  11569/11569"
     ]
    }
   ],
   "metadata": {}
  },
  {
   "cell_type": "code",
   "execution_count": 14,
   "source": [
    "new_file = open(\"../datasets/formats/ias-json-new.json\", \"w\", encoding=\"utf-8\")\r\n",
    "\r\n",
    "json.dump(new_data, new_file, indent=4)"
   ],
   "outputs": [],
   "metadata": {}
  },
  {
   "cell_type": "code",
   "execution_count": null,
   "source": [],
   "outputs": [],
   "metadata": {}
  }
 ],
 "metadata": {
  "orig_nbformat": 4,
  "language_info": {
   "name": "python",
   "version": "3.8.7",
   "mimetype": "text/x-python",
   "codemirror_mode": {
    "name": "ipython",
    "version": 3
   },
   "pygments_lexer": "ipython3",
   "nbconvert_exporter": "python",
   "file_extension": ".py"
  },
  "kernelspec": {
   "name": "python3",
   "display_name": "Python 3.8.7 64-bit"
  },
  "interpreter": {
   "hash": "94edbaacddaafd6d45ba5506bea1ce8a371c01e0c71d6cc8e1f8803236d6de55"
  }
 },
 "nbformat": 4,
 "nbformat_minor": 2
}