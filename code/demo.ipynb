{
 "metadata": {
  "language_info": {
   "codemirror_mode": {
    "name": "ipython",
    "version": 3
   },
   "file_extension": ".py",
   "mimetype": "text/x-python",
   "name": "python",
   "nbconvert_exporter": "python",
   "pygments_lexer": "ipython3",
   "version": "3.8.7"
  },
  "orig_nbformat": 4,
  "kernelspec": {
   "name": "python3",
   "display_name": "Python 3.8.7 64-bit"
  },
  "interpreter": {
   "hash": "94edbaacddaafd6d45ba5506bea1ce8a371c01e0c71d6cc8e1f8803236d6de55"
  }
 },
 "nbformat": 4,
 "nbformat_minor": 2,
 "cells": [
  {
   "cell_type": "code",
   "execution_count": 1,
   "metadata": {},
   "outputs": [],
   "source": [
    "import pandas as pd"
   ]
  },
  {
   "cell_type": "code",
   "execution_count": 3,
   "metadata": {},
   "outputs": [],
   "source": [
    "df = pd.read_csv(\"./outputs/combined/ias-clean.csv\")"
   ]
  },
  {
   "cell_type": "code",
   "execution_count": 8,
   "metadata": {},
   "outputs": [
    {
     "output_type": "execute_result",
     "data": {
      "text/plain": [
       "                                    Name                         Service  \\\n",
       "6547            Shri Nand Kishore Prasad  Indian Administrative Services   \n",
       "6548                    Shri Bhushan Jha  Indian Administrative Services   \n",
       "6549             Shri Raghunandan Prasad  Indian Administrative Services   \n",
       "6550             Shri Rajpal Singh Tyagi  Indian Administrative Services   \n",
       "6551                    Shri K.R. Bharti  Indian Administrative Services   \n",
       "...                                  ...                             ...   \n",
       "14892                  Ms. Tamil Oviya S  Indian Administrative Services   \n",
       "14893                     Ms. Renu Sogan  Indian Administrative Services   \n",
       "14894             Shri Anuj Pratap Singh  Indian Administrative Services   \n",
       "14895                 Ms. Priyanka Singh  Indian Administrative Services   \n",
       "14896  Ms. Wankhede Archana Pandharinath  Indian Administrative Services   \n",
       "\n",
       "                   Cadre Allotment Year Date of Birth Date of Joining  \\\n",
       "6547              Bihar            2001    05/01/1944      19/12/2001   \n",
       "6548              Bihar            2001    02/07/1944      19/12/2001   \n",
       "6549              Bihar            2001    01/06/1944      19/12/2001   \n",
       "6550       Chhattisgarh            2001    29/07/1954            N.A.   \n",
       "6551   Himachal Pradesh            2001    02/04/1955      15/04/2010   \n",
       "...                  ...            ...           ...             ...   \n",
       "14892        West Bengal           2019    26-09-1993      01-09-2019   \n",
       "14893        West Bengal           2019    21-03-1994      01-09-2019   \n",
       "14894        West Bengal           2019    30-03-1991      01-09-2019   \n",
       "14895        West Bengal           2019    25-03-1992      01-09-2019   \n",
       "14896        West Bengal           2019    09-01-1983      01-09-2019   \n",
       "\n",
       "      Identity No.                  Source of Recruitment Gender  \\\n",
       "6547    01BH920500  By Promotion from State Civil Service   Male   \n",
       "6548    01BH920600  By Promotion from State Civil Service   Male   \n",
       "6549    01BH920800  By Promotion from State Civil Service   Male   \n",
       "6550    01CG807002  By Promotion from State Civil Service   Male   \n",
       "6551    01HP808003  By Promotion from State Civil Service   Male   \n",
       "...            ...                                    ...    ...   \n",
       "14892     WB118X08                                     RR   N.A.   \n",
       "14893     WB118X09                                     RR   N.A.   \n",
       "14894     WB118X10                                     RR   N.A.   \n",
       "14895     WB118X11                                     RR   N.A.   \n",
       "14896     WB118X12                                     RR   N.A.   \n",
       "\n",
       "      Place of Domicile  ... Qualification/University/Institute Subject  \\\n",
       "6547              Bihar  ...                           Graduate    N.A.   \n",
       "6548              Bihar  ...                           Graduate    N.A.   \n",
       "6549              Bihar  ...                           Graduate    N.A.   \n",
       "6550               N.A.  ...                               N.A.    N.A.   \n",
       "6551               N.A.  ...                               N.A.    N.A.   \n",
       "...                 ...  ...                                ...     ...   \n",
       "14892        Tamil Nadu  ...                           Graduate    N.A.   \n",
       "14893         Rajasthan  ...                           Graduate    N.A.   \n",
       "14894     Uttar Pradesh  ...                           Graduate    N.A.   \n",
       "14895     Uttar Pradesh  ...                           Graduate    N.A.   \n",
       "14896       Maharashtra  ...                           Graduate    N.A.   \n",
       "\n",
       "       Division                                  Designation/Level  \\\n",
       "6547   Ordinary                            Jt Secy/Under Secretary   \n",
       "6548   Ordinary                            Jt Secy/Under Secretary   \n",
       "6549   Ordinary  Collector & D M/Under Secretary|Jt Secy/Under ...   \n",
       "6550       N.A.  Joint Secretary/Director|Jt Secy/Deputy Secret...   \n",
       "6551       N.A.  Spl Secy/Director|Controller/Director|Deputy C...   \n",
       "...         ...                                                ...   \n",
       "14892      N.A.                                              N.A.    \n",
       "14893      N.A.                                              N.A.    \n",
       "14894      N.A.                                              N.A.    \n",
       "14895      N.A.                                              N.A.    \n",
       "14896      N.A.                                              N.A.    \n",
       "\n",
       "                     Ministry/Department/Office/Location  \\\n",
       "6547                                               Patan   \n",
       "6548                                                N.A.   \n",
       "6549                    Banka|State Road Transport Corpn   \n",
       "6550   Health & Family Walfare Deptt/Raipur|Health & ...   \n",
       "6551   Finance Deptt/Shimla|Printing & Stationery/Shi...   \n",
       "...                                                  ...   \n",
       "14892                                              N.A.    \n",
       "14893                                              N.A.    \n",
       "14894                                              N.A.    \n",
       "14895                                              N.A.    \n",
       "14896                                              N.A.    \n",
       "\n",
       "                                          Organisation  \\\n",
       "6547                                       Cadre (AIS)   \n",
       "6548                                       Cadre (AIS)   \n",
       "6549                           Cadre (AIS)|Cadre (AIS)   \n",
       "6550   Cadre (AIS)|Cadre (AIS)|Cadre (AIS)|Cadre (AIS)   \n",
       "6551               Cadre (AIS)|Cadre (AIS)|Cadre (AIS)   \n",
       "...                                                ...   \n",
       "14892                                             N.A.   \n",
       "14893                                             N.A.   \n",
       "14894                                             N.A.   \n",
       "14895                                             N.A.   \n",
       "14896                                             N.A.   \n",
       "\n",
       "                                 Experience(major/minor)  \\\n",
       "6547   Personnel and General Administration / Personn...   \n",
       "6548                                         Home / Home   \n",
       "6549   District Admn / Land Revenue Mgmt & District A...   \n",
       "6550   Health & Family Welfare / Health & Family Welf...   \n",
       "6551   Finance / Finance|Printing & Publications / In...   \n",
       "...                                                  ...   \n",
       "14892                                               N.A.   \n",
       "14893                                               N.A.   \n",
       "14894                                               N.A.   \n",
       "14895                                               N.A.   \n",
       "14896                                               N.A.   \n",
       "\n",
       "                                         Period(From/To)   Dataset name  \\\n",
       "6547                             20/12/2001 - 31/01/2004        Supremo   \n",
       "6548                             20/12/2001 - 31/07/2004        Supremo   \n",
       "6549     07/04/2003 - 31/05/2004|19/12/2001 - 11/02/2003        Supremo   \n",
       "6550   01/01/2014 - 31/07/2014|02/09/2013 - 31/12/201...        Supremo   \n",
       "6551   27/06/2014 - 30/04/2015|07/01/2013 - 27/06/201...        Supremo   \n",
       "...                                                  ...            ...   \n",
       "14892                                         01-09-2018  DOPT(easynic)   \n",
       "14893                                         01-09-2018  DOPT(easynic)   \n",
       "14894                                         01-09-2018  DOPT(easynic)   \n",
       "14895                                         01-09-2018  DOPT(easynic)   \n",
       "14896                                         01-09-2018  DOPT(easynic)   \n",
       "\n",
       "      Clean Ids  \n",
       "6547   BH920500  \n",
       "6548   BH920600  \n",
       "6549   BH920800  \n",
       "6550   CG807002  \n",
       "6551   HP808003  \n",
       "...         ...  \n",
       "14892  WB118X08  \n",
       "14893  WB118X09  \n",
       "14894  WB118X10  \n",
       "14895  WB118X11  \n",
       "14896  WB118X12  \n",
       "\n",
       "[6861 rows x 23 columns]"
      ],
      "text/html": "<div>\n<style scoped>\n    .dataframe tbody tr th:only-of-type {\n        vertical-align: middle;\n    }\n\n    .dataframe tbody tr th {\n        vertical-align: top;\n    }\n\n    .dataframe thead th {\n        text-align: right;\n    }\n</style>\n<table border=\"1\" class=\"dataframe\">\n  <thead>\n    <tr style=\"text-align: right;\">\n      <th></th>\n      <th>Name</th>\n      <th>Service</th>\n      <th>Cadre</th>\n      <th>Allotment Year</th>\n      <th>Date of Birth</th>\n      <th>Date of Joining</th>\n      <th>Identity No.</th>\n      <th>Source of Recruitment</th>\n      <th>Gender</th>\n      <th>Place of Domicile</th>\n      <th>...</th>\n      <th>Qualification/University/Institute</th>\n      <th>Subject</th>\n      <th>Division</th>\n      <th>Designation/Level</th>\n      <th>Ministry/Department/Office/Location</th>\n      <th>Organisation</th>\n      <th>Experience(major/minor)</th>\n      <th>Period(From/To)</th>\n      <th>Dataset name</th>\n      <th>Clean Ids</th>\n    </tr>\n  </thead>\n  <tbody>\n    <tr>\n      <th>6547</th>\n      <td>Shri Nand Kishore Prasad</td>\n      <td>Indian Administrative Services</td>\n      <td>Bihar</td>\n      <td>2001</td>\n      <td>05/01/1944</td>\n      <td>19/12/2001</td>\n      <td>01BH920500</td>\n      <td>By Promotion from State Civil Service</td>\n      <td>Male</td>\n      <td>Bihar</td>\n      <td>...</td>\n      <td>Graduate</td>\n      <td>N.A.</td>\n      <td>Ordinary</td>\n      <td>Jt Secy/Under Secretary</td>\n      <td>Patan</td>\n      <td>Cadre (AIS)</td>\n      <td>Personnel and General Administration / Personn...</td>\n      <td>20/12/2001 - 31/01/2004</td>\n      <td>Supremo</td>\n      <td>BH920500</td>\n    </tr>\n    <tr>\n      <th>6548</th>\n      <td>Shri Bhushan Jha</td>\n      <td>Indian Administrative Services</td>\n      <td>Bihar</td>\n      <td>2001</td>\n      <td>02/07/1944</td>\n      <td>19/12/2001</td>\n      <td>01BH920600</td>\n      <td>By Promotion from State Civil Service</td>\n      <td>Male</td>\n      <td>Bihar</td>\n      <td>...</td>\n      <td>Graduate</td>\n      <td>N.A.</td>\n      <td>Ordinary</td>\n      <td>Jt Secy/Under Secretary</td>\n      <td>N.A.</td>\n      <td>Cadre (AIS)</td>\n      <td>Home / Home</td>\n      <td>20/12/2001 - 31/07/2004</td>\n      <td>Supremo</td>\n      <td>BH920600</td>\n    </tr>\n    <tr>\n      <th>6549</th>\n      <td>Shri Raghunandan Prasad</td>\n      <td>Indian Administrative Services</td>\n      <td>Bihar</td>\n      <td>2001</td>\n      <td>01/06/1944</td>\n      <td>19/12/2001</td>\n      <td>01BH920800</td>\n      <td>By Promotion from State Civil Service</td>\n      <td>Male</td>\n      <td>Bihar</td>\n      <td>...</td>\n      <td>Graduate</td>\n      <td>N.A.</td>\n      <td>Ordinary</td>\n      <td>Collector &amp; D M/Under Secretary|Jt Secy/Under ...</td>\n      <td>Banka|State Road Transport Corpn</td>\n      <td>Cadre (AIS)|Cadre (AIS)</td>\n      <td>District Admn / Land Revenue Mgmt &amp; District A...</td>\n      <td>07/04/2003 - 31/05/2004|19/12/2001 - 11/02/2003</td>\n      <td>Supremo</td>\n      <td>BH920800</td>\n    </tr>\n    <tr>\n      <th>6550</th>\n      <td>Shri Rajpal Singh Tyagi</td>\n      <td>Indian Administrative Services</td>\n      <td>Chhattisgarh</td>\n      <td>2001</td>\n      <td>29/07/1954</td>\n      <td>N.A.</td>\n      <td>01CG807002</td>\n      <td>By Promotion from State Civil Service</td>\n      <td>Male</td>\n      <td>N.A.</td>\n      <td>...</td>\n      <td>N.A.</td>\n      <td>N.A.</td>\n      <td>N.A.</td>\n      <td>Joint Secretary/Director|Jt Secy/Deputy Secret...</td>\n      <td>Health &amp; Family Walfare Deptt/Raipur|Health &amp; ...</td>\n      <td>Cadre (AIS)|Cadre (AIS)|Cadre (AIS)|Cadre (AIS)</td>\n      <td>Health &amp; Family Welfare / Health &amp; Family Welf...</td>\n      <td>01/01/2014 - 31/07/2014|02/09/2013 - 31/12/201...</td>\n      <td>Supremo</td>\n      <td>CG807002</td>\n    </tr>\n    <tr>\n      <th>6551</th>\n      <td>Shri K.R. Bharti</td>\n      <td>Indian Administrative Services</td>\n      <td>Himachal Pradesh</td>\n      <td>2001</td>\n      <td>02/04/1955</td>\n      <td>15/04/2010</td>\n      <td>01HP808003</td>\n      <td>By Promotion from State Civil Service</td>\n      <td>Male</td>\n      <td>N.A.</td>\n      <td>...</td>\n      <td>N.A.</td>\n      <td>N.A.</td>\n      <td>N.A.</td>\n      <td>Spl Secy/Director|Controller/Director|Deputy C...</td>\n      <td>Finance Deptt/Shimla|Printing &amp; Stationery/Shi...</td>\n      <td>Cadre (AIS)|Cadre (AIS)|Cadre (AIS)</td>\n      <td>Finance / Finance|Printing &amp; Publications / In...</td>\n      <td>27/06/2014 - 30/04/2015|07/01/2013 - 27/06/201...</td>\n      <td>Supremo</td>\n      <td>HP808003</td>\n    </tr>\n    <tr>\n      <th>...</th>\n      <td>...</td>\n      <td>...</td>\n      <td>...</td>\n      <td>...</td>\n      <td>...</td>\n      <td>...</td>\n      <td>...</td>\n      <td>...</td>\n      <td>...</td>\n      <td>...</td>\n      <td>...</td>\n      <td>...</td>\n      <td>...</td>\n      <td>...</td>\n      <td>...</td>\n      <td>...</td>\n      <td>...</td>\n      <td>...</td>\n      <td>...</td>\n      <td>...</td>\n      <td>...</td>\n    </tr>\n    <tr>\n      <th>14892</th>\n      <td>Ms. Tamil Oviya S</td>\n      <td>Indian Administrative Services</td>\n      <td>West Bengal</td>\n      <td>2019</td>\n      <td>26-09-1993</td>\n      <td>01-09-2019</td>\n      <td>WB118X08</td>\n      <td>RR</td>\n      <td>N.A.</td>\n      <td>Tamil Nadu</td>\n      <td>...</td>\n      <td>Graduate</td>\n      <td>N.A.</td>\n      <td>N.A.</td>\n      <td>N.A.</td>\n      <td>N.A.</td>\n      <td>N.A.</td>\n      <td>N.A.</td>\n      <td>01-09-2018</td>\n      <td>DOPT(easynic)</td>\n      <td>WB118X08</td>\n    </tr>\n    <tr>\n      <th>14893</th>\n      <td>Ms. Renu Sogan</td>\n      <td>Indian Administrative Services</td>\n      <td>West Bengal</td>\n      <td>2019</td>\n      <td>21-03-1994</td>\n      <td>01-09-2019</td>\n      <td>WB118X09</td>\n      <td>RR</td>\n      <td>N.A.</td>\n      <td>Rajasthan</td>\n      <td>...</td>\n      <td>Graduate</td>\n      <td>N.A.</td>\n      <td>N.A.</td>\n      <td>N.A.</td>\n      <td>N.A.</td>\n      <td>N.A.</td>\n      <td>N.A.</td>\n      <td>01-09-2018</td>\n      <td>DOPT(easynic)</td>\n      <td>WB118X09</td>\n    </tr>\n    <tr>\n      <th>14894</th>\n      <td>Shri Anuj Pratap Singh</td>\n      <td>Indian Administrative Services</td>\n      <td>West Bengal</td>\n      <td>2019</td>\n      <td>30-03-1991</td>\n      <td>01-09-2019</td>\n      <td>WB118X10</td>\n      <td>RR</td>\n      <td>N.A.</td>\n      <td>Uttar Pradesh</td>\n      <td>...</td>\n      <td>Graduate</td>\n      <td>N.A.</td>\n      <td>N.A.</td>\n      <td>N.A.</td>\n      <td>N.A.</td>\n      <td>N.A.</td>\n      <td>N.A.</td>\n      <td>01-09-2018</td>\n      <td>DOPT(easynic)</td>\n      <td>WB118X10</td>\n    </tr>\n    <tr>\n      <th>14895</th>\n      <td>Ms. Priyanka Singh</td>\n      <td>Indian Administrative Services</td>\n      <td>West Bengal</td>\n      <td>2019</td>\n      <td>25-03-1992</td>\n      <td>01-09-2019</td>\n      <td>WB118X11</td>\n      <td>RR</td>\n      <td>N.A.</td>\n      <td>Uttar Pradesh</td>\n      <td>...</td>\n      <td>Graduate</td>\n      <td>N.A.</td>\n      <td>N.A.</td>\n      <td>N.A.</td>\n      <td>N.A.</td>\n      <td>N.A.</td>\n      <td>N.A.</td>\n      <td>01-09-2018</td>\n      <td>DOPT(easynic)</td>\n      <td>WB118X11</td>\n    </tr>\n    <tr>\n      <th>14896</th>\n      <td>Ms. Wankhede Archana Pandharinath</td>\n      <td>Indian Administrative Services</td>\n      <td>West Bengal</td>\n      <td>2019</td>\n      <td>09-01-1983</td>\n      <td>01-09-2019</td>\n      <td>WB118X12</td>\n      <td>RR</td>\n      <td>N.A.</td>\n      <td>Maharashtra</td>\n      <td>...</td>\n      <td>Graduate</td>\n      <td>N.A.</td>\n      <td>N.A.</td>\n      <td>N.A.</td>\n      <td>N.A.</td>\n      <td>N.A.</td>\n      <td>N.A.</td>\n      <td>01-09-2018</td>\n      <td>DOPT(easynic)</td>\n      <td>WB118X12</td>\n    </tr>\n  </tbody>\n</table>\n<p>6861 rows × 23 columns</p>\n</div>"
     },
     "metadata": {},
     "execution_count": 8
    }
   ],
   "source": [
    "df.loc[df[\"Allotment Year\"] > str(2000)]"
   ]
  },
  {
   "cell_type": "code",
   "execution_count": 16,
   "metadata": {},
   "outputs": [],
   "source": [
    "for id_val in df[\"Identity No.\"]:\n",
    "    rows = df.loc[df[\"Identity No.\"] == id_val]\n",
    "    if len(rows.index) > 2:\n",
    "        break"
   ]
  },
  {
   "cell_type": "code",
   "execution_count": 17,
   "metadata": {},
   "outputs": [
    {
     "output_type": "execute_result",
     "data": {
      "text/plain": [
       "                Name                         Service            Cadre  \\\n",
       "3730        Shri Ama  Indian Administrative Services  Andhra Pradesh    \n",
       "3731        Shri Ama  Indian Administrative Services  Andhra Pradesh    \n",
       "7650  Dr. Ajay Kumar  Indian Administrative Services         Gujarat    \n",
       "\n",
       "     Allotment Year Date of Birth Date of Joining Identity No.  \\\n",
       "3730           1984    01/01/1900      01/01/1900         N.A.   \n",
       "3731           1984    01/01/1900      01/01/1900         N.A.   \n",
       "7650           2006    09/06/1979            N.A.         N.A.   \n",
       "\n",
       "     Source of Recruitment Gender Place of Domicile  ...  \\\n",
       "3730                  N.A.   N.A.              N.A.  ...   \n",
       "3731                  N.A.   N.A.              N.A.  ...   \n",
       "7650                  N.A.   Male              N.A.  ...   \n",
       "\n",
       "     Qualification/University/Institute Subject Division Designation/Level  \\\n",
       "3730                               N.A.    N.A.     N.A.              N.A.   \n",
       "3731                               N.A.    N.A.     N.A.              N.A.   \n",
       "7650                               N.A.    N.A.     N.A.              N.A.   \n",
       "\n",
       "     Ministry/Department/Office/Location Organisation Experience(major/minor)  \\\n",
       "3730                                N.A.         N.A.                    N.A.   \n",
       "3731                                N.A.         N.A.                    N.A.   \n",
       "7650                                N.A.         N.A.                    N.A.   \n",
       "\n",
       "     Period(From/To) Dataset name Clean Ids  \n",
       "3730            N.A.      Supremo      N.A.  \n",
       "3731            N.A.      Supremo      N.A.  \n",
       "7650            N.A.      Supremo      N.A.  \n",
       "\n",
       "[3 rows x 23 columns]"
      ],
      "text/html": "<div>\n<style scoped>\n    .dataframe tbody tr th:only-of-type {\n        vertical-align: middle;\n    }\n\n    .dataframe tbody tr th {\n        vertical-align: top;\n    }\n\n    .dataframe thead th {\n        text-align: right;\n    }\n</style>\n<table border=\"1\" class=\"dataframe\">\n  <thead>\n    <tr style=\"text-align: right;\">\n      <th></th>\n      <th>Name</th>\n      <th>Service</th>\n      <th>Cadre</th>\n      <th>Allotment Year</th>\n      <th>Date of Birth</th>\n      <th>Date of Joining</th>\n      <th>Identity No.</th>\n      <th>Source of Recruitment</th>\n      <th>Gender</th>\n      <th>Place of Domicile</th>\n      <th>...</th>\n      <th>Qualification/University/Institute</th>\n      <th>Subject</th>\n      <th>Division</th>\n      <th>Designation/Level</th>\n      <th>Ministry/Department/Office/Location</th>\n      <th>Organisation</th>\n      <th>Experience(major/minor)</th>\n      <th>Period(From/To)</th>\n      <th>Dataset name</th>\n      <th>Clean Ids</th>\n    </tr>\n  </thead>\n  <tbody>\n    <tr>\n      <th>3730</th>\n      <td>Shri Ama</td>\n      <td>Indian Administrative Services</td>\n      <td>Andhra Pradesh</td>\n      <td>1984</td>\n      <td>01/01/1900</td>\n      <td>01/01/1900</td>\n      <td>N.A.</td>\n      <td>N.A.</td>\n      <td>N.A.</td>\n      <td>N.A.</td>\n      <td>...</td>\n      <td>N.A.</td>\n      <td>N.A.</td>\n      <td>N.A.</td>\n      <td>N.A.</td>\n      <td>N.A.</td>\n      <td>N.A.</td>\n      <td>N.A.</td>\n      <td>N.A.</td>\n      <td>Supremo</td>\n      <td>N.A.</td>\n    </tr>\n    <tr>\n      <th>3731</th>\n      <td>Shri Ama</td>\n      <td>Indian Administrative Services</td>\n      <td>Andhra Pradesh</td>\n      <td>1984</td>\n      <td>01/01/1900</td>\n      <td>01/01/1900</td>\n      <td>N.A.</td>\n      <td>N.A.</td>\n      <td>N.A.</td>\n      <td>N.A.</td>\n      <td>...</td>\n      <td>N.A.</td>\n      <td>N.A.</td>\n      <td>N.A.</td>\n      <td>N.A.</td>\n      <td>N.A.</td>\n      <td>N.A.</td>\n      <td>N.A.</td>\n      <td>N.A.</td>\n      <td>Supremo</td>\n      <td>N.A.</td>\n    </tr>\n    <tr>\n      <th>7650</th>\n      <td>Dr. Ajay Kumar</td>\n      <td>Indian Administrative Services</td>\n      <td>Gujarat</td>\n      <td>2006</td>\n      <td>09/06/1979</td>\n      <td>N.A.</td>\n      <td>N.A.</td>\n      <td>N.A.</td>\n      <td>Male</td>\n      <td>N.A.</td>\n      <td>...</td>\n      <td>N.A.</td>\n      <td>N.A.</td>\n      <td>N.A.</td>\n      <td>N.A.</td>\n      <td>N.A.</td>\n      <td>N.A.</td>\n      <td>N.A.</td>\n      <td>N.A.</td>\n      <td>Supremo</td>\n      <td>N.A.</td>\n    </tr>\n  </tbody>\n</table>\n<p>3 rows × 23 columns</p>\n</div>"
     },
     "metadata": {},
     "execution_count": 17
    }
   ],
   "source": [
    "rows"
   ]
  },
  {
   "cell_type": "code",
   "execution_count": 12,
   "metadata": {},
   "outputs": [],
   "source": [
    "new_df = pd.read_csv(\"./outputs/combined/ias-clean-final.csv\")"
   ]
  },
  {
   "cell_type": "code",
   "execution_count": 27,
   "metadata": {},
   "outputs": [
    {
     "output_type": "execute_result",
     "data": {
      "text/plain": [
       "                           Name                         Service       Cadre  \\\n",
       "5769   Shri Rajeev Singh Thakur  Indian Administrative Services  Rajasthan    \n",
       "5807   Shri Rajeev Singh Thakur  Indian Administrative Services  Rajasthan    \n",
       "13177  Shri Rajeev Singh Thakur  Indian Administrative Services   Rajasthan   \n",
       "\n",
       "      Allotment Year Date of Birth Date of Joining Identity No.  \\\n",
       "5769            1995    29/06/1969      03/09/1995   01RJ029800   \n",
       "5807            1995    29/06/1969      03/09/1995   01RJ029800   \n",
       "13177           1995    29-06-1969      03-09-1995     RJ029800   \n",
       "\n",
       "      Source of Recruitment Gender Place of Domicile  ...  \\\n",
       "5769     Direct Recruitment   Male    Madhya Pradesh  ...   \n",
       "5807                   N.A.   Male              N.A.  ...   \n",
       "13177                    RR   N.A.    Madhya Pradesh  ...   \n",
       "\n",
       "                      Qualification/University/Institute  \\\n",
       "5769                                       Graduate|P.G.   \n",
       "5807   M.A./BARKATULLAH UNIVERSITY BHOPAL BHOPAL/Cent...   \n",
       "13177                                          M.A.|M.A.   \n",
       "\n",
       "                        Subject      Division  \\\n",
       "5769          Physics|Economics  Second|First   \n",
       "5807                  Economics         First   \n",
       "13177  |Public Policy|Economics          N.A.   \n",
       "\n",
       "                                       Designation/Level  \\\n",
       "5769   Joint Secretary/Joint Secretary|Secretary to G...   \n",
       "5807                                                N.A.   \n",
       "13177        Joint Secretary Govt. of India, M/o Defence   \n",
       "\n",
       "                     Ministry/Department/Office/Location  \\\n",
       "5769   M/o Defence/Department of Military Affairs/New...   \n",
       "5807                                                N.A.   \n",
       "13177                                         New Delhi    \n",
       "\n",
       "                                            Organisation  \\\n",
       "5769   Centre|Cadre (AIS)|Centre|Centre|Cadre (AIS)|C...   \n",
       "5807                                         Cadre (AIS)   \n",
       "13177                                               N.A.   \n",
       "\n",
       "                                 Experience(major/minor)  \\\n",
       "5769   Defence / Defence|Consumer Affairs / Consumer ...   \n",
       "5807                          / N.Applicable/N.Available   \n",
       "13177                                               N.A.   \n",
       "\n",
       "                                         Period(From/To)   Dataset name  \\\n",
       "5769   29/01/2020 - 03/12/2022|08/05/2017 - 03/12/201...        Supremo   \n",
       "5807                             03/09/1995 - 19/11/2017        Supremo   \n",
       "13177                                         04-12-2017  DOPT(easynic)   \n",
       "\n",
       "      Clean Ids  \n",
       "5769   RJ029800  \n",
       "5807   RJ029800  \n",
       "13177  RJ029800  \n",
       "\n",
       "[3 rows x 23 columns]"
      ],
      "text/html": "<div>\n<style scoped>\n    .dataframe tbody tr th:only-of-type {\n        vertical-align: middle;\n    }\n\n    .dataframe tbody tr th {\n        vertical-align: top;\n    }\n\n    .dataframe thead th {\n        text-align: right;\n    }\n</style>\n<table border=\"1\" class=\"dataframe\">\n  <thead>\n    <tr style=\"text-align: right;\">\n      <th></th>\n      <th>Name</th>\n      <th>Service</th>\n      <th>Cadre</th>\n      <th>Allotment Year</th>\n      <th>Date of Birth</th>\n      <th>Date of Joining</th>\n      <th>Identity No.</th>\n      <th>Source of Recruitment</th>\n      <th>Gender</th>\n      <th>Place of Domicile</th>\n      <th>...</th>\n      <th>Qualification/University/Institute</th>\n      <th>Subject</th>\n      <th>Division</th>\n      <th>Designation/Level</th>\n      <th>Ministry/Department/Office/Location</th>\n      <th>Organisation</th>\n      <th>Experience(major/minor)</th>\n      <th>Period(From/To)</th>\n      <th>Dataset name</th>\n      <th>Clean Ids</th>\n    </tr>\n  </thead>\n  <tbody>\n    <tr>\n      <th>5769</th>\n      <td>Shri Rajeev Singh Thakur</td>\n      <td>Indian Administrative Services</td>\n      <td>Rajasthan</td>\n      <td>1995</td>\n      <td>29/06/1969</td>\n      <td>03/09/1995</td>\n      <td>01RJ029800</td>\n      <td>Direct Recruitment</td>\n      <td>Male</td>\n      <td>Madhya Pradesh</td>\n      <td>...</td>\n      <td>Graduate|P.G.</td>\n      <td>Physics|Economics</td>\n      <td>Second|First</td>\n      <td>Joint Secretary/Joint Secretary|Secretary to G...</td>\n      <td>M/o Defence/Department of Military Affairs/New...</td>\n      <td>Centre|Cadre (AIS)|Centre|Centre|Cadre (AIS)|C...</td>\n      <td>Defence / Defence|Consumer Affairs / Consumer ...</td>\n      <td>29/01/2020 - 03/12/2022|08/05/2017 - 03/12/201...</td>\n      <td>Supremo</td>\n      <td>RJ029800</td>\n    </tr>\n    <tr>\n      <th>5807</th>\n      <td>Shri Rajeev Singh Thakur</td>\n      <td>Indian Administrative Services</td>\n      <td>Rajasthan</td>\n      <td>1995</td>\n      <td>29/06/1969</td>\n      <td>03/09/1995</td>\n      <td>01RJ029800</td>\n      <td>N.A.</td>\n      <td>Male</td>\n      <td>N.A.</td>\n      <td>...</td>\n      <td>M.A./BARKATULLAH UNIVERSITY BHOPAL BHOPAL/Cent...</td>\n      <td>Economics</td>\n      <td>First</td>\n      <td>N.A.</td>\n      <td>N.A.</td>\n      <td>Cadre (AIS)</td>\n      <td>/ N.Applicable/N.Available</td>\n      <td>03/09/1995 - 19/11/2017</td>\n      <td>Supremo</td>\n      <td>RJ029800</td>\n    </tr>\n    <tr>\n      <th>13177</th>\n      <td>Shri Rajeev Singh Thakur</td>\n      <td>Indian Administrative Services</td>\n      <td>Rajasthan</td>\n      <td>1995</td>\n      <td>29-06-1969</td>\n      <td>03-09-1995</td>\n      <td>RJ029800</td>\n      <td>RR</td>\n      <td>N.A.</td>\n      <td>Madhya Pradesh</td>\n      <td>...</td>\n      <td>M.A.|M.A.</td>\n      <td>|Public Policy|Economics</td>\n      <td>N.A.</td>\n      <td>Joint Secretary Govt. of India, M/o Defence</td>\n      <td>New Delhi</td>\n      <td>N.A.</td>\n      <td>N.A.</td>\n      <td>04-12-2017</td>\n      <td>DOPT(easynic)</td>\n      <td>RJ029800</td>\n    </tr>\n  </tbody>\n</table>\n<p>3 rows × 23 columns</p>\n</div>"
     },
     "metadata": {},
     "execution_count": 27
    }
   ],
   "source": [
    "df.loc[df[\"Clean Ids\"] == \"RJ029800\"]"
   ]
  },
  {
   "cell_type": "code",
   "execution_count": 24,
   "metadata": {},
   "outputs": [],
   "source": [
    "from collections import Counter\n",
    "id_counter = Counter(df[\"Clean Ids\"].values)"
   ]
  },
  {
   "cell_type": "code",
   "execution_count": 25,
   "metadata": {},
   "outputs": [],
   "source": [
    "repeats = [item for item, count in id_counter.items() if count > 2 and not item == \"N.A.\"]"
   ]
  },
  {
   "cell_type": "code",
   "execution_count": 26,
   "metadata": {},
   "outputs": [
    {
     "output_type": "execute_result",
     "data": {
      "text/plain": [
       "['RJ029800']"
      ]
     },
     "metadata": {},
     "execution_count": 26
    }
   ],
   "source": [
    "repeats"
   ]
  },
  {
   "cell_type": "code",
   "execution_count": null,
   "metadata": {},
   "outputs": [],
   "source": []
  }
 ]
}