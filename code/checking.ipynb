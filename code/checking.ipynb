{
 "metadata": {
  "language_info": {
   "codemirror_mode": {
    "name": "ipython",
    "version": 3
   },
   "file_extension": ".py",
   "mimetype": "text/x-python",
   "name": "python",
   "nbconvert_exporter": "python",
   "pygments_lexer": "ipython3",
   "version": "3.8.7"
  },
  "orig_nbformat": 2,
  "kernelspec": {
   "name": "python387jvsc74a57bd094edbaacddaafd6d45ba5506bea1ce8a371c01e0c71d6cc8e1f8803236d6de55",
   "display_name": "Python 3.8.7 64-bit"
  }
 },
 "nbformat": 4,
 "nbformat_minor": 2,
 "cells": [
  {
   "cell_type": "code",
   "execution_count": 1,
   "metadata": {},
   "outputs": [],
   "source": [
    "import pandas as pd\n",
    "import re"
   ]
  },
  {
   "cell_type": "code",
   "execution_count": 2,
   "metadata": {},
   "outputs": [],
   "source": [
    "dataset = pd.read_csv(\"./outputs/combined/test.csv\")"
   ]
  },
  {
   "cell_type": "code",
   "execution_count": 3,
   "metadata": {},
   "outputs": [],
   "source": [
    "clean_id = []\n",
    "for i, value in enumerate(dataset[\"Identity No.\"].values):\n",
    "    if(len(str(value)) == 10):\n",
    "        value = value[2:]\n",
    "    clean_id.append(value)"
   ]
  },
  {
   "cell_type": "code",
   "execution_count": 4,
   "metadata": {},
   "outputs": [
    {
     "output_type": "execute_result",
     "data": {
      "text/plain": [
       "14897"
      ]
     },
     "metadata": {},
     "execution_count": 4
    }
   ],
   "source": [
    "len(clean_id)"
   ]
  },
  {
   "cell_type": "code",
   "execution_count": 5,
   "metadata": {},
   "outputs": [],
   "source": [
    "dataset[\"Clean Ids\"] = clean_id\n",
    "dataset[\"Service\"] = [\"Indian Administrative Services\"] * len(dataset.index)"
   ]
  },
  {
   "cell_type": "code",
   "execution_count": 6,
   "metadata": {},
   "outputs": [
    {
     "output_type": "execute_result",
     "data": {
      "text/plain": [
       "   Unnamed: 0                 Name                         Service  \\\n",
       "0           0    Shri B G Deshmukh  Indian Administrative Service    \n",
       "1           1  Shri Gv Ramakrishna  Indian Administrative Service    \n",
       "2           2      Shri N Nagamani  Indian Administrative Service    \n",
       "3           3       Shri Pp Nayyar  Indian Administrative Service    \n",
       "4           4    Shri M Sivagnanam  Indian Administrative Service    \n",
       "\n",
       "             Cadre Allotment Year Date of Birth Date of Joining Identity No.  \\\n",
       "0     Maharashtra            1951    26/03/1929      01/07/1951   02MH006800   \n",
       "1  Andhra Pradesh            1952    27/03/1930      01/07/1952   01AP004800   \n",
       "2           Bihar            1952    06/05/1930      01/07/1952   01BH005400   \n",
       "3           Bihar            1952    07/07/1930      01/07/1952   01BH005600   \n",
       "4         Gujarat            1952    23/02/1930      01/07/1952   01GJ003000   \n",
       "\n",
       "  Source of Recruitment Gender  ... Qualification/University/Institute  \\\n",
       "0    Direct Recruitment   Male  ...                           Graduate   \n",
       "1    Direct Recruitment   Male  ...                      Graduate|P.G.   \n",
       "2    Direct Recruitment   Male  ...                      Graduate|P.G.   \n",
       "3    Direct Recruitment   Male  ...                      Graduate|P.G.   \n",
       "4    Direct Recruitment   Male  ...                      Graduate|P.G.   \n",
       "\n",
       "                  Subject       Division  \\\n",
       "0                  Botany       Ordinary   \n",
       "1     Chemistry|Chemistry    First|First   \n",
       "2  Mathematics|Statistics    First|First   \n",
       "3     Physics|Mathematics    First|First   \n",
       "4     Economics|Economics  Second|Second   \n",
       "\n",
       "                                   Designation/Level  \\\n",
       "0  N.A./Secretary|OSD to Minister/Secretary|Secre...   \n",
       "1  N.A./Secretary|Secretary/Secretary Equivalent|...   \n",
       "2  N.A./Secretary|N.A./Additional Secretary|Commi...   \n",
       "3  OSD to Minister/Secretary Equivalent|Chairman/...   \n",
       "4  Managing Director/Secretary|Chief Secy/Secreta...   \n",
       "\n",
       "                 Ministry/Department/Office/Location  \\\n",
       "0  P M O|Cabinet Sectt|M/o Labour & Rehabilitatio...   \n",
       "1  |M/o Home Affairs/D/o Home/Commission on Centr...   \n",
       "2                                     |||||||Saran||   \n",
       "3  M/o Home Affairs/D/o Home|Cabinet Sectt|||M/o ...   \n",
       "4                        |||Planning Commission|||||   \n",
       "\n",
       "                                        Organisation  \\\n",
       "0  Centre|Centre|Centre|Centre|Cadre (AIS)|Cadre ...   \n",
       "1  Cadre (Inter-Cadre Deputation)|Centre|Cadre (A...   \n",
       "2  Cadre (AIS)|Cadre (AIS)|Cadre (AIS)|Cadre (AIS...   \n",
       "3  Centre|Centre|Cadre (AIS)|Cadre (AIS)|Centre|C...   \n",
       "4  Cadre (AIS)|Cadre (AIS)|Cadre (AIS)|Centre|Cad...   \n",
       "\n",
       "                             Experience(major/minor)  \\\n",
       "0  General Administration / Personnel and General...   \n",
       "1  Personnel Mgmt / Personnel and General Adminis...   \n",
       "2  Planning / Planning & Prog Implementation|Deve...   \n",
       "3  Home / Home|Internal Security / Home|General A...   \n",
       "4  Corporate Management (New) / Corporate Managem...   \n",
       "\n",
       "                                     Period(From/To) Dataset name Clean Ids  \n",
       "0  01/03/1989 - 01/12/1990|01/08/1986 - 01/08/198...      Supremo  MH006800  \n",
       "1  01/04/1988 - 01/01/1989|07/05/1984 - 14/02/198...      Supremo  AP004800  \n",
       "2  01/08/1984 - 31/05/1988|01/08/1981 - 01/07/198...      Supremo  BH005400  \n",
       "3  01/12/1987 - 01/07/1988|01/08/1983 - 01/07/198...      Supremo  BH005600  \n",
       "4  01/08/1987 - 01/02/1988|01/12/1984 - 01/07/198...      Supremo  GJ003000  \n",
       "\n",
       "[5 rows x 24 columns]"
      ],
      "text/html": "<div>\n<style scoped>\n    .dataframe tbody tr th:only-of-type {\n        vertical-align: middle;\n    }\n\n    .dataframe tbody tr th {\n        vertical-align: top;\n    }\n\n    .dataframe thead th {\n        text-align: right;\n    }\n</style>\n<table border=\"1\" class=\"dataframe\">\n  <thead>\n    <tr style=\"text-align: right;\">\n      <th></th>\n      <th>Unnamed: 0</th>\n      <th>Name</th>\n      <th>Service</th>\n      <th>Cadre</th>\n      <th>Allotment Year</th>\n      <th>Date of Birth</th>\n      <th>Date of Joining</th>\n      <th>Identity No.</th>\n      <th>Source of Recruitment</th>\n      <th>Gender</th>\n      <th>...</th>\n      <th>Qualification/University/Institute</th>\n      <th>Subject</th>\n      <th>Division</th>\n      <th>Designation/Level</th>\n      <th>Ministry/Department/Office/Location</th>\n      <th>Organisation</th>\n      <th>Experience(major/minor)</th>\n      <th>Period(From/To)</th>\n      <th>Dataset name</th>\n      <th>Clean Ids</th>\n    </tr>\n  </thead>\n  <tbody>\n    <tr>\n      <th>0</th>\n      <td>0</td>\n      <td>Shri B G Deshmukh</td>\n      <td>Indian Administrative Service</td>\n      <td>Maharashtra</td>\n      <td>1951</td>\n      <td>26/03/1929</td>\n      <td>01/07/1951</td>\n      <td>02MH006800</td>\n      <td>Direct Recruitment</td>\n      <td>Male</td>\n      <td>...</td>\n      <td>Graduate</td>\n      <td>Botany</td>\n      <td>Ordinary</td>\n      <td>N.A./Secretary|OSD to Minister/Secretary|Secre...</td>\n      <td>P M O|Cabinet Sectt|M/o Labour &amp; Rehabilitatio...</td>\n      <td>Centre|Centre|Centre|Centre|Cadre (AIS)|Cadre ...</td>\n      <td>General Administration / Personnel and General...</td>\n      <td>01/03/1989 - 01/12/1990|01/08/1986 - 01/08/198...</td>\n      <td>Supremo</td>\n      <td>MH006800</td>\n    </tr>\n    <tr>\n      <th>1</th>\n      <td>1</td>\n      <td>Shri Gv Ramakrishna</td>\n      <td>Indian Administrative Service</td>\n      <td>Andhra Pradesh</td>\n      <td>1952</td>\n      <td>27/03/1930</td>\n      <td>01/07/1952</td>\n      <td>01AP004800</td>\n      <td>Direct Recruitment</td>\n      <td>Male</td>\n      <td>...</td>\n      <td>Graduate|P.G.</td>\n      <td>Chemistry|Chemistry</td>\n      <td>First|First</td>\n      <td>N.A./Secretary|Secretary/Secretary Equivalent|...</td>\n      <td>|M/o Home Affairs/D/o Home/Commission on Centr...</td>\n      <td>Cadre (Inter-Cadre Deputation)|Centre|Cadre (A...</td>\n      <td>Personnel Mgmt / Personnel and General Adminis...</td>\n      <td>01/04/1988 - 01/01/1989|07/05/1984 - 14/02/198...</td>\n      <td>Supremo</td>\n      <td>AP004800</td>\n    </tr>\n    <tr>\n      <th>2</th>\n      <td>2</td>\n      <td>Shri N Nagamani</td>\n      <td>Indian Administrative Service</td>\n      <td>Bihar</td>\n      <td>1952</td>\n      <td>06/05/1930</td>\n      <td>01/07/1952</td>\n      <td>01BH005400</td>\n      <td>Direct Recruitment</td>\n      <td>Male</td>\n      <td>...</td>\n      <td>Graduate|P.G.</td>\n      <td>Mathematics|Statistics</td>\n      <td>First|First</td>\n      <td>N.A./Secretary|N.A./Additional Secretary|Commi...</td>\n      <td>|||||||Saran||</td>\n      <td>Cadre (AIS)|Cadre (AIS)|Cadre (AIS)|Cadre (AIS...</td>\n      <td>Planning / Planning &amp; Prog Implementation|Deve...</td>\n      <td>01/08/1984 - 31/05/1988|01/08/1981 - 01/07/198...</td>\n      <td>Supremo</td>\n      <td>BH005400</td>\n    </tr>\n    <tr>\n      <th>3</th>\n      <td>3</td>\n      <td>Shri Pp Nayyar</td>\n      <td>Indian Administrative Service</td>\n      <td>Bihar</td>\n      <td>1952</td>\n      <td>07/07/1930</td>\n      <td>01/07/1952</td>\n      <td>01BH005600</td>\n      <td>Direct Recruitment</td>\n      <td>Male</td>\n      <td>...</td>\n      <td>Graduate|P.G.</td>\n      <td>Physics|Mathematics</td>\n      <td>First|First</td>\n      <td>OSD to Minister/Secretary Equivalent|Chairman/...</td>\n      <td>M/o Home Affairs/D/o Home|Cabinet Sectt|||M/o ...</td>\n      <td>Centre|Centre|Cadre (AIS)|Cadre (AIS)|Centre|C...</td>\n      <td>Home / Home|Internal Security / Home|General A...</td>\n      <td>01/12/1987 - 01/07/1988|01/08/1983 - 01/07/198...</td>\n      <td>Supremo</td>\n      <td>BH005600</td>\n    </tr>\n    <tr>\n      <th>4</th>\n      <td>4</td>\n      <td>Shri M Sivagnanam</td>\n      <td>Indian Administrative Service</td>\n      <td>Gujarat</td>\n      <td>1952</td>\n      <td>23/02/1930</td>\n      <td>01/07/1952</td>\n      <td>01GJ003000</td>\n      <td>Direct Recruitment</td>\n      <td>Male</td>\n      <td>...</td>\n      <td>Graduate|P.G.</td>\n      <td>Economics|Economics</td>\n      <td>Second|Second</td>\n      <td>Managing Director/Secretary|Chief Secy/Secreta...</td>\n      <td>|||Planning Commission|||||</td>\n      <td>Cadre (AIS)|Cadre (AIS)|Cadre (AIS)|Centre|Cad...</td>\n      <td>Corporate Management (New) / Corporate Managem...</td>\n      <td>01/08/1987 - 01/02/1988|01/12/1984 - 01/07/198...</td>\n      <td>Supremo</td>\n      <td>GJ003000</td>\n    </tr>\n  </tbody>\n</table>\n<p>5 rows × 24 columns</p>\n</div>"
     },
     "metadata": {},
     "execution_count": 6
    }
   ],
   "source": [
    "dataset.head()"
   ]
  },
  {
   "cell_type": "code",
   "execution_count": 7,
   "metadata": {},
   "outputs": [],
   "source": [
    "dataset.to_csv(\"./outputs/combined/clean.csv\")"
   ]
  }
 ]
}