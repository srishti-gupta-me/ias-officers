{
 "metadata": {
  "language_info": {
   "codemirror_mode": {
    "name": "ipython",
    "version": 3
   },
   "file_extension": ".py",
   "mimetype": "text/x-python",
   "name": "python",
   "nbconvert_exporter": "python",
   "pygments_lexer": "ipython3",
   "version": "3.8.7"
  },
  "orig_nbformat": 4,
  "kernelspec": {
   "name": "python3",
   "display_name": "Python 3.8.7 64-bit"
  },
  "interpreter": {
   "hash": "94edbaacddaafd6d45ba5506bea1ce8a371c01e0c71d6cc8e1f8803236d6de55"
  }
 },
 "nbformat": 4,
 "nbformat_minor": 2,
 "cells": [
  {
   "cell_type": "code",
   "execution_count": 1,
   "metadata": {},
   "outputs": [],
   "source": [
    "import pandas as pd"
   ]
  },
  {
   "cell_type": "code",
   "execution_count": 2,
   "metadata": {},
   "outputs": [],
   "source": [
    "df = pd.read_csv(\"../datasets/combined/ias-clean-final.csv\")"
   ]
  },
  {
   "cell_type": "code",
   "execution_count": 3,
   "metadata": {},
   "outputs": [
    {
     "output_type": "execute_result",
     "data": {
      "text/plain": [
       "Index(['Name', 'Service', 'Cadre', 'Allotment Year', 'Date of Birth',\n",
       "       'Date of Joining', 'Source of Recruitment', 'Gender',\n",
       "       'Place of Domicile', 'Mother Tongue', 'Languages Known',\n",
       "       'Retirement Reason', 'Qualification/University/Institute', 'Subject',\n",
       "       'Division', 'Designation/Level', 'Ministry/Department/Office/Location',\n",
       "       'Organisation', 'Experience(major/minor)', 'Period(From/To)',\n",
       "       'Dataset name', 'Clean Ids'],\n",
       "      dtype='object')"
      ]
     },
     "metadata": {},
     "execution_count": 3
    }
   ],
   "source": [
    "df.columns"
   ]
  },
  {
   "cell_type": "code",
   "execution_count": 20,
   "metadata": {},
   "outputs": [
    {
     "output_type": "execute_result",
     "data": {
      "text/plain": [
       "'1951'"
      ]
     },
     "metadata": {},
     "execution_count": 20
    }
   ],
   "source": [
    "df[\"Date of Joining\"][0].split(\"/\")[2]"
   ]
  },
  {
   "cell_type": "code",
   "execution_count": 23,
   "metadata": {},
   "outputs": [
    {
     "output_type": "stream",
     "name": "stdout",
     "text": [
      "744\n"
     ]
    }
   ],
   "source": [
    "from collections import Counter\n",
    "descripency = []\n",
    "for i in range(len(df.index)):\n",
    "    row = df.loc[i]\n",
    "    to_add = False\n",
    "    if (row[\"Date of Joining\"] == \"N.A.\"): break\n",
    "    if row[\"Date of Joining\"].split(\"/\")[2] != str(row[\"Allotment Year\"]):\n",
    "        descripency.append(row)\n",
    "        print(i)"
   ]
  },
  {
   "cell_type": "code",
   "execution_count": 22,
   "metadata": {},
   "outputs": [
    {
     "output_type": "execute_result",
     "data": {
      "text/plain": [
       "[Name                                                                Shri Mithilesh Kumar\n",
       " Service                                                   Indian Administrative Services\n",
       " Cadre                                                                         Jharkhand \n",
       " Allotment Year                                                                      1966\n",
       " Date of Birth                                                                 01/01/1943\n",
       " Date of Joining                                                               01/07/1974\n",
       " Source of Recruitment                                                       By Selection\n",
       " Gender                                                                              Male\n",
       " Place of Domicile                                                                  Bihar\n",
       " Mother Tongue                                                                      Hindi\n",
       " Languages Known                                                    Bengali English Hindi\n",
       " Retirement Reason                                                          Superannuated\n",
       " Qualification/University/Institute                       Certificate|Graduate|LL.B.|P.G.\n",
       " Subject                                     Mining.Engg.|Mining.Engg.|Law|Business Admn.\n",
       " Division                                                      First|First|First|Ordinary\n",
       " Designation/Level                      N.A./Joint Secretary|Secretary/Joint Secretary...\n",
       " Ministry/Department/Office/Location                                       Bihar|||||||||\n",
       " Organisation                           Cadre (Inter-Cadre Deputation)|Cadre (AIS)|Cad...\n",
       " Experience(major/minor)                General Administration / Personnel and General...\n",
       " Period(From/To)                        14/11/2000 - 31/12/2002|01/05/1997 - 31/08/199...\n",
       " Dataset name                                                                     Supremo\n",
       " Clean Ids                                                                       JH021510\n",
       " Name: 744, dtype: object]"
      ]
     },
     "metadata": {},
     "execution_count": 22
    }
   ],
   "source": [
    "descripency"
   ]
  },
  {
   "cell_type": "code",
   "execution_count": null,
   "metadata": {},
   "outputs": [],
   "source": []
  }
 ]
}