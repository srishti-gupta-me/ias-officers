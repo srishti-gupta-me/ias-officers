{
 "metadata": {
  "language_info": {
   "codemirror_mode": {
    "name": "ipython",
    "version": 3
   },
   "file_extension": ".py",
   "mimetype": "text/x-python",
   "name": "python",
   "nbconvert_exporter": "python",
   "pygments_lexer": "ipython3",
   "version": "3.8.7"
  },
  "orig_nbformat": 4,
  "kernelspec": {
   "name": "python3",
   "display_name": "Python 3.8.7 64-bit"
  },
  "interpreter": {
   "hash": "94edbaacddaafd6d45ba5506bea1ce8a371c01e0c71d6cc8e1f8803236d6de55"
  }
 },
 "nbformat": 4,
 "nbformat_minor": 2,
 "cells": [
  {
   "cell_type": "code",
   "execution_count": 1,
   "metadata": {},
   "outputs": [],
   "source": [
    "import pandas as pd"
   ]
  },
  {
   "cell_type": "code",
   "execution_count": 2,
   "metadata": {},
   "outputs": [],
   "source": [
    "df = pd.read_csv(\"./outputs/combined/ias-clean.csv\")\n",
    "# df = df.drop(columns=[\"Unnamed 0:\"])"
   ]
  },
  {
   "cell_type": "code",
   "execution_count": 3,
   "metadata": {},
   "outputs": [
    {
     "output_type": "execute_result",
     "data": {
      "text/plain": [
       "                                    Name                         Service  \\\n",
       "0                      Shri B G Deshmukh  Indian Administrative Services   \n",
       "1                    Shri Gv Ramakrishna  Indian Administrative Services   \n",
       "2                        Shri N Nagamani  Indian Administrative Services   \n",
       "3                         Shri Pp Nayyar  Indian Administrative Services   \n",
       "4                      Shri M Sivagnanam  Indian Administrative Services   \n",
       "...                                  ...                             ...   \n",
       "14892                  Ms. Tamil Oviya S  Indian Administrative Services   \n",
       "14893                     Ms. Renu Sogan  Indian Administrative Services   \n",
       "14894             Shri Anuj Pratap Singh  Indian Administrative Services   \n",
       "14895                 Ms. Priyanka Singh  Indian Administrative Services   \n",
       "14896  Ms. Wankhede Archana Pandharinath  Indian Administrative Services   \n",
       "\n",
       "                 Cadre Allotment Year Date of Birth Date of Joining  \\\n",
       "0         Maharashtra            1951    26/03/1929      01/07/1951   \n",
       "1      Andhra Pradesh            1952    27/03/1930      01/07/1952   \n",
       "2               Bihar            1952    06/05/1930      01/07/1952   \n",
       "3               Bihar            1952    07/07/1930      01/07/1952   \n",
       "4             Gujarat            1952    23/02/1930      01/07/1952   \n",
       "...                ...            ...           ...             ...   \n",
       "14892      West Bengal           2019    26-09-1993      01-09-2019   \n",
       "14893      West Bengal           2019    21-03-1994      01-09-2019   \n",
       "14894      West Bengal           2019    30-03-1991      01-09-2019   \n",
       "14895      West Bengal           2019    25-03-1992      01-09-2019   \n",
       "14896      West Bengal           2019    09-01-1983      01-09-2019   \n",
       "\n",
       "      Identity No. Source of Recruitment Gender Place of Domicile  ...  \\\n",
       "0       02MH006800    Direct Recruitment   Male       Maharashtra  ...   \n",
       "1       01AP004800    Direct Recruitment   Male         Karnataka  ...   \n",
       "2       01BH005400    Direct Recruitment   Male        Tamil Nadu  ...   \n",
       "3       01BH005600    Direct Recruitment   Male     Uttar Pradesh  ...   \n",
       "4       01GJ003000    Direct Recruitment   Male        Tamil Nadu  ...   \n",
       "...            ...                   ...    ...               ...  ...   \n",
       "14892     WB118X08                    RR   N.A.        Tamil Nadu  ...   \n",
       "14893     WB118X09                    RR   N.A.         Rajasthan  ...   \n",
       "14894     WB118X10                    RR   N.A.     Uttar Pradesh  ...   \n",
       "14895     WB118X11                    RR   N.A.     Uttar Pradesh  ...   \n",
       "14896     WB118X12                    RR   N.A.       Maharashtra  ...   \n",
       "\n",
       "      Qualification/University/Institute                 Subject  \\\n",
       "0                               Graduate                  Botany   \n",
       "1                          Graduate|P.G.     Chemistry|Chemistry   \n",
       "2                          Graduate|P.G.  Mathematics|Statistics   \n",
       "3                          Graduate|P.G.     Physics|Mathematics   \n",
       "4                          Graduate|P.G.     Economics|Economics   \n",
       "...                                  ...                     ...   \n",
       "14892                           Graduate                    N.A.   \n",
       "14893                           Graduate                    N.A.   \n",
       "14894                           Graduate                    N.A.   \n",
       "14895                           Graduate                    N.A.   \n",
       "14896                           Graduate                    N.A.   \n",
       "\n",
       "            Division                                  Designation/Level  \\\n",
       "0           Ordinary  N.A./Secretary|OSD to Minister/Secretary|Secre...   \n",
       "1        First|First  N.A./Secretary|Secretary/Secretary Equivalent|...   \n",
       "2        First|First  N.A./Secretary|N.A./Additional Secretary|Commi...   \n",
       "3        First|First  OSD to Minister/Secretary Equivalent|Chairman/...   \n",
       "4      Second|Second  Managing Director/Secretary|Chief Secy/Secreta...   \n",
       "...              ...                                                ...   \n",
       "14892           N.A.                                              N.A.    \n",
       "14893           N.A.                                              N.A.    \n",
       "14894           N.A.                                              N.A.    \n",
       "14895           N.A.                                              N.A.    \n",
       "14896           N.A.                                              N.A.    \n",
       "\n",
       "                     Ministry/Department/Office/Location  \\\n",
       "0      P M O|Cabinet Sectt|M/o Labour & Rehabilitatio...   \n",
       "1      |M/o Home Affairs/D/o Home/Commission on Centr...   \n",
       "2                                         |||||||Saran||   \n",
       "3      M/o Home Affairs/D/o Home|Cabinet Sectt|||M/o ...   \n",
       "4                            |||Planning Commission|||||   \n",
       "...                                                  ...   \n",
       "14892                                              N.A.    \n",
       "14893                                              N.A.    \n",
       "14894                                              N.A.    \n",
       "14895                                              N.A.    \n",
       "14896                                              N.A.    \n",
       "\n",
       "                                            Organisation  \\\n",
       "0      Centre|Centre|Centre|Centre|Cadre (AIS)|Cadre ...   \n",
       "1      Cadre (Inter-Cadre Deputation)|Centre|Cadre (A...   \n",
       "2      Cadre (AIS)|Cadre (AIS)|Cadre (AIS)|Cadre (AIS...   \n",
       "3      Centre|Centre|Cadre (AIS)|Cadre (AIS)|Centre|C...   \n",
       "4      Cadre (AIS)|Cadre (AIS)|Cadre (AIS)|Centre|Cad...   \n",
       "...                                                  ...   \n",
       "14892                                               N.A.   \n",
       "14893                                               N.A.   \n",
       "14894                                               N.A.   \n",
       "14895                                               N.A.   \n",
       "14896                                               N.A.   \n",
       "\n",
       "                                 Experience(major/minor)  \\\n",
       "0      General Administration / Personnel and General...   \n",
       "1      Personnel Mgmt / Personnel and General Adminis...   \n",
       "2      Planning / Planning & Prog Implementation|Deve...   \n",
       "3      Home / Home|Internal Security / Home|General A...   \n",
       "4      Corporate Management (New) / Corporate Managem...   \n",
       "...                                                  ...   \n",
       "14892                                               N.A.   \n",
       "14893                                               N.A.   \n",
       "14894                                               N.A.   \n",
       "14895                                               N.A.   \n",
       "14896                                               N.A.   \n",
       "\n",
       "                                         Period(From/To)   Dataset name  \\\n",
       "0      01/03/1989 - 01/12/1990|01/08/1986 - 01/08/198...        Supremo   \n",
       "1      01/04/1988 - 01/01/1989|07/05/1984 - 14/02/198...        Supremo   \n",
       "2      01/08/1984 - 31/05/1988|01/08/1981 - 01/07/198...        Supremo   \n",
       "3      01/12/1987 - 01/07/1988|01/08/1983 - 01/07/198...        Supremo   \n",
       "4      01/08/1987 - 01/02/1988|01/12/1984 - 01/07/198...        Supremo   \n",
       "...                                                  ...            ...   \n",
       "14892                                         01-09-2018  DOPT(easynic)   \n",
       "14893                                         01-09-2018  DOPT(easynic)   \n",
       "14894                                         01-09-2018  DOPT(easynic)   \n",
       "14895                                         01-09-2018  DOPT(easynic)   \n",
       "14896                                         01-09-2018  DOPT(easynic)   \n",
       "\n",
       "      Clean Ids  \n",
       "0      MH006800  \n",
       "1      AP004800  \n",
       "2      BH005400  \n",
       "3      BH005600  \n",
       "4      GJ003000  \n",
       "...         ...  \n",
       "14892  WB118X08  \n",
       "14893  WB118X09  \n",
       "14894  WB118X10  \n",
       "14895  WB118X11  \n",
       "14896  WB118X12  \n",
       "\n",
       "[14897 rows x 23 columns]"
      ],
      "text/html": "<div>\n<style scoped>\n    .dataframe tbody tr th:only-of-type {\n        vertical-align: middle;\n    }\n\n    .dataframe tbody tr th {\n        vertical-align: top;\n    }\n\n    .dataframe thead th {\n        text-align: right;\n    }\n</style>\n<table border=\"1\" class=\"dataframe\">\n  <thead>\n    <tr style=\"text-align: right;\">\n      <th></th>\n      <th>Name</th>\n      <th>Service</th>\n      <th>Cadre</th>\n      <th>Allotment Year</th>\n      <th>Date of Birth</th>\n      <th>Date of Joining</th>\n      <th>Identity No.</th>\n      <th>Source of Recruitment</th>\n      <th>Gender</th>\n      <th>Place of Domicile</th>\n      <th>...</th>\n      <th>Qualification/University/Institute</th>\n      <th>Subject</th>\n      <th>Division</th>\n      <th>Designation/Level</th>\n      <th>Ministry/Department/Office/Location</th>\n      <th>Organisation</th>\n      <th>Experience(major/minor)</th>\n      <th>Period(From/To)</th>\n      <th>Dataset name</th>\n      <th>Clean Ids</th>\n    </tr>\n  </thead>\n  <tbody>\n    <tr>\n      <th>0</th>\n      <td>Shri B G Deshmukh</td>\n      <td>Indian Administrative Services</td>\n      <td>Maharashtra</td>\n      <td>1951</td>\n      <td>26/03/1929</td>\n      <td>01/07/1951</td>\n      <td>02MH006800</td>\n      <td>Direct Recruitment</td>\n      <td>Male</td>\n      <td>Maharashtra</td>\n      <td>...</td>\n      <td>Graduate</td>\n      <td>Botany</td>\n      <td>Ordinary</td>\n      <td>N.A./Secretary|OSD to Minister/Secretary|Secre...</td>\n      <td>P M O|Cabinet Sectt|M/o Labour &amp; Rehabilitatio...</td>\n      <td>Centre|Centre|Centre|Centre|Cadre (AIS)|Cadre ...</td>\n      <td>General Administration / Personnel and General...</td>\n      <td>01/03/1989 - 01/12/1990|01/08/1986 - 01/08/198...</td>\n      <td>Supremo</td>\n      <td>MH006800</td>\n    </tr>\n    <tr>\n      <th>1</th>\n      <td>Shri Gv Ramakrishna</td>\n      <td>Indian Administrative Services</td>\n      <td>Andhra Pradesh</td>\n      <td>1952</td>\n      <td>27/03/1930</td>\n      <td>01/07/1952</td>\n      <td>01AP004800</td>\n      <td>Direct Recruitment</td>\n      <td>Male</td>\n      <td>Karnataka</td>\n      <td>...</td>\n      <td>Graduate|P.G.</td>\n      <td>Chemistry|Chemistry</td>\n      <td>First|First</td>\n      <td>N.A./Secretary|Secretary/Secretary Equivalent|...</td>\n      <td>|M/o Home Affairs/D/o Home/Commission on Centr...</td>\n      <td>Cadre (Inter-Cadre Deputation)|Centre|Cadre (A...</td>\n      <td>Personnel Mgmt / Personnel and General Adminis...</td>\n      <td>01/04/1988 - 01/01/1989|07/05/1984 - 14/02/198...</td>\n      <td>Supremo</td>\n      <td>AP004800</td>\n    </tr>\n    <tr>\n      <th>2</th>\n      <td>Shri N Nagamani</td>\n      <td>Indian Administrative Services</td>\n      <td>Bihar</td>\n      <td>1952</td>\n      <td>06/05/1930</td>\n      <td>01/07/1952</td>\n      <td>01BH005400</td>\n      <td>Direct Recruitment</td>\n      <td>Male</td>\n      <td>Tamil Nadu</td>\n      <td>...</td>\n      <td>Graduate|P.G.</td>\n      <td>Mathematics|Statistics</td>\n      <td>First|First</td>\n      <td>N.A./Secretary|N.A./Additional Secretary|Commi...</td>\n      <td>|||||||Saran||</td>\n      <td>Cadre (AIS)|Cadre (AIS)|Cadre (AIS)|Cadre (AIS...</td>\n      <td>Planning / Planning &amp; Prog Implementation|Deve...</td>\n      <td>01/08/1984 - 31/05/1988|01/08/1981 - 01/07/198...</td>\n      <td>Supremo</td>\n      <td>BH005400</td>\n    </tr>\n    <tr>\n      <th>3</th>\n      <td>Shri Pp Nayyar</td>\n      <td>Indian Administrative Services</td>\n      <td>Bihar</td>\n      <td>1952</td>\n      <td>07/07/1930</td>\n      <td>01/07/1952</td>\n      <td>01BH005600</td>\n      <td>Direct Recruitment</td>\n      <td>Male</td>\n      <td>Uttar Pradesh</td>\n      <td>...</td>\n      <td>Graduate|P.G.</td>\n      <td>Physics|Mathematics</td>\n      <td>First|First</td>\n      <td>OSD to Minister/Secretary Equivalent|Chairman/...</td>\n      <td>M/o Home Affairs/D/o Home|Cabinet Sectt|||M/o ...</td>\n      <td>Centre|Centre|Cadre (AIS)|Cadre (AIS)|Centre|C...</td>\n      <td>Home / Home|Internal Security / Home|General A...</td>\n      <td>01/12/1987 - 01/07/1988|01/08/1983 - 01/07/198...</td>\n      <td>Supremo</td>\n      <td>BH005600</td>\n    </tr>\n    <tr>\n      <th>4</th>\n      <td>Shri M Sivagnanam</td>\n      <td>Indian Administrative Services</td>\n      <td>Gujarat</td>\n      <td>1952</td>\n      <td>23/02/1930</td>\n      <td>01/07/1952</td>\n      <td>01GJ003000</td>\n      <td>Direct Recruitment</td>\n      <td>Male</td>\n      <td>Tamil Nadu</td>\n      <td>...</td>\n      <td>Graduate|P.G.</td>\n      <td>Economics|Economics</td>\n      <td>Second|Second</td>\n      <td>Managing Director/Secretary|Chief Secy/Secreta...</td>\n      <td>|||Planning Commission|||||</td>\n      <td>Cadre (AIS)|Cadre (AIS)|Cadre (AIS)|Centre|Cad...</td>\n      <td>Corporate Management (New) / Corporate Managem...</td>\n      <td>01/08/1987 - 01/02/1988|01/12/1984 - 01/07/198...</td>\n      <td>Supremo</td>\n      <td>GJ003000</td>\n    </tr>\n    <tr>\n      <th>...</th>\n      <td>...</td>\n      <td>...</td>\n      <td>...</td>\n      <td>...</td>\n      <td>...</td>\n      <td>...</td>\n      <td>...</td>\n      <td>...</td>\n      <td>...</td>\n      <td>...</td>\n      <td>...</td>\n      <td>...</td>\n      <td>...</td>\n      <td>...</td>\n      <td>...</td>\n      <td>...</td>\n      <td>...</td>\n      <td>...</td>\n      <td>...</td>\n      <td>...</td>\n      <td>...</td>\n    </tr>\n    <tr>\n      <th>14892</th>\n      <td>Ms. Tamil Oviya S</td>\n      <td>Indian Administrative Services</td>\n      <td>West Bengal</td>\n      <td>2019</td>\n      <td>26-09-1993</td>\n      <td>01-09-2019</td>\n      <td>WB118X08</td>\n      <td>RR</td>\n      <td>N.A.</td>\n      <td>Tamil Nadu</td>\n      <td>...</td>\n      <td>Graduate</td>\n      <td>N.A.</td>\n      <td>N.A.</td>\n      <td>N.A.</td>\n      <td>N.A.</td>\n      <td>N.A.</td>\n      <td>N.A.</td>\n      <td>01-09-2018</td>\n      <td>DOPT(easynic)</td>\n      <td>WB118X08</td>\n    </tr>\n    <tr>\n      <th>14893</th>\n      <td>Ms. Renu Sogan</td>\n      <td>Indian Administrative Services</td>\n      <td>West Bengal</td>\n      <td>2019</td>\n      <td>21-03-1994</td>\n      <td>01-09-2019</td>\n      <td>WB118X09</td>\n      <td>RR</td>\n      <td>N.A.</td>\n      <td>Rajasthan</td>\n      <td>...</td>\n      <td>Graduate</td>\n      <td>N.A.</td>\n      <td>N.A.</td>\n      <td>N.A.</td>\n      <td>N.A.</td>\n      <td>N.A.</td>\n      <td>N.A.</td>\n      <td>01-09-2018</td>\n      <td>DOPT(easynic)</td>\n      <td>WB118X09</td>\n    </tr>\n    <tr>\n      <th>14894</th>\n      <td>Shri Anuj Pratap Singh</td>\n      <td>Indian Administrative Services</td>\n      <td>West Bengal</td>\n      <td>2019</td>\n      <td>30-03-1991</td>\n      <td>01-09-2019</td>\n      <td>WB118X10</td>\n      <td>RR</td>\n      <td>N.A.</td>\n      <td>Uttar Pradesh</td>\n      <td>...</td>\n      <td>Graduate</td>\n      <td>N.A.</td>\n      <td>N.A.</td>\n      <td>N.A.</td>\n      <td>N.A.</td>\n      <td>N.A.</td>\n      <td>N.A.</td>\n      <td>01-09-2018</td>\n      <td>DOPT(easynic)</td>\n      <td>WB118X10</td>\n    </tr>\n    <tr>\n      <th>14895</th>\n      <td>Ms. Priyanka Singh</td>\n      <td>Indian Administrative Services</td>\n      <td>West Bengal</td>\n      <td>2019</td>\n      <td>25-03-1992</td>\n      <td>01-09-2019</td>\n      <td>WB118X11</td>\n      <td>RR</td>\n      <td>N.A.</td>\n      <td>Uttar Pradesh</td>\n      <td>...</td>\n      <td>Graduate</td>\n      <td>N.A.</td>\n      <td>N.A.</td>\n      <td>N.A.</td>\n      <td>N.A.</td>\n      <td>N.A.</td>\n      <td>N.A.</td>\n      <td>01-09-2018</td>\n      <td>DOPT(easynic)</td>\n      <td>WB118X11</td>\n    </tr>\n    <tr>\n      <th>14896</th>\n      <td>Ms. Wankhede Archana Pandharinath</td>\n      <td>Indian Administrative Services</td>\n      <td>West Bengal</td>\n      <td>2019</td>\n      <td>09-01-1983</td>\n      <td>01-09-2019</td>\n      <td>WB118X12</td>\n      <td>RR</td>\n      <td>N.A.</td>\n      <td>Maharashtra</td>\n      <td>...</td>\n      <td>Graduate</td>\n      <td>N.A.</td>\n      <td>N.A.</td>\n      <td>N.A.</td>\n      <td>N.A.</td>\n      <td>N.A.</td>\n      <td>N.A.</td>\n      <td>01-09-2018</td>\n      <td>DOPT(easynic)</td>\n      <td>WB118X12</td>\n    </tr>\n  </tbody>\n</table>\n<p>14897 rows × 23 columns</p>\n</div>"
     },
     "metadata": {},
     "execution_count": 3
    }
   ],
   "source": [
    "df"
   ]
  },
  {
   "cell_type": "code",
   "execution_count": 4,
   "metadata": {},
   "outputs": [],
   "source": [
    "for column_name in df.columns:\n",
    "    for i in df.index:\n",
    "        if df[column_name][i] == \"Not Found\" or df[column_name][i] == \"N.A./Not Available\" or df[column_name][i] == \"Not Available\"  or df[column_name][i] == \"N. A.\" or str(df[column_name][i]) == \"nan\":\n",
    "            df[column_name][i] = \"N.A.\""
   ]
  },
  {
   "cell_type": "code",
   "execution_count": 5,
   "metadata": {},
   "outputs": [],
   "source": [
    "for i,value in enumerate(df[\"Identity No.\"]):\n",
    "    if str(value) == \"nan\":\n",
    "        print(i)"
   ]
  },
  {
   "cell_type": "code",
   "execution_count": 6,
   "metadata": {},
   "outputs": [],
   "source": [
    "id_values = df[\"Clean Ids\"].values"
   ]
  },
  {
   "cell_type": "code",
   "execution_count": 7,
   "metadata": {},
   "outputs": [],
   "source": [
    "from collections import Counter\n",
    "id_counter = Counter(id_values)"
   ]
  },
  {
   "cell_type": "code",
   "execution_count": 8,
   "metadata": {
    "tags": []
   },
   "outputs": [],
   "source": [
    "repeats = [item for item, count in id_counter.items() if count > 2 and not item == \"N.A.\"]"
   ]
  },
  {
   "cell_type": "code",
   "execution_count": 9,
   "metadata": {},
   "outputs": [],
   "source": [
    "repeats_df = pd.DataFrame(columns=df.columns)\n",
    "for id_value in repeats:\n",
    "    rows = df.loc[df[\"Clean Ids\"] == id_value]\n",
    "    repeats_df = repeats_df.append(rows, ignore_index=True)"
   ]
  },
  {
   "cell_type": "code",
   "execution_count": 10,
   "metadata": {},
   "outputs": [],
   "source": [
    "repeats_df.to_csv(\"repeats.csv\", index=False)"
   ]
  },
  {
   "cell_type": "code",
   "execution_count": 10,
   "metadata": {},
   "outputs": [],
   "source": [
    "education_columns = [\"Qualification/University/Institute\", \"Subject\", \"Division\"]\n",
    "background_columns = [\"Designation/Level\", \"Ministry/Department/Office/Location\" ,\"Organisation\", \"Experience(major/minor)\", \"Period(From/To)\"]"
   ]
  },
  {
   "cell_type": "code",
   "execution_count": 11,
   "metadata": {},
   "outputs": [],
   "source": [
    "rows = df.loc[df[\"Clean Ids\"] == repeats[0]]\n",
    "# rows = rows.drop(rows.loc[rows[\"Dataset name\"] == \"DOPT(easynic)\"].index)"
   ]
  },
  {
   "cell_type": "code",
   "execution_count": 12,
   "metadata": {},
   "outputs": [],
   "source": [
    "import math\n",
    "def make_verbose(start_with, done, total, max_lines=25):\n",
    "    num_lines = int((done/total)*max_lines)\n",
    "    lines = \"=\"*num_lines\n",
    "    spaces = \" \"*(max_lines-num_lines)\n",
    "    print(f\"\\r{start_with}  {lines}>{spaces}  {done}/{total}\", end=\"\", sep=\" \", flush=True)"
   ]
  },
  {
   "cell_type": "code",
   "execution_count": 13,
   "metadata": {},
   "outputs": [],
   "source": [
    "# check education\n",
    "def combine_rows(rows):\n",
    "    my_dict = {}\n",
    "    if len(rows.index) > 1:\n",
    "        rows = rows.drop(rows.loc[rows[\"Dataset name\"] == \"DOPT(easynic)\"].index)\n",
    "        if len(rows.index) > 1:\n",
    "            if not rows[\"Name\"].values[0] == rows[\"Name\"].values[1]:\n",
    "                return rows\n",
    "            for column in rows.columns:\n",
    "                selector = 0\n",
    "                if (str(column) in education_columns or str(column) in background_columns):\n",
    "                    if len(str(rows.iloc[0][column])) <= len(str(rows.iloc[1][column])):\n",
    "                        selector = 1\n",
    "\n",
    "                my_dict[column] = str(rows.iloc[selector][column]).replace(\"-\", \"/\")\n",
    "        else:\n",
    "            index = rows.index[0]\n",
    "            my_dict = dict(rows.loc[index])\n",
    "    else:\n",
    "        index = rows.index[0]\n",
    "        my_dict = dict(rows.loc[index])\n",
    "    return my_dict"
   ]
  },
  {
   "cell_type": "code",
   "execution_count": 16,
   "metadata": {},
   "outputs": [
    {
     "output_type": "execute_result",
     "data": {
      "text/plain": [
       "                       Name                         Service       Cadre  \\\n",
       "0  Shri Rajeev Singh Thakur  Indian Administrative Services  Rajasthan    \n",
       "\n",
       "  Allotment Year Date of Birth Date of Joining Identity No.  \\\n",
       "0           1995    29/06/1969      03/09/1995   01RJ029800   \n",
       "\n",
       "  Source of Recruitment Gender Place of Domicile  ...  \\\n",
       "0    Direct Recruitment   Male    Madhya Pradesh  ...   \n",
       "\n",
       "                  Qualification/University/Institute            Subject  \\\n",
       "0  M.A./BARKATULLAH UNIVERSITY BHOPAL BHOPAL/Cent...  Physics|Economics   \n",
       "\n",
       "       Division                                  Designation/Level  \\\n",
       "0  Second|First  Joint Secretary/Joint Secretary|Secretary to G...   \n",
       "\n",
       "                 Ministry/Department/Office/Location  \\\n",
       "0  M/o Defence/Department of Military Affairs/New...   \n",
       "\n",
       "                                        Organisation  \\\n",
       "0  Centre|Cadre (AIS)|Centre|Centre|Cadre (AIS)|C...   \n",
       "\n",
       "                             Experience(major/minor)  \\\n",
       "0  Defence / Defence|Consumer Affairs / Consumer ...   \n",
       "\n",
       "                                     Period(From/To) Dataset name Clean Ids  \n",
       "0  29/01/2020 / 03/12/2022|08/05/2017 / 03/12/201...      Supremo  RJ029800  \n",
       "\n",
       "[1 rows x 23 columns]"
      ],
      "text/html": "<div>\n<style scoped>\n    .dataframe tbody tr th:only-of-type {\n        vertical-align: middle;\n    }\n\n    .dataframe tbody tr th {\n        vertical-align: top;\n    }\n\n    .dataframe thead th {\n        text-align: right;\n    }\n</style>\n<table border=\"1\" class=\"dataframe\">\n  <thead>\n    <tr style=\"text-align: right;\">\n      <th></th>\n      <th>Name</th>\n      <th>Service</th>\n      <th>Cadre</th>\n      <th>Allotment Year</th>\n      <th>Date of Birth</th>\n      <th>Date of Joining</th>\n      <th>Identity No.</th>\n      <th>Source of Recruitment</th>\n      <th>Gender</th>\n      <th>Place of Domicile</th>\n      <th>...</th>\n      <th>Qualification/University/Institute</th>\n      <th>Subject</th>\n      <th>Division</th>\n      <th>Designation/Level</th>\n      <th>Ministry/Department/Office/Location</th>\n      <th>Organisation</th>\n      <th>Experience(major/minor)</th>\n      <th>Period(From/To)</th>\n      <th>Dataset name</th>\n      <th>Clean Ids</th>\n    </tr>\n  </thead>\n  <tbody>\n    <tr>\n      <th>0</th>\n      <td>Shri Rajeev Singh Thakur</td>\n      <td>Indian Administrative Services</td>\n      <td>Rajasthan</td>\n      <td>1995</td>\n      <td>29/06/1969</td>\n      <td>03/09/1995</td>\n      <td>01RJ029800</td>\n      <td>Direct Recruitment</td>\n      <td>Male</td>\n      <td>Madhya Pradesh</td>\n      <td>...</td>\n      <td>M.A./BARKATULLAH UNIVERSITY BHOPAL BHOPAL/Cent...</td>\n      <td>Physics|Economics</td>\n      <td>Second|First</td>\n      <td>Joint Secretary/Joint Secretary|Secretary to G...</td>\n      <td>M/o Defence/Department of Military Affairs/New...</td>\n      <td>Centre|Cadre (AIS)|Centre|Centre|Cadre (AIS)|C...</td>\n      <td>Defence / Defence|Consumer Affairs / Consumer ...</td>\n      <td>29/01/2020 / 03/12/2022|08/05/2017 / 03/12/201...</td>\n      <td>Supremo</td>\n      <td>RJ029800</td>\n    </tr>\n  </tbody>\n</table>\n<p>1 rows × 23 columns</p>\n</div>"
     },
     "metadata": {},
     "execution_count": 16
    }
   ],
   "source": [
    "pd.DataFrame(combine_rows(df.loc[df[\"Clean Ids\"] == \"RJ029800\"]), index=[0])"
   ]
  },
  {
   "cell_type": "code",
   "execution_count": 15,
   "metadata": {},
   "outputs": [
    {
     "output_type": "execute_result",
     "data": {
      "text/plain": [
       "{'Name': 'Shri Rajiv Gauba',\n",
       " 'Service': 'Indian Administrative Services',\n",
       " 'Cadre': 'Jharkhand ',\n",
       " 'Allotment Year': '1982',\n",
       " 'Date of Birth': '15/08/1959',\n",
       " 'Date of Joining': '01/09/1982',\n",
       " 'Identity No.': '01JH033100',\n",
       " 'Source of Recruitment': 'Direct Recruitment',\n",
       " 'Gender': 'Male',\n",
       " 'Place of Domicile': 'Bihar',\n",
       " 'Mother Tongue': 'Punjabi',\n",
       " 'Languages Known': 'English Hindi',\n",
       " 'Retirement Reason': 'Serving',\n",
       " 'Qualification/University/Institute': 'Graduate',\n",
       " 'Subject': 'Physics',\n",
       " 'Division': 'First',\n",
       " 'Designation/Level': 'Cabinet Secretary/Cabinet Secretary|Secretary/Secretary|Secretary/Secretary|N.A./Additional Secretary|Additional Secy/Additional Secretary|Resident Commissioner/Additional Secretary|N.A./Joint Secretary|On Leave/Director Equivalent|Pvt Secy/Director Equivalent|Pvt Secy/Director Equivalent|Pvt Secy/Deputy Secretary Equivalent|Collector & D M/Deputy Secretary|Collector & D M/Under Secretary|C E O/Under Secretary|Deputy Dev Commissioner/Junior Scale',\n",
       " 'Ministry/Department/Office/Location': 'Cabinet Sectt|M/o Home Affairs|M/o Information & Broadcasting||M/o Communications & Info Tech/D/o Information Tech|Jharkhand Bhavan, New Delhi|Jharkhand|M/o Defence/D/o Defence|M/o Defence/D/o Defence|M/o Non-conventional Energy Sources|M/o Environment & Forests|Muzaffarpur|Nalanda||',\n",
       " 'Organisation': 'Centre|Centre|Centre|Cadre (AIS)|Centre|Cadre (AIS)|Cadre (AIS)|Centre|Centre|Centre|Centre|Cadre (AIS)|Cadre (AIS)|Cadre (AIS)|Cadre (AIS)',\n",
       " 'Experience(major/minor)': 'Cabinet Affairs / Personnel and General Administration|Home / Home|/|/ N.Applicable/N.Available|Information Technology / Communications & Information Technology|Liaison/Protocol / Personnel and General Administration|/ N.Applicable/N.Available|Personnel Mgmt / Personnel and General Administration|Ministers Office / Staff Officers|Ministers Office / Staff Officers|Ministers Office / Staff Officers|District Admn / Land Revenue Mgmt & District Admn|District Admn / Land Revenue Mgmt & District Admn|Khadi & Village Industries / Industries|Sub Divisional Admn / Land Revenue Mgmt & District Admn',\n",
       " 'Period(From/To)': '30/08/2019 - 30/08/2021|31/08/2017 - 21/08/2019|30/08/2016 - 11/09/2016|20/01/2015 - 27/01/2015|22/08/2012 - 14/07/2014|26/05/2008 - 15/01/2009|01/05/2005 - 18/08/2005|19/09/2001 - 14/10/2001|02/04/1998 - 22/02/2000|21/02/1997 - 01/07/1997|01/06/1996 - 01/07/1996|01/06/1992 - 01/04/1995|01/12/1989 - 01/06/1991|01/05/1988 - 01/10/1988|01/09/1984 - 01/09/1986',\n",
       " 'Dataset name': 'Supremo',\n",
       " 'Clean Ids': 'JH033100'}"
      ]
     },
     "metadata": {},
     "execution_count": 15
    }
   ],
   "source": [
    "test = df.loc[df[\"Clean Ids\"] == \"JH033100\"]\n",
    "combine_rows(test)"
   ]
  },
  {
   "cell_type": "code",
   "execution_count": 16,
   "metadata": {},
   "outputs": [],
   "source": [
    "df = pd.read_csv(\"./outputs/combined/ias-clean.csv\")\n",
    "na_ids = df.loc[df[\"Clean Ids\"] == \"N.A.\"]\n",
    "discrepency = pd.DataFrame(columns=df.columns)\n",
    "df = df.drop(na_ids.index)"
   ]
  },
  {
   "cell_type": "code",
   "execution_count": 17,
   "metadata": {},
   "outputs": [
    {
     "output_type": "stream",
     "name": "stdout",
     "text": [
      "WB118X12 1  =========================>  11567/11567"
     ]
    }
   ],
   "source": [
    "id_counter = Counter(df[\"Clean Ids\"].values)\n",
    "new_df = pd.DataFrame(columns=df.columns)\n",
    "length = len(id_counter)\n",
    "for i, id_val in enumerate(id_counter):\n",
    "    make_verbose(f\"{id_val} {id_counter.get(id_val, 0)}\", i+1, length)\n",
    "    rows = df.loc[df[\"Clean Ids\"] == str(id_val)]\n",
    "    new_row = combine_rows(rows)\n",
    "    new_df = new_df.append(new_row, ignore_index=True)"
   ]
  },
  {
   "cell_type": "code",
   "execution_count": 18,
   "metadata": {},
   "outputs": [],
   "source": [
    "new_df = new_df.drop(columns=[\"Identity No.\"])"
   ]
  },
  {
   "cell_type": "code",
   "execution_count": 19,
   "metadata": {},
   "outputs": [],
   "source": [
    "new_df.to_csv(\"ias-clean-combined.csv\", index=False)"
   ]
  },
  {
   "cell_type": "code",
   "execution_count": 20,
   "metadata": {},
   "outputs": [],
   "source": [
    "year_indexes = new_df.loc[new_df[\"Allotment Year\"] == \"####\"].index"
   ]
  },
  {
   "cell_type": "code",
   "execution_count": 21,
   "metadata": {},
   "outputs": [
    {
     "output_type": "stream",
     "name": "stdout",
     "text": [
      "11166  ========================>   114/115"
     ]
    }
   ],
   "source": [
    "length = len(year_indexes)\n",
    "for counter, i in enumerate(year_indexes):\n",
    "    make_verbose(i, counter, length)\n",
    "    date_of_joining = str(new_df[\"Date of Joining\"][i])\n",
    "    year_of_joining = date_of_joining.replace(\"-\",\"/\").split(\"/\")[2]\n",
    "    new_df[\"Allotment Year\"][i] = year_of_joining"
   ]
  },
  {
   "cell_type": "code",
   "execution_count": 23,
   "metadata": {},
   "outputs": [
    {
     "output_type": "stream",
     "name": "stdout",
     "text": [
      "11568  ========================>   11568/11569"
     ]
    }
   ],
   "source": [
    "for counter, i in enumerate(new_df.index):\n",
    "    make_verbose(i, counter, len(new_df.index))\n",
    "    date_of_joining = str(new_df[\"Date of Joining\"][i])\n",
    "    date_of_birth = str(new_df[\"Date of Birth\"][i])\n",
    "    date_of_birth = date_of_birth.replace(\"-\", \"/\")\n",
    "    date_of_joining = date_of_joining.replace(\"-\", \"/\")\n",
    "    new_df[\"Date of Joining\"][i] = date_of_joining\n",
    "    new_df[\"Date of Birth\"][i] = date_of_birth"
   ]
  },
  {
   "cell_type": "code",
   "execution_count": 24,
   "metadata": {},
   "outputs": [
    {
     "output_type": "execute_result",
     "data": {
      "text/plain": [
       "                          Name                         Service  \\\n",
       "2560    Shri Basant Kishor Bal  Indian Administrative Services   \n",
       "4687       Shri K Rama Krishna  Indian Administrative Services   \n",
       "9210          Ms. Varsha Singh  Indian Administrative Services   \n",
       "9246  Shri Mali Rahul Bhanudas  Indian Administrative Services   \n",
       "\n",
       "                Cadre Allotment Year Date of Birth Date of Joining  \\\n",
       "2560         Manipur            1979          N.A.            N.A.   \n",
       "4687  Andhra Pradesh            1990    26/04/1939      26/04/1939   \n",
       "9210           Bihar            2016          N.A.            N.A.   \n",
       "9246        Nagaland            2016          N.A.            N.A.   \n",
       "\n",
       "                      Source of Recruitment  Gender Place of Domicile  \\\n",
       "2560                                   N.A.    Male              N.A.   \n",
       "4687  By Promotion from State Civil Service    Male    Andhra Pradesh   \n",
       "9210                     Direct Recruitment  Female             Bihar   \n",
       "9246                     Direct Recruitment    Male       Maharashtra   \n",
       "\n",
       "     Mother Tongue  ...              Qualification/University/Institute  \\\n",
       "2560          N.A.  ...                                            N.A.   \n",
       "4687        Telugu  ...                                        Graduate   \n",
       "9210          N.A.  ...   B.Sc./Nagpur Nagpur/Nagpur University College   \n",
       "9246          N.A.  ...  B.E./Shivaji Univ. Kohlapur/University College   \n",
       "\n",
       "          Subject  Division                                Designation/Level  \\\n",
       "2560         N.A.      N.A.                                             N.A.   \n",
       "4687         N.A.  Ordinary                                    N.A./Director   \n",
       "9210      Science     First   Assistant Secy/Junior Scale|N.A./Not Available   \n",
       "9246  Prodn.Engg.     First  S D O (C)/Junior Scale|On Training/Junior Scale   \n",
       "\n",
       "     Ministry/Department/Office/Location             Organisation  \\\n",
       "2560                                N.A.              Cadre (AIS)   \n",
       "4687                                N.A.              Cadre (AIS)   \n",
       "9210  M/o Human Resources Dev/New Delhi|       Centre|Cadre (AIS)   \n",
       "9246                                   |  Cadre (AIS)|Cadre (AIS)   \n",
       "\n",
       "                                Experience(major/minor)  \\\n",
       "2560                         / N.Applicable/N.Available   \n",
       "4687                     Languages / Human Resource Dev   \n",
       "9210  School Education / Human Resource Dev|/ N.Appl...   \n",
       "9246  District Admn / Land Revenue Mgmt & District A...   \n",
       "\n",
       "                           Period(From/To) Dataset name Clean Ids  \n",
       "2560                                     -      Supremo  MT007500  \n",
       "4687               01/01/1995 - 30/04/1997      Supremo  AP909110  \n",
       "9210             02/07/2018 - 28/09/2018|-      Supremo  BH115D05  \n",
       "9246  10/10/2018 -|01/09/2016 - 01/07/2018      Supremo  NL115P04  \n",
       "\n",
       "[4 rows x 22 columns]"
      ],
      "text/html": "<div>\n<style scoped>\n    .dataframe tbody tr th:only-of-type {\n        vertical-align: middle;\n    }\n\n    .dataframe tbody tr th {\n        vertical-align: top;\n    }\n\n    .dataframe thead th {\n        text-align: right;\n    }\n</style>\n<table border=\"1\" class=\"dataframe\">\n  <thead>\n    <tr style=\"text-align: right;\">\n      <th></th>\n      <th>Name</th>\n      <th>Service</th>\n      <th>Cadre</th>\n      <th>Allotment Year</th>\n      <th>Date of Birth</th>\n      <th>Date of Joining</th>\n      <th>Source of Recruitment</th>\n      <th>Gender</th>\n      <th>Place of Domicile</th>\n      <th>Mother Tongue</th>\n      <th>...</th>\n      <th>Qualification/University/Institute</th>\n      <th>Subject</th>\n      <th>Division</th>\n      <th>Designation/Level</th>\n      <th>Ministry/Department/Office/Location</th>\n      <th>Organisation</th>\n      <th>Experience(major/minor)</th>\n      <th>Period(From/To)</th>\n      <th>Dataset name</th>\n      <th>Clean Ids</th>\n    </tr>\n  </thead>\n  <tbody>\n    <tr>\n      <th>2560</th>\n      <td>Shri Basant Kishor Bal</td>\n      <td>Indian Administrative Services</td>\n      <td>Manipur</td>\n      <td>1979</td>\n      <td>N.A.</td>\n      <td>N.A.</td>\n      <td>N.A.</td>\n      <td>Male</td>\n      <td>N.A.</td>\n      <td>N.A.</td>\n      <td>...</td>\n      <td>N.A.</td>\n      <td>N.A.</td>\n      <td>N.A.</td>\n      <td>N.A.</td>\n      <td>N.A.</td>\n      <td>Cadre (AIS)</td>\n      <td>/ N.Applicable/N.Available</td>\n      <td>-</td>\n      <td>Supremo</td>\n      <td>MT007500</td>\n    </tr>\n    <tr>\n      <th>4687</th>\n      <td>Shri K Rama Krishna</td>\n      <td>Indian Administrative Services</td>\n      <td>Andhra Pradesh</td>\n      <td>1990</td>\n      <td>26/04/1939</td>\n      <td>26/04/1939</td>\n      <td>By Promotion from State Civil Service</td>\n      <td>Male</td>\n      <td>Andhra Pradesh</td>\n      <td>Telugu</td>\n      <td>...</td>\n      <td>Graduate</td>\n      <td>N.A.</td>\n      <td>Ordinary</td>\n      <td>N.A./Director</td>\n      <td>N.A.</td>\n      <td>Cadre (AIS)</td>\n      <td>Languages / Human Resource Dev</td>\n      <td>01/01/1995 - 30/04/1997</td>\n      <td>Supremo</td>\n      <td>AP909110</td>\n    </tr>\n    <tr>\n      <th>9210</th>\n      <td>Ms. Varsha Singh</td>\n      <td>Indian Administrative Services</td>\n      <td>Bihar</td>\n      <td>2016</td>\n      <td>N.A.</td>\n      <td>N.A.</td>\n      <td>Direct Recruitment</td>\n      <td>Female</td>\n      <td>Bihar</td>\n      <td>N.A.</td>\n      <td>...</td>\n      <td>B.Sc./Nagpur Nagpur/Nagpur University College</td>\n      <td>Science</td>\n      <td>First</td>\n      <td>Assistant Secy/Junior Scale|N.A./Not Available</td>\n      <td>M/o Human Resources Dev/New Delhi|</td>\n      <td>Centre|Cadre (AIS)</td>\n      <td>School Education / Human Resource Dev|/ N.Appl...</td>\n      <td>02/07/2018 - 28/09/2018|-</td>\n      <td>Supremo</td>\n      <td>BH115D05</td>\n    </tr>\n    <tr>\n      <th>9246</th>\n      <td>Shri Mali Rahul Bhanudas</td>\n      <td>Indian Administrative Services</td>\n      <td>Nagaland</td>\n      <td>2016</td>\n      <td>N.A.</td>\n      <td>N.A.</td>\n      <td>Direct Recruitment</td>\n      <td>Male</td>\n      <td>Maharashtra</td>\n      <td>N.A.</td>\n      <td>...</td>\n      <td>B.E./Shivaji Univ. Kohlapur/University College</td>\n      <td>Prodn.Engg.</td>\n      <td>First</td>\n      <td>S D O (C)/Junior Scale|On Training/Junior Scale</td>\n      <td>|</td>\n      <td>Cadre (AIS)|Cadre (AIS)</td>\n      <td>District Admn / Land Revenue Mgmt &amp; District A...</td>\n      <td>10/10/2018 -|01/09/2016 - 01/07/2018</td>\n      <td>Supremo</td>\n      <td>NL115P04</td>\n    </tr>\n  </tbody>\n</table>\n<p>4 rows × 22 columns</p>\n</div>"
     },
     "metadata": {},
     "execution_count": 24
    }
   ],
   "source": [
    "new_df.loc[new_df[\"Date of Birth\"] == new_df[\"Date of Joining\"]]"
   ]
  },
  {
   "cell_type": "code",
   "execution_count": 29,
   "metadata": {},
   "outputs": [],
   "source": [
    "new_df.to_csv(\"./outputs/combined/ias-clean-final.csv\", index=False)"
   ]
  },
  {
   "cell_type": "code",
   "execution_count": null,
   "metadata": {},
   "outputs": [],
   "source": []
  }
 ]
}