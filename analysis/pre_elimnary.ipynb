{
 "cells": [
  {
   "cell_type": "code",
   "execution_count": 1,
   "metadata": {},
   "outputs": [],
   "source": [
    "import pandas as pd"
   ]
  },
  {
   "cell_type": "code",
   "execution_count": 4,
   "metadata": {},
   "outputs": [],
   "source": [
    "experience_df = pd.read_csv(\"./datasets/formats/ias-experience.csv\")"
   ]
  },
  {
   "cell_type": "code",
   "execution_count": 2,
   "metadata": {},
   "outputs": [],
   "source": [
    "from collections import Counter"
   ]
  },
  {
   "cell_type": "code",
   "execution_count": 6,
   "metadata": {},
   "outputs": [
    {
     "data": {
      "text/plain": [
       "0         Personnel and General Administration\n",
       "1         Personnel and General Administration\n",
       "2                          Labour & Employment\n",
       "3                          Labour & Employment\n",
       "4                            Urban Development\n",
       "                         ...                  \n",
       "64586                                     N.A.\n",
       "64587                                     N.A.\n",
       "64588                                     N.A.\n",
       "64589                                     N.A.\n",
       "64590                                     N.A.\n",
       "Name: Category_of_Experience, Length: 63334, dtype: object"
      ]
     },
     "execution_count": 6,
     "metadata": {},
     "output_type": "execute_result"
    }
   ],
   "source": [
    "experience_df[\"Category_of_Experience\"].dropna()"
   ]
  },
  {
   "cell_type": "code",
   "execution_count": 33,
   "metadata": {},
   "outputs": [],
   "source": [
    "count = Counter(experience_df[\"Category_of_Experience\"].dropna().map(str).map(str.strip))"
   ]
  },
  {
   "cell_type": "code",
   "execution_count": 3,
   "metadata": {},
   "outputs": [],
   "source": [
    "import json"
   ]
  },
  {
   "cell_type": "code",
   "execution_count": 8,
   "metadata": {},
   "outputs": [],
   "source": [
    "data = json.load(open(\"./datasets/metadata.json\", \"r\"))"
   ]
  },
  {
   "cell_type": "code",
   "execution_count": 9,
   "metadata": {},
   "outputs": [
    {
     "ename": "NameError",
     "evalue": "name 'count' is not defined",
     "output_type": "error",
     "traceback": [
      "\u001b[1;31m---------------------------------------------------------------------------\u001b[0m",
      "\u001b[1;31mNameError\u001b[0m                                 Traceback (most recent call last)",
      "\u001b[1;32m~\\AppData\\Local\\Temp/ipykernel_13164/719147263.py\u001b[0m in \u001b[0;36m<module>\u001b[1;34m\u001b[0m\n\u001b[1;32m----> 1\u001b[1;33m \u001b[0mdata\u001b[0m\u001b[1;33m[\u001b[0m\u001b[1;34m\"category_of_experience\"\u001b[0m\u001b[1;33m]\u001b[0m \u001b[1;33m=\u001b[0m \u001b[0mdict\u001b[0m\u001b[1;33m(\u001b[0m\u001b[0mcount\u001b[0m\u001b[1;33m)\u001b[0m\u001b[1;33m\u001b[0m\u001b[1;33m\u001b[0m\u001b[0m\n\u001b[0m",
      "\u001b[1;31mNameError\u001b[0m: name 'count' is not defined"
     ]
    }
   ],
   "source": [
    "data[\"category_of_experience\"] = dict(count)"
   ]
  },
  {
   "cell_type": "code",
   "execution_count": null,
   "metadata": {},
   "outputs": [
    {
     "data": {
      "text/plain": [
       "dict_keys(['cadre', 'allotment_year', 'subject', 'division', 'education', 'category_of_experience'])"
      ]
     },
     "execution_count": 44,
     "metadata": {},
     "output_type": "execute_result"
    }
   ],
   "source": [
    "data.keys()"
   ]
  },
  {
   "cell_type": "code",
   "execution_count": 48,
   "metadata": {},
   "outputs": [],
   "source": [
    "json.dump(data, open(\"./datasets/metadata.json\", \"w\"), indent=4)"
   ]
  },
  {
   "cell_type": "code",
   "execution_count": 4,
   "metadata": {},
   "outputs": [],
   "source": [
    "json_data = json.load(open(\"./datasets/formats/ias-json.json\", \"r\"))"
   ]
  },
  {
   "cell_type": "code",
   "execution_count": 5,
   "metadata": {},
   "outputs": [
    {
     "data": {
      "text/plain": [
       "11567"
      ]
     },
     "execution_count": 5,
     "metadata": {},
     "output_type": "execute_result"
    }
   ],
   "source": [
    "len(json_data)"
   ]
  },
  {
   "cell_type": "code",
   "execution_count": 6,
   "metadata": {},
   "outputs": [],
   "source": [
    "ids = list(json_data.keys())"
   ]
  },
  {
   "cell_type": "code",
   "execution_count": 7,
   "metadata": {},
   "outputs": [
    {
     "data": {
      "text/plain": [
       "[{'Designation': 'Secretary',\n",
       "  'Level': 'Secretary',\n",
       "  'Office': 'D/o Statistics',\n",
       "  'Organisation': 'Centre',\n",
       "  'Field_of_Experience': 'Statistics ',\n",
       "  'Category_of_Experience': ' Planning & Prog Implementation',\n",
       "  'Start_Date': '01/07/1986',\n",
       "  'End_Date': '01/09/1988'},\n",
       " {'Designation': 'Director',\n",
       "  'Level': 'Secretary Equivalent',\n",
       "  'Office': 'D/o Personnel & Administrative Reforms',\n",
       "  'Organisation': 'Centre',\n",
       "  'Field_of_Experience': 'Personnel Training ',\n",
       "  'Category_of_Experience': ' Personnel and General Administration',\n",
       "  'Start_Date': '01/02/1984',\n",
       "  'End_Date': '01/02/1985'},\n",
       " {'Designation': 'Commissioner & Secy',\n",
       "  'Level': 'Additional Secretary',\n",
       "  'Office': '',\n",
       "  'Organisation': 'Cadre (AIS)',\n",
       "  'Field_of_Experience': 'Panchayati Raj ',\n",
       "  'Category_of_Experience': ' Local Self Govt',\n",
       "  'Start_Date': '01/04/1981',\n",
       "  'End_Date': '01/10/1982'},\n",
       " {'Designation': 'Additional Member',\n",
       "  'Level': 'Joint Secretary',\n",
       "  'Office': '',\n",
       "  'Organisation': 'Cadre (AIS)',\n",
       "  'Field_of_Experience': 'Revenue ',\n",
       "  'Category_of_Experience': ' Finance',\n",
       "  'Start_Date': '01/12/1980',\n",
       "  'End_Date': '01/04/1981'},\n",
       " {'Designation': 'Commissioner',\n",
       "  'Level': 'Joint Secretary',\n",
       "  'Office': '',\n",
       "  'Organisation': 'Cadre (AIS)',\n",
       "  'Field_of_Experience': 'Relief ',\n",
       "  'Category_of_Experience': ' Home',\n",
       "  'Start_Date': '01/09/1979',\n",
       "  'End_Date': '01/07/1980'},\n",
       " {'Designation': 'N.A.',\n",
       "  'Level': 'Joint Secretary Equivalent',\n",
       "  'Office': 'M/o Commerce & Industry/D/o Commerce',\n",
       "  'Organisation': 'Centre',\n",
       "  'Field_of_Experience': 'Handicrafts Dev ',\n",
       "  'Category_of_Experience': ' Industries',\n",
       "  'Start_Date': '01/01/1977',\n",
       "  'End_Date': '01/05/1977'},\n",
       " {'Designation': 'N.A.',\n",
       "  'Level': 'Joint Secretary',\n",
       "  'Office': '',\n",
       "  'Organisation': 'Cadre (AIS)',\n",
       "  'Field_of_Experience': 'Personnel Mgmt ',\n",
       "  'Category_of_Experience': ' Personnel and General Administration',\n",
       "  'Start_Date': '01/05/1972',\n",
       "  'End_Date': '01/06/1974'},\n",
       " {'Designation': 'Zonal Director',\n",
       "  'Level': 'Director Equivalent',\n",
       "  'Office': 'M/o Home Affairs/D/o Home',\n",
       "  'Organisation': 'Centre',\n",
       "  'Field_of_Experience': 'SC',\n",
       "  'Category_of_Experience': 'ST Welfare ',\n",
       "  'Start_Date': '01/01/1969',\n",
       "  'End_Date': '01/05/1970'},\n",
       " {'Designation': 'Settlement Officer',\n",
       "  'Level': 'Deputy Secretary',\n",
       "  'Office': '',\n",
       "  'Organisation': 'Cadre (AIS)',\n",
       "  'Field_of_Experience': 'Settlement ',\n",
       "  'Category_of_Experience': ' Land Revenue Mgmt & District Admn',\n",
       "  'Start_Date': '01/10/1966',\n",
       "  'End_Date': '01/08/1967'},\n",
       " {'Designation': 'Under Secy',\n",
       "  'Level': 'Under Secretary',\n",
       "  'Office': 'M/o Defence/D/o Defence',\n",
       "  'Organisation': 'Centre',\n",
       "  'Field_of_Experience': 'Defence ',\n",
       "  'Category_of_Experience': ' Defence',\n",
       "  'Start_Date': '01/10/1962',\n",
       "  'End_Date': '01/03/1963'},\n",
       " {'Designation': 'Director',\n",
       "  'Level': 'Under Secretary',\n",
       "  'Office': '',\n",
       "  'Organisation': 'Cadre (AIS)',\n",
       "  'Field_of_Experience': 'Statistics ',\n",
       "  'Category_of_Experience': ' Planning & Prog Implementation',\n",
       "  'Start_Date': '01/10/1960',\n",
       "  'End_Date': '01/12/1961'},\n",
       " {'Designation': 'Deputy Secretary',\n",
       "  'Level': 'Under Secretary',\n",
       "  'Office': '',\n",
       "  'Organisation': 'Cadre (AIS)',\n",
       "  'Field_of_Experience': 'General Administration ',\n",
       "  'Category_of_Experience': ' Personnel and General Administration',\n",
       "  'Start_Date': '01/04/1958',\n",
       "  'End_Date': '01/04/1959'},\n",
       " {'Designation': 'Assistant Collector & A D M',\n",
       "  'Level': 'Junior Scale',\n",
       "  'Office': '',\n",
       "  'Organisation': 'Cadre (AIS)',\n",
       "  'Field_of_Experience': 'Sub Divisional Admn ',\n",
       "  'Category_of_Experience': ' Land Revenue Mgmt & District Admn',\n",
       "  'Start_Date': '01/04/1956',\n",
       "  'End_Date': '01/06/1957'}]"
      ]
     },
     "execution_count": 7,
     "metadata": {},
     "output_type": "execute_result"
    }
   ],
   "source": [
    "temp = json_data[ids[27]]\n",
    "temp[\"Experience\"]"
   ]
  },
  {
   "cell_type": "code",
   "execution_count": 8,
   "metadata": {},
   "outputs": [],
   "source": [
    "from itertools import product"
   ]
  },
  {
   "cell_type": "code",
   "execution_count": 9,
   "metadata": {},
   "outputs": [],
   "source": [
    "temp_subjects = []\n",
    "temp_exp = []\n",
    "for item in temp[\"Education\"]:\n",
    "    temp_subjects.append(item[\"Subject\"])\n",
    "\n",
    "for item in temp[\"Experience\"]:\n",
    "    temp_exp.append(str(item[\"Category_of_Experience\"]).strip())\n",
    "    \n",
    "temp_subjects = [temp_subjects]\n",
    "temp_products = list(product(temp_subjects, temp_exp))"
   ]
  },
  {
   "cell_type": "code",
   "execution_count": 10,
   "metadata": {},
   "outputs": [
    {
     "data": {
      "text/plain": [
       "[(['Statistics', 'Commerce'], 'Planning & Prog Implementation'),\n",
       " (['Statistics', 'Commerce'], 'Personnel and General Administration'),\n",
       " (['Statistics', 'Commerce'], 'Local Self Govt'),\n",
       " (['Statistics', 'Commerce'], 'Finance'),\n",
       " (['Statistics', 'Commerce'], 'Home'),\n",
       " (['Statistics', 'Commerce'], 'Industries'),\n",
       " (['Statistics', 'Commerce'], 'Personnel and General Administration'),\n",
       " (['Statistics', 'Commerce'], 'ST Welfare'),\n",
       " (['Statistics', 'Commerce'], 'Land Revenue Mgmt & District Admn'),\n",
       " (['Statistics', 'Commerce'], 'Defence'),\n",
       " (['Statistics', 'Commerce'], 'Planning & Prog Implementation'),\n",
       " (['Statistics', 'Commerce'], 'Personnel and General Administration'),\n",
       " (['Statistics', 'Commerce'], 'Land Revenue Mgmt & District Admn')]"
      ]
     },
     "execution_count": 10,
     "metadata": {},
     "output_type": "execute_result"
    }
   ],
   "source": [
    "temp_products"
   ]
  },
  {
   "cell_type": "code",
   "execution_count": 11,
   "metadata": {},
   "outputs": [],
   "source": [
    "from collections import Counter\n",
    "from tqdm import tqdm"
   ]
  },
  {
   "cell_type": "code",
   "execution_count": 47,
   "metadata": {},
   "outputs": [
    {
     "name": "stderr",
     "output_type": "stream",
     "text": [
      "100%|██████████| 11567/11567 [00:00<00:00, 67029.91it/s]\n"
     ]
    }
   ],
   "source": [
    "products = []\n",
    "for _id in tqdm(ids):\n",
    "    temp = json_data[_id]\n",
    "    temp_subjects = []\n",
    "    temp_exp = []\n",
    "    for item in temp[\"Education\"]:\n",
    "        temp_subjects.append(item[\"Subject\"])\n",
    "\n",
    "    for item in temp[\"Experience\"]:\n",
    "        temp_exp.append(str(item[\"Category_of_Experience\"]).strip())\n",
    "        \n",
    "    temp_subjects = [temp_subjects]\n",
    "    temp_products = list(product(temp_subjects, temp_exp))\n",
    "    products.append(temp_products)"
   ]
  },
  {
   "cell_type": "code",
   "execution_count": 48,
   "metadata": {},
   "outputs": [],
   "source": [
    "_map = []\n",
    "for i in range(len(products)):\n",
    "    for j in range(len(products[i])):\n",
    "        string = \"|\".join(list(set(products[i][j][0])))\n",
    "        string += \"-----\"+products[i][j][1]\n",
    "        _map.append(string)"
   ]
  },
  {
   "cell_type": "code",
   "execution_count": 49,
   "metadata": {},
   "outputs": [
    {
     "data": {
      "text/plain": [
       "'Chemistry-----Land Revenue Mgmt & District Admn'"
      ]
     },
     "execution_count": 49,
     "metadata": {},
     "output_type": "execute_result"
    }
   ],
   "source": [
    "_map[18]"
   ]
  },
  {
   "cell_type": "code",
   "execution_count": 50,
   "metadata": {},
   "outputs": [
    {
     "data": {
      "text/plain": [
       "['eco', 'fin']"
      ]
     },
     "execution_count": 50,
     "metadata": {},
     "output_type": "execute_result"
    }
   ],
   "source": [
    "list(set([\"eco\", \"eco\", \"fin\"]))"
   ]
  },
  {
   "cell_type": "code",
   "execution_count": 51,
   "metadata": {},
   "outputs": [],
   "source": [
    "counter = Counter(_map)"
   ]
  },
  {
   "cell_type": "code",
   "execution_count": 56,
   "metadata": {},
   "outputs": [],
   "source": [
    "df = pd.DataFrame(columns=[\"Item\", \"Count\"])"
   ]
  },
  {
   "cell_type": "code",
   "execution_count": 57,
   "metadata": {},
   "outputs": [
    {
     "name": "stderr",
     "output_type": "stream",
     "text": [
      "100%|██████████| 18093/18093 [05:29<00:00, 54.90it/s]\n"
     ]
    }
   ],
   "source": [
    "for key in tqdm(counter.keys()):\n",
    "    df = df.append({\n",
    "        \"Subject\" : key.split(\"-----\")[0],\n",
    "        \"Field\": key.split(\"-----\")[1],\n",
    "        \"Count\" : counter[key]\n",
    "    }, ignore_index=True)"
   ]
  },
  {
   "cell_type": "code",
   "execution_count": 58,
   "metadata": {},
   "outputs": [],
   "source": [
    "df.sort_values(\"Count\", ascending=False, inplace=True)\n",
    "df.drop_duplicates(inplace=True)"
   ]
  },
  {
   "cell_type": "code",
   "execution_count": 59,
   "metadata": {},
   "outputs": [],
   "source": [
    "df.to_csv(\"./processed/count_new.csv\", index=False)"
   ]
  },
  {
   "cell_type": "code",
   "execution_count": 46,
   "metadata": {},
   "outputs": [],
   "source": [
    "df.to_clipboard(index=False)"
   ]
  },
  {
   "cell_type": "code",
   "execution_count": 44,
   "metadata": {},
   "outputs": [],
   "source": [
    "temp = df.loc[df[\"Item\"].str.contains(\"Finance\")]"
   ]
  },
  {
   "cell_type": "code",
   "execution_count": 45,
   "metadata": {},
   "outputs": [],
   "source": [
    "temp.to_clipboard()"
   ]
  },
  {
   "cell_type": "code",
   "execution_count": 64,
   "metadata": {},
   "outputs": [
    {
     "data": {
      "text/plain": [
       "['N.A.',\n",
       " 'Economics',\n",
       " 'History',\n",
       " 'Physics',\n",
       " 'English',\n",
       " 'Political Sc.',\n",
       " 'Electrical Engg.',\n",
       " 'Mech.engg.',\n",
       " 'Medicine',\n",
       " 'Economics|Law']"
      ]
     },
     "execution_count": 64,
     "metadata": {},
     "output_type": "execute_result"
    }
   ],
   "source": [
    "list(df[\"Subject\"].unique())[:10]"
   ]
  },
  {
   "cell_type": "code",
   "execution_count": null,
   "metadata": {},
   "outputs": [],
   "source": []
  }
 ],
 "metadata": {
  "interpreter": {
   "hash": "5a996fcd0cc9522c7bd88855cd731912e7060790d2e9e7ea678aa23453df2f15"
  },
  "kernelspec": {
   "display_name": "Python 3.9.7 64-bit",
   "name": "python3"
  },
  "language_info": {
   "codemirror_mode": {
    "name": "ipython",
    "version": 3
   },
   "file_extension": ".py",
   "mimetype": "text/x-python",
   "name": "python",
   "nbconvert_exporter": "python",
   "pygments_lexer": "ipython3",
   "version": "3.9.7"
  },
  "orig_nbformat": 4
 },
 "nbformat": 4,
 "nbformat_minor": 2
}
