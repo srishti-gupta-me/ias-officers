{
 "cells": [
  {
   "cell_type": "code",
   "execution_count": 1,
   "metadata": {},
   "outputs": [
    {
     "name": "stderr",
     "output_type": "stream",
     "text": [
      "C:\\Users\\vedan\\AppData\\Local\\Programs\\Python\\Python38\\lib\\site-packages\\numpy\\_distributor_init.py:30: UserWarning: loaded more than 1 DLL from .libs:\n",
      "C:\\Users\\vedan\\AppData\\Local\\Programs\\Python\\Python38\\lib\\site-packages\\numpy\\.libs\\libopenblas.PYQHXLVVQ7VESDPUVUADXEVJOBGHJPAY.gfortran-win_amd64.dll\n",
      "C:\\Users\\vedan\\AppData\\Local\\Programs\\Python\\Python38\\lib\\site-packages\\numpy\\.libs\\libopenblas.WCDJNK7YVMPZQ2ME2ZZHJJRJ3JIKNDB7.gfortran-win_amd64.dll\n",
      "  warnings.warn(\"loaded more than 1 DLL from .libs:\"\n"
     ]
    }
   ],
   "source": [
    "import pandas as pd\n",
    "from itertools import product"
   ]
  },
  {
   "cell_type": "code",
   "execution_count": 2,
   "metadata": {},
   "outputs": [],
   "source": [
    "experience_df = pd.read_csv(\"./datasets/formats/ias-experience.csv\")\n",
    "education_df = pd.read_csv(\"./datasets/formats/ias-education.csv\")"
   ]
  },
  {
   "cell_type": "code",
   "execution_count": 4,
   "metadata": {},
   "outputs": [],
   "source": [
    "subjects_df = pd.read_csv(\"./processed/IAS subjects.csv\")"
   ]
  },
  {
   "cell_type": "code",
   "execution_count": 5,
   "metadata": {},
   "outputs": [],
   "source": [
    "education_df = education_df.loc[education_df[\"Subject\"] != \"N.A.\"]\n",
    "experience_df = experience_df.loc[experience_df[\"Category_of_Experience\"] != \"N.A.\"]"
   ]
  },
  {
   "cell_type": "code",
   "execution_count": 6,
   "metadata": {},
   "outputs": [],
   "source": [
    "education_df.dropna(inplace=True)\n",
    "experience_df.dropna(inplace=True)"
   ]
  },
  {
   "cell_type": "code",
   "execution_count": 7,
   "metadata": {},
   "outputs": [],
   "source": [
    "# copy the subject columns to a list\n",
    "subjects_items = education_df[\"Subject\"].copy()\n",
    "for subject, category in zip(subjects_df[\"Subject\"], subjects_df[\"Category\"]):\n",
    "    subjects_items.replace({subject: category}, inplace=True)"
   ]
  },
  {
   "cell_type": "code",
   "execution_count": 8,
   "metadata": {},
   "outputs": [],
   "source": [
    "education_df[\"Category\"] = subjects_items"
   ]
  },
  {
   "cell_type": "code",
   "execution_count": 9,
   "metadata": {},
   "outputs": [],
   "source": [
    "names = education_df[\"Name\"].unique()"
   ]
  },
  {
   "cell_type": "code",
   "execution_count": 10,
   "metadata": {},
   "outputs": [],
   "source": [
    "from tqdm import tqdm"
   ]
  },
  {
   "cell_type": "code",
   "execution_count": 11,
   "metadata": {},
   "outputs": [],
   "source": [
    "subject_to_exp_map = []\n",
    "for name in names:\n",
    "    # filter the education and experience dataframe for the current name\n",
    "    temp_edu = education_df.loc[education_df[\"Name\"] == name]\n",
    "    temp_exp = experience_df.loc[experience_df[\"Name\"] == name]\n",
    "\n",
    "    # get the unique subject categories\n",
    "    subject_list = temp_edu[\"Category\"].unique().tolist()\n",
    "\n",
    "    # get the unique experience categories\n",
    "    exp_list = temp_exp[\"Category_of_Experience\"].apply(str).map(str.strip).unique().tolist()\n",
    "\n",
    "    # get the unique combinations of subject and experience\n",
    "    products = list(product(subject_list, exp_list))\n",
    "\n",
    "    # add the name and the list of combinations to the map\n",
    "    subject_to_exp_map.extend(products)"
   ]
  },
  {
   "cell_type": "code",
   "execution_count": 12,
   "metadata": {},
   "outputs": [],
   "source": [
    "temp = pd.Series(subject_to_exp_map)\n",
    "count_df = pd.DataFrame(temp.value_counts())"
   ]
  },
  {
   "cell_type": "code",
   "execution_count": 13,
   "metadata": {},
   "outputs": [],
   "source": [
    "subject = []\n",
    "experience = []\n",
    "\n",
    "for s, e in count_df.index:\n",
    "    subject.append(s)\n",
    "    experience.append(e)"
   ]
  },
  {
   "cell_type": "code",
   "execution_count": 14,
   "metadata": {},
   "outputs": [],
   "source": [
    "count_df[\"Subject\"] = subject\n",
    "count_df[\"Experience\"] = experience\n",
    "count_df.to_csv(\"./processed/unigram maps-new.csv\", index=False)"
   ]
  },
  {
   "cell_type": "code",
   "execution_count": null,
   "metadata": {},
   "outputs": [],
   "source": []
  }
 ],
 "metadata": {
  "interpreter": {
   "hash": "5a996fcd0cc9522c7bd88855cd731912e7060790d2e9e7ea678aa23453df2f15"
  },
  "kernelspec": {
   "display_name": "Python 3.9.7 64-bit",
   "language": "python",
   "name": "python3"
  },
  "language_info": {
   "codemirror_mode": {
    "name": "ipython",
    "version": 3
   },
   "file_extension": ".py",
   "mimetype": "text/x-python",
   "name": "python",
   "nbconvert_exporter": "python",
   "pygments_lexer": "ipython3",
   "version": "3.8.7"
  },
  "orig_nbformat": 4
 },
 "nbformat": 4,
 "nbformat_minor": 2
}
