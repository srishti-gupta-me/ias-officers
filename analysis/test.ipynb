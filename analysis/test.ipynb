{
 "cells": [
  {
   "cell_type": "code",
   "execution_count": 1,
   "metadata": {},
   "outputs": [
    {
     "name": "stderr",
     "output_type": "stream",
     "text": [
      "C:\\Users\\vedan\\AppData\\Local\\Programs\\Python\\Python38\\lib\\site-packages\\numpy\\_distributor_init.py:30: UserWarning: loaded more than 1 DLL from .libs:\n",
      "C:\\Users\\vedan\\AppData\\Local\\Programs\\Python\\Python38\\lib\\site-packages\\numpy\\.libs\\libopenblas.PYQHXLVVQ7VESDPUVUADXEVJOBGHJPAY.gfortran-win_amd64.dll\n",
      "C:\\Users\\vedan\\AppData\\Local\\Programs\\Python\\Python38\\lib\\site-packages\\numpy\\.libs\\libopenblas.WCDJNK7YVMPZQ2ME2ZZHJJRJ3JIKNDB7.gfortran-win_amd64.dll\n",
      "  warnings.warn(\"loaded more than 1 DLL from .libs:\"\n"
     ]
    }
   ],
   "source": [
    "import pandas as pd\n",
    "import numpy as np"
   ]
  },
  {
   "cell_type": "code",
   "execution_count": 22,
   "metadata": {},
   "outputs": [],
   "source": [
    "def load_unigram_data():\n",
    "    #df = pd.read_csv('~/Downloads/ias-officers/analysis/processed/unigram maps.csv')\n",
    "    df = pd.read_csv('./processed/unigram maps.csv')\n",
    "    #Dropping rows where the experience is NA\n",
    "    df = df.loc[df[\"Experience\"] != \"N.A.\"]\n",
    "    \n",
    "    #Adding a new column that contains the count value as string, for example 'size:count' \n",
    "    df[\"text\"] = df[\"Count\"].apply(lambda x: \"size: \"+str(x))\n",
    "    \n",
    "    #Adding a percentage column per subject\n",
    "    df[\"p_Subject\"] = [0] * df.shape[0]\n",
    "    for subject in df[\"Subject\"].unique():\n",
    "        sum_subject_count = df.loc[df[\"Subject\"] == subject][\"Count\"].sum()\n",
    "        df.loc[df[\"Subject\"] == subject, \"p_Subject\"] = df.loc[df[\"Subject\"] == subject][\"Count\"].apply(lambda x: str(round(((x / sum_subject_count) * 100), 2)) + \"%\")\n",
    "\n",
    "    df[\"p_Experience\"] = [0] * df.shape[0]\n",
    "    for experience in df[\"Experience\"].unique():\n",
    "        sum_experience_count = df.loc[df[\"Experience\"] == experience][\"Count\"].sum()\n",
    "        df.loc[df[\"Experience\"] == experience, \"p_Experience\"] = df.loc[df[\"Experience\"] == experience][\"Count\"].apply(lambda x: str(round(((x / sum_experience_count) * 100), 2)) + \"%\")\n",
    "    return df"
   ]
  },
  {
   "cell_type": "code",
   "execution_count": 20,
   "metadata": {},
   "outputs": [],
   "source": [
    "df = load_unigram_data()"
   ]
  },
  {
   "cell_type": "code",
   "execution_count": 21,
   "metadata": {},
   "outputs": [
    {
     "data": {
      "text/html": [
       "<div>\n",
       "<style scoped>\n",
       "    .dataframe tbody tr th:only-of-type {\n",
       "        vertical-align: middle;\n",
       "    }\n",
       "\n",
       "    .dataframe tbody tr th {\n",
       "        vertical-align: top;\n",
       "    }\n",
       "\n",
       "    .dataframe thead th {\n",
       "        text-align: right;\n",
       "    }\n",
       "</style>\n",
       "<table border=\"1\" class=\"dataframe\">\n",
       "  <thead>\n",
       "    <tr style=\"text-align: right;\">\n",
       "      <th></th>\n",
       "      <th>Subject</th>\n",
       "      <th>Experience</th>\n",
       "      <th>Count</th>\n",
       "      <th>text</th>\n",
       "      <th>p_Subject</th>\n",
       "      <th>p_Experience</th>\n",
       "    </tr>\n",
       "  </thead>\n",
       "  <tbody>\n",
       "    <tr>\n",
       "      <th>0</th>\n",
       "      <td>Social Science and Liberal Arts</td>\n",
       "      <td>Land Revenue Mgmt &amp; District Admn</td>\n",
       "      <td>1736</td>\n",
       "      <td>size: 1736</td>\n",
       "      <td>17.03</td>\n",
       "      <td>27.88</td>\n",
       "    </tr>\n",
       "    <tr>\n",
       "      <th>1</th>\n",
       "      <td>Governance, Law and Management</td>\n",
       "      <td>Land Revenue Mgmt &amp; District Admn</td>\n",
       "      <td>1227</td>\n",
       "      <td>size: 1227</td>\n",
       "      <td>16.19</td>\n",
       "      <td>19.70</td>\n",
       "    </tr>\n",
       "    <tr>\n",
       "      <th>2</th>\n",
       "      <td>Engineering, Technology and Mathematics</td>\n",
       "      <td>Land Revenue Mgmt &amp; District Admn</td>\n",
       "      <td>1104</td>\n",
       "      <td>size: 1104</td>\n",
       "      <td>17.81</td>\n",
       "      <td>17.73</td>\n",
       "    </tr>\n",
       "    <tr>\n",
       "      <th>3</th>\n",
       "      <td>Social Science and Liberal Arts</td>\n",
       "      <td>Personnel and General Administration</td>\n",
       "      <td>828</td>\n",
       "      <td>size: 828</td>\n",
       "      <td>8.12</td>\n",
       "      <td>28.97</td>\n",
       "    </tr>\n",
       "    <tr>\n",
       "      <th>4</th>\n",
       "      <td>Natural Sciences</td>\n",
       "      <td>Land Revenue Mgmt &amp; District Admn</td>\n",
       "      <td>815</td>\n",
       "      <td>size: 815</td>\n",
       "      <td>15.96</td>\n",
       "      <td>13.09</td>\n",
       "    </tr>\n",
       "    <tr>\n",
       "      <th>...</th>\n",
       "      <td>...</td>\n",
       "      <td>...</td>\n",
       "      <td>...</td>\n",
       "      <td>...</td>\n",
       "      <td>...</td>\n",
       "      <td>...</td>\n",
       "    </tr>\n",
       "    <tr>\n",
       "      <th>361</th>\n",
       "      <td>Social Science and Liberal Arts</td>\n",
       "      <td>Anti-Corruption</td>\n",
       "      <td>1</td>\n",
       "      <td>size: 1</td>\n",
       "      <td>0.01</td>\n",
       "      <td>100.00</td>\n",
       "    </tr>\n",
       "    <tr>\n",
       "      <th>362</th>\n",
       "      <td>Others</td>\n",
       "      <td>Chemicals &amp; Fertilizers</td>\n",
       "      <td>1</td>\n",
       "      <td>size: 1</td>\n",
       "      <td>0.10</td>\n",
       "      <td>1.03</td>\n",
       "    </tr>\n",
       "    <tr>\n",
       "      <th>363</th>\n",
       "      <td>Others</td>\n",
       "      <td>Mail Management</td>\n",
       "      <td>1</td>\n",
       "      <td>size: 1</td>\n",
       "      <td>0.10</td>\n",
       "      <td>4.76</td>\n",
       "    </tr>\n",
       "    <tr>\n",
       "      <th>364</th>\n",
       "      <td>Finance</td>\n",
       "      <td>Public Policy</td>\n",
       "      <td>1</td>\n",
       "      <td>size: 1</td>\n",
       "      <td>0.07</td>\n",
       "      <td>20.00</td>\n",
       "    </tr>\n",
       "    <tr>\n",
       "      <th>365</th>\n",
       "      <td>Social Science and Liberal Arts</td>\n",
       "      <td>Public Policy</td>\n",
       "      <td>1</td>\n",
       "      <td>size: 1</td>\n",
       "      <td>0.01</td>\n",
       "      <td>20.00</td>\n",
       "    </tr>\n",
       "  </tbody>\n",
       "</table>\n",
       "<p>359 rows × 6 columns</p>\n",
       "</div>"
      ],
      "text/plain": [
       "                                     Subject  \\\n",
       "0            Social Science and Liberal Arts   \n",
       "1             Governance, Law and Management   \n",
       "2    Engineering, Technology and Mathematics   \n",
       "3            Social Science and Liberal Arts   \n",
       "4                           Natural Sciences   \n",
       "..                                       ...   \n",
       "361          Social Science and Liberal Arts   \n",
       "362                                   Others   \n",
       "363                                   Others   \n",
       "364                                  Finance   \n",
       "365          Social Science and Liberal Arts   \n",
       "\n",
       "                               Experience  Count        text  p_Subject  \\\n",
       "0       Land Revenue Mgmt & District Admn   1736  size: 1736      17.03   \n",
       "1       Land Revenue Mgmt & District Admn   1227  size: 1227      16.19   \n",
       "2       Land Revenue Mgmt & District Admn   1104  size: 1104      17.81   \n",
       "3    Personnel and General Administration    828   size: 828       8.12   \n",
       "4       Land Revenue Mgmt & District Admn    815   size: 815      15.96   \n",
       "..                                    ...    ...         ...        ...   \n",
       "361                       Anti-Corruption      1     size: 1       0.01   \n",
       "362               Chemicals & Fertilizers      1     size: 1       0.10   \n",
       "363                       Mail Management      1     size: 1       0.10   \n",
       "364                         Public Policy      1     size: 1       0.07   \n",
       "365                         Public Policy      1     size: 1       0.01   \n",
       "\n",
       "     p_Experience  \n",
       "0           27.88  \n",
       "1           19.70  \n",
       "2           17.73  \n",
       "3           28.97  \n",
       "4           13.09  \n",
       "..            ...  \n",
       "361        100.00  \n",
       "362          1.03  \n",
       "363          4.76  \n",
       "364         20.00  \n",
       "365         20.00  \n",
       "\n",
       "[359 rows x 6 columns]"
      ]
     },
     "execution_count": 21,
     "metadata": {},
     "output_type": "execute_result"
    }
   ],
   "source": [
    "df"
   ]
  },
  {
   "cell_type": "code",
   "execution_count": 7,
   "metadata": {},
   "outputs": [],
   "source": [
    "test = \"Governance, Law and Management\""
   ]
  },
  {
   "cell_type": "code",
   "execution_count": 11,
   "metadata": {},
   "outputs": [],
   "source": [
    "sum_subject_count = df.loc[df[\"Subject\"] == test][\"Count\"].sum()"
   ]
  },
  {
   "cell_type": "code",
   "execution_count": 16,
   "metadata": {},
   "outputs": [],
   "source": [
    "df.loc[df[\"Subject\"] == test, \"p_Subject\"] = df.loc[df[\"Subject\"] == test][\"Count\"].apply(lambda x: round(((x / sum_subject_count) * 100), 2))"
   ]
  },
  {
   "cell_type": "code",
   "execution_count": 23,
   "metadata": {},
   "outputs": [
    {
     "data": {
      "text/plain": [
       "99.97999999999999"
      ]
     },
     "execution_count": 23,
     "metadata": {},
     "output_type": "execute_result"
    }
   ],
   "source": [
    "df.loc[df[\"Subject\"] == test, \"p_Subject\"].sum()"
   ]
  },
  {
   "cell_type": "code",
   "execution_count": 5,
   "metadata": {},
   "outputs": [
    {
     "data": {
      "text/html": [
       "<div>\n",
       "<style scoped>\n",
       "    .dataframe tbody tr th:only-of-type {\n",
       "        vertical-align: middle;\n",
       "    }\n",
       "\n",
       "    .dataframe tbody tr th {\n",
       "        vertical-align: top;\n",
       "    }\n",
       "\n",
       "    .dataframe thead th {\n",
       "        text-align: right;\n",
       "    }\n",
       "</style>\n",
       "<table border=\"1\" class=\"dataframe\">\n",
       "  <thead>\n",
       "    <tr style=\"text-align: right;\">\n",
       "      <th></th>\n",
       "      <th>Subject</th>\n",
       "      <th>Experience</th>\n",
       "      <th>Count</th>\n",
       "    </tr>\n",
       "  </thead>\n",
       "  <tbody>\n",
       "    <tr>\n",
       "      <th>0</th>\n",
       "      <td>Social Science and Liberal Arts</td>\n",
       "      <td>Land Revenue Mgmt &amp; District Admn</td>\n",
       "      <td>1736</td>\n",
       "    </tr>\n",
       "    <tr>\n",
       "      <th>1</th>\n",
       "      <td>Governance, Law and Management</td>\n",
       "      <td>Land Revenue Mgmt &amp; District Admn</td>\n",
       "      <td>1227</td>\n",
       "    </tr>\n",
       "    <tr>\n",
       "      <th>2</th>\n",
       "      <td>Engineering, Technology and Mathematics</td>\n",
       "      <td>Land Revenue Mgmt &amp; District Admn</td>\n",
       "      <td>1104</td>\n",
       "    </tr>\n",
       "    <tr>\n",
       "      <th>3</th>\n",
       "      <td>Social Science and Liberal Arts</td>\n",
       "      <td>Personnel and General Administration</td>\n",
       "      <td>828</td>\n",
       "    </tr>\n",
       "    <tr>\n",
       "      <th>4</th>\n",
       "      <td>Natural Sciences</td>\n",
       "      <td>Land Revenue Mgmt &amp; District Admn</td>\n",
       "      <td>815</td>\n",
       "    </tr>\n",
       "    <tr>\n",
       "      <th>...</th>\n",
       "      <td>...</td>\n",
       "      <td>...</td>\n",
       "      <td>...</td>\n",
       "    </tr>\n",
       "    <tr>\n",
       "      <th>361</th>\n",
       "      <td>Social Science and Liberal Arts</td>\n",
       "      <td>Anti-Corruption</td>\n",
       "      <td>1</td>\n",
       "    </tr>\n",
       "    <tr>\n",
       "      <th>362</th>\n",
       "      <td>Others</td>\n",
       "      <td>Chemicals &amp; Fertilizers</td>\n",
       "      <td>1</td>\n",
       "    </tr>\n",
       "    <tr>\n",
       "      <th>363</th>\n",
       "      <td>Others</td>\n",
       "      <td>Mail Management</td>\n",
       "      <td>1</td>\n",
       "    </tr>\n",
       "    <tr>\n",
       "      <th>364</th>\n",
       "      <td>Finance</td>\n",
       "      <td>Public Policy</td>\n",
       "      <td>1</td>\n",
       "    </tr>\n",
       "    <tr>\n",
       "      <th>365</th>\n",
       "      <td>Social Science and Liberal Arts</td>\n",
       "      <td>Public Policy</td>\n",
       "      <td>1</td>\n",
       "    </tr>\n",
       "  </tbody>\n",
       "</table>\n",
       "<p>366 rows × 3 columns</p>\n",
       "</div>"
      ],
      "text/plain": [
       "                                     Subject  \\\n",
       "0            Social Science and Liberal Arts   \n",
       "1             Governance, Law and Management   \n",
       "2    Engineering, Technology and Mathematics   \n",
       "3            Social Science and Liberal Arts   \n",
       "4                           Natural Sciences   \n",
       "..                                       ...   \n",
       "361          Social Science and Liberal Arts   \n",
       "362                                   Others   \n",
       "363                                   Others   \n",
       "364                                  Finance   \n",
       "365          Social Science and Liberal Arts   \n",
       "\n",
       "                               Experience  Count  \n",
       "0       Land Revenue Mgmt & District Admn   1736  \n",
       "1       Land Revenue Mgmt & District Admn   1227  \n",
       "2       Land Revenue Mgmt & District Admn   1104  \n",
       "3    Personnel and General Administration    828  \n",
       "4       Land Revenue Mgmt & District Admn    815  \n",
       "..                                    ...    ...  \n",
       "361                       Anti-Corruption      1  \n",
       "362               Chemicals & Fertilizers      1  \n",
       "363                       Mail Management      1  \n",
       "364                         Public Policy      1  \n",
       "365                         Public Policy      1  \n",
       "\n",
       "[366 rows x 3 columns]"
      ]
     },
     "execution_count": 5,
     "metadata": {},
     "output_type": "execute_result"
    }
   ],
   "source": [
    "df"
   ]
  },
  {
   "cell_type": "code",
   "execution_count": 20,
   "metadata": {},
   "outputs": [],
   "source": [
    "admin_categories = [\n",
    "    \"Land Revenue Mgmt & District Admn\",\n",
    "    \"Personnel and General Administration\",\n",
    "    \"Finance\"\n",
    "]\n",
    "def filter_by_value(df, col, value, include_admin=True, number_of_rows=5, percentage=False):\n",
    "\n",
    "    df = df.loc[df[col].str.contains(value)]\n",
    "    df.sort_values([\"Count\"], ascending=False, inplace=True)\n",
    "\n",
    "    if include_admin and col == \"Subject\":\n",
    "        for category in admin_categories:\n",
    "            df = df.loc[df[\"Experience\"] != category]\n",
    "\n",
    "    df.drop(columns=[col], inplace=True)\n",
    "    df.set_index(df.columns[0], inplace=True)\n",
    "\n",
    "    df = df.head(number_of_rows)\n",
    "\n",
    "    if percentage:\n",
    "        sum = df[\"Count\"].sum()\n",
    "        df = pd.DataFrame(df[\"Count\"].apply(lambda x: (x / sum)))\n",
    "\n",
    "    return df"
   ]
  },
  {
   "cell_type": "code",
   "execution_count": 21,
   "metadata": {},
   "outputs": [
    {
     "name": "stderr",
     "output_type": "stream",
     "text": [
      "C:\\Users\\vedan\\AppData\\Local\\Programs\\Python\\Python38\\lib\\site-packages\\pandas\\util\\_decorators.py:311: SettingWithCopyWarning: \n",
      "A value is trying to be set on a copy of a slice from a DataFrame\n",
      "\n",
      "See the caveats in the documentation: https://pandas.pydata.org/pandas-docs/stable/user_guide/indexing.html#returning-a-view-versus-a-copy\n",
      "  return func(*args, **kwargs)\n",
      "C:\\Users\\vedan\\AppData\\Local\\Programs\\Python\\Python38\\lib\\site-packages\\pandas\\core\\frame.py:4901: SettingWithCopyWarning: \n",
      "A value is trying to be set on a copy of a slice from a DataFrame\n",
      "\n",
      "See the caveats in the documentation: https://pandas.pydata.org/pandas-docs/stable/user_guide/indexing.html#returning-a-view-versus-a-copy\n",
      "  return super().drop(\n"
     ]
    },
    {
     "data": {
      "text/html": [
       "<div>\n",
       "<style scoped>\n",
       "    .dataframe tbody tr th:only-of-type {\n",
       "        vertical-align: middle;\n",
       "    }\n",
       "\n",
       "    .dataframe tbody tr th {\n",
       "        vertical-align: top;\n",
       "    }\n",
       "\n",
       "    .dataframe thead th {\n",
       "        text-align: right;\n",
       "    }\n",
       "</style>\n",
       "<table border=\"1\" class=\"dataframe\">\n",
       "  <thead>\n",
       "    <tr style=\"text-align: right;\">\n",
       "      <th></th>\n",
       "      <th>Count</th>\n",
       "    </tr>\n",
       "    <tr>\n",
       "      <th>Experience</th>\n",
       "      <th></th>\n",
       "    </tr>\n",
       "  </thead>\n",
       "  <tbody>\n",
       "    <tr>\n",
       "      <th>Land Revenue Mgmt &amp; District Admn</th>\n",
       "      <td>0.390391</td>\n",
       "    </tr>\n",
       "    <tr>\n",
       "      <th>Personnel and General Administration</th>\n",
       "      <td>0.187082</td>\n",
       "    </tr>\n",
       "    <tr>\n",
       "      <th>Finance</th>\n",
       "      <td>0.176901</td>\n",
       "    </tr>\n",
       "    <tr>\n",
       "      <th>Industries</th>\n",
       "      <td>0.125040</td>\n",
       "    </tr>\n",
       "    <tr>\n",
       "      <th>Agriculture &amp; Cooperation</th>\n",
       "      <td>0.120585</td>\n",
       "    </tr>\n",
       "  </tbody>\n",
       "</table>\n",
       "</div>"
      ],
      "text/plain": [
       "                                         Count\n",
       "Experience                                    \n",
       "Land Revenue Mgmt & District Admn     0.390391\n",
       "Personnel and General Administration  0.187082\n",
       "Finance                               0.176901\n",
       "Industries                            0.125040\n",
       "Agriculture & Cooperation             0.120585"
      ]
     },
     "execution_count": 21,
     "metadata": {},
     "output_type": "execute_result"
    }
   ],
   "source": [
    "filter_by_value(df, \"Subject\", \"Governance, Law and Management\", include_admin=False, number_of_rows=5, percentage=True)"
   ]
  },
  {
   "cell_type": "code",
   "execution_count": 25,
   "metadata": {},
   "outputs": [],
   "source": [
    "columns = df.columns"
   ]
  },
  {
   "cell_type": "code",
   "execution_count": 26,
   "metadata": {},
   "outputs": [
    {
     "data": {
      "text/plain": [
       "0"
      ]
     },
     "execution_count": 26,
     "metadata": {},
     "output_type": "execute_result"
    }
   ],
   "source": [
    "columns.get_loc(\"Subject\")"
   ]
  },
  {
   "cell_type": "code",
   "execution_count": 27,
   "metadata": {},
   "outputs": [],
   "source": [
    "def filter_by_value(df, col, value):\n",
    "\n",
    "    df = df.loc[df[col].str.contains(value)]\n",
    "    df = df.drop(columns=[col])\n",
    "    df.set_index(df.columns[0], inplace=True)\n",
    "    df.sort_values([\"Count\"], ascending=False, inplace=True)\n",
    "\n",
    "    return df"
   ]
  },
  {
   "cell_type": "code",
   "execution_count": 28,
   "metadata": {},
   "outputs": [
    {
     "data": {
      "text/plain": [
       "'Social Science and Liberal Arts'"
      ]
     },
     "execution_count": 28,
     "metadata": {},
     "output_type": "execute_result"
    }
   ],
   "source": [
    "df[\"Subject\"].unique()[0]"
   ]
  },
  {
   "cell_type": "code",
   "execution_count": 29,
   "metadata": {},
   "outputs": [
    {
     "data": {
      "text/plain": [
       "Index(['Subject', 'Experience', 'Count'], dtype='object')"
      ]
     },
     "execution_count": 29,
     "metadata": {},
     "output_type": "execute_result"
    }
   ],
   "source": [
    "df.columns"
   ]
  },
  {
   "cell_type": "code",
   "execution_count": 34,
   "metadata": {},
   "outputs": [
    {
     "data": {
      "text/html": [
       "<div>\n",
       "<style scoped>\n",
       "    .dataframe tbody tr th:only-of-type {\n",
       "        vertical-align: middle;\n",
       "    }\n",
       "\n",
       "    .dataframe tbody tr th {\n",
       "        vertical-align: top;\n",
       "    }\n",
       "\n",
       "    .dataframe thead th {\n",
       "        text-align: right;\n",
       "    }\n",
       "</style>\n",
       "<table border=\"1\" class=\"dataframe\">\n",
       "  <thead>\n",
       "    <tr style=\"text-align: right;\">\n",
       "      <th></th>\n",
       "      <th>Count</th>\n",
       "    </tr>\n",
       "    <tr>\n",
       "      <th>Subject</th>\n",
       "      <th></th>\n",
       "    </tr>\n",
       "  </thead>\n",
       "  <tbody>\n",
       "    <tr>\n",
       "      <th>Social Science and Liberal Arts</th>\n",
       "      <td>396</td>\n",
       "    </tr>\n",
       "    <tr>\n",
       "      <th>Governance, Law and Management</th>\n",
       "      <td>305</td>\n",
       "    </tr>\n",
       "    <tr>\n",
       "      <th>Natural Sciences</th>\n",
       "      <td>200</td>\n",
       "    </tr>\n",
       "    <tr>\n",
       "      <th>Engineering, Technology and Mathematics</th>\n",
       "      <td>194</td>\n",
       "    </tr>\n",
       "    <tr>\n",
       "      <th>Languages and Fine Arts</th>\n",
       "      <td>184</td>\n",
       "    </tr>\n",
       "  </tbody>\n",
       "</table>\n",
       "</div>"
      ],
      "text/plain": [
       "                                         Count\n",
       "Subject                                       \n",
       "Social Science and Liberal Arts            396\n",
       "Governance, Law and Management             305\n",
       "Natural Sciences                           200\n",
       "Engineering, Technology and Mathematics    194\n",
       "Languages and Fine Arts                    184"
      ]
     },
     "execution_count": 34,
     "metadata": {},
     "output_type": "execute_result"
    }
   ],
   "source": [
    "filter_by_value(df, \"Experience\", \"Home\").head(5)"
   ]
  },
  {
   "cell_type": "code",
   "execution_count": null,
   "metadata": {},
   "outputs": [],
   "source": []
  }
 ],
 "metadata": {
  "interpreter": {
   "hash": "5a996fcd0cc9522c7bd88855cd731912e7060790d2e9e7ea678aa23453df2f15"
  },
  "kernelspec": {
   "display_name": "Python 3.9.7 64-bit",
   "language": "python",
   "name": "python3"
  },
  "language_info": {
   "codemirror_mode": {
    "name": "ipython",
    "version": 3
   },
   "file_extension": ".py",
   "mimetype": "text/x-python",
   "name": "python",
   "nbconvert_exporter": "python",
   "pygments_lexer": "ipython3",
   "version": "3.8.7"
  },
  "orig_nbformat": 4
 },
 "nbformat": 4,
 "nbformat_minor": 2
}
