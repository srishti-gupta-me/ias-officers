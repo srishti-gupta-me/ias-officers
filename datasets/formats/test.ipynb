{
 "cells": [
  {
   "cell_type": "code",
   "execution_count": 7,
   "source": [
    "import pandas as pd\r\n",
    "df = pd.read_csv(\"new-ias-profile.csv\")"
   ],
   "outputs": [],
   "metadata": {}
  },
  {
   "cell_type": "code",
   "execution_count": 8,
   "source": [
    "def strip_all(item):\r\n",
    "    return str(item).strip()"
   ],
   "outputs": [],
   "metadata": {}
  },
  {
   "cell_type": "code",
   "execution_count": 9,
   "source": [
    "for column in df.columns:\r\n",
    "    df[column] = df[column].map(strip_all)"
   ],
   "outputs": [],
   "metadata": {}
  },
  {
   "cell_type": "code",
   "execution_count": 13,
   "source": [
    "import re\r\n",
    "def convert_date(item):\r\n",
    "    try:\r\n",
    "        splits = re.findall(r\"\\d{2}-\\d{2}-\\d{4}\", str(item))[0].split(\"-\")\r\n",
    "    except:\r\n",
    "        return item\r\n",
    "    if len(splits) > 0:\r\n",
    "        return f\"{splits[2]}-{splits[1]}-{splits[0]}\""
   ],
   "outputs": [],
   "metadata": {}
  },
  {
   "cell_type": "code",
   "execution_count": 18,
   "source": [
    "df.columns"
   ],
   "outputs": [
    {
     "output_type": "execute_result",
     "data": {
      "text/plain": [
       "Index(['ID', 'Name', 'Service', 'Cadre', 'Allotment_Year', 'Date_of_Birth',\n",
       "       'Date_of_Joining', 'Source_of_Recruitment', 'Gender',\n",
       "       'Place_of_Domicile', 'Mother_Tongue', 'Languages_Known', 'Retired',\n",
       "       'Retirement_Reason', 'Source', 'Last_Education_Qualification',\n",
       "       'Last_Education_Subject', 'Last_Education_Division', 'Last_Designation',\n",
       "       'Last_Level', 'Last_Office', 'Last_Organisation',\n",
       "       'Last_Field_of_Experience', 'Last_Category_of_Experience',\n",
       "       'Last_Start_Date', 'Last_End_Date'],\n",
       "      dtype='object')"
      ]
     },
     "metadata": {},
     "execution_count": 18
    }
   ],
   "metadata": {}
  },
  {
   "cell_type": "code",
   "execution_count": 21,
   "source": [
    "for column in df.columns:\r\n",
    "    df[column] = df[column].map(convert_date)"
   ],
   "outputs": [],
   "metadata": {}
  },
  {
   "cell_type": "code",
   "execution_count": 23,
   "source": [
    "df.to_csv(\"temp.csv\", index=False)"
   ],
   "outputs": [],
   "metadata": {}
  },
  {
   "cell_type": "code",
   "execution_count": 37,
   "source": [
    "lines = []\r\n",
    "with open(\"ias-json.json\", \"r\") as j_file:\r\n",
    "    for line in j_file:\r\n",
    "        lines.append(line)"
   ],
   "outputs": [],
   "metadata": {}
  },
  {
   "cell_type": "code",
   "execution_count": 45,
   "source": [
    "def clean_dates(item):\r\n",
    "    try:\r\n",
    "        return re.findall(r\"\\d{2}/\\d{2}/\\d{4}\", str(item))[0].replace(\"/\", \"-\")\r\n",
    "    except:\r\n",
    "        return item"
   ],
   "outputs": [],
   "metadata": {}
  },
  {
   "cell_type": "code",
   "execution_count": 46,
   "source": [
    "new_list = []\r\n",
    "for i in range(len(lines)):\r\n",
    "    lines[i] = clean_dates(lines[i])"
   ],
   "outputs": [],
   "metadata": {}
  },
  {
   "cell_type": "code",
   "execution_count": 48,
   "source": [
    "with open(\"temp_json.json\", \"w\") as output:\r\n",
    "    output.writelines(lines)"
   ],
   "outputs": [],
   "metadata": {}
  },
  {
   "cell_type": "code",
   "execution_count": null,
   "source": [],
   "outputs": [],
   "metadata": {}
  }
 ],
 "metadata": {
  "orig_nbformat": 4,
  "language_info": {
   "name": "python",
   "version": "3.8.7",
   "mimetype": "text/x-python",
   "codemirror_mode": {
    "name": "ipython",
    "version": 3
   },
   "pygments_lexer": "ipython3",
   "nbconvert_exporter": "python",
   "file_extension": ".py"
  },
  "kernelspec": {
   "name": "python3",
   "display_name": "Python 3.8.7 64-bit"
  },
  "interpreter": {
   "hash": "94edbaacddaafd6d45ba5506bea1ce8a371c01e0c71d6cc8e1f8803236d6de55"
  }
 },
 "nbformat": 4,
 "nbformat_minor": 2
}